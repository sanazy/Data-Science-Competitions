{
  "nbformat": 4,
  "nbformat_minor": 0,
  "metadata": {
    "colab": {
      "name": "codecup5-2.ipynb",
      "provenance": [],
      "collapsed_sections": []
    },
    "kernelspec": {
      "name": "python3",
      "display_name": "Python 3"
    }
  },
  "cells": [
    {
      "cell_type": "code",
      "metadata": {
        "id": "l-ZXAhQdmQXp",
        "colab": {
          "base_uri": "https://localhost:8080/"
        },
        "outputId": "9429b02e-f4a8-4780-f725-a6c371ff49c2"
      },
      "source": [
        "import math\n",
        "import numpy as np\n",
        "import pandas as pd\n",
        "import matplotlib.pyplot as plt\n",
        "from datetime import datetime\n",
        "import os \n",
        "import tensorflow as tf\n",
        "from sklearn.metrics import mean_squared_error, mean_absolute_error\n",
        "from sklearn.preprocessing import MinMaxScaler\n",
        "from keras.models import Sequential\n",
        "from keras.layers import Dense, LSTM, Dropout, GRU, Bidirectional\n",
        "from keras.optimizers import SGD\n",
        "from sklearn.metrics import mean_squared_error\n",
        "from fbprophet import Prophet\n",
        "from fbprophet.plot import plot_plotly\n",
        "import numpy as np\n",
        "import pandas as pd\n",
        "import matplotlib.pyplot as plt\n",
        "import plotly.offline as py\n",
        "import seaborn as sns\n",
        "from datetime import datetime\n",
        "from sklearn.metrics import mean_squared_error, mean_absolute_error\n",
        "!pip install jdatetime\n",
        "import jdatetime\n",
        "from datetime import datetime"
      ],
      "execution_count": null,
      "outputs": [
        {
          "output_type": "stream",
          "text": [
            "Requirement already satisfied: jdatetime in /usr/local/lib/python3.6/dist-packages (3.6.2)\n"
          ],
          "name": "stdout"
        }
      ]
    },
    {
      "cell_type": "markdown",
      "metadata": {
        "id": "45oYBYkkBrMz"
      },
      "source": [
        "***\n",
        "Train and test set"
      ]
    },
    {
      "cell_type": "code",
      "metadata": {
        "colab": {
          "base_uri": "https://localhost:8080/",
          "height": 195
        },
        "id": "sB4IWccJApDO",
        "outputId": "11bf2379-37a4-4c9b-8b6d-da78719eefd2"
      },
      "source": [
        "df_train = pd.read_csv('train.csv')\n",
        "df_test  = pd.read_csv('output.csv')\n",
        "df = pd.concat([df_train, df_test], axis = 0, ignore_index=True)\n",
        "df.head()"
      ],
      "execution_count": null,
      "outputs": [
        {
          "output_type": "execute_result",
          "data": {
            "text/html": [
              "<div>\n",
              "<style scoped>\n",
              "    .dataframe tbody tr th:only-of-type {\n",
              "        vertical-align: middle;\n",
              "    }\n",
              "\n",
              "    .dataframe tbody tr th {\n",
              "        vertical-align: top;\n",
              "    }\n",
              "\n",
              "    .dataframe thead th {\n",
              "        text-align: right;\n",
              "    }\n",
              "</style>\n",
              "<table border=\"1\" class=\"dataframe\">\n",
              "  <thead>\n",
              "    <tr style=\"text-align: right;\">\n",
              "      <th></th>\n",
              "      <th>date</th>\n",
              "      <th>sale</th>\n",
              "    </tr>\n",
              "  </thead>\n",
              "  <tbody>\n",
              "    <tr>\n",
              "      <th>0</th>\n",
              "      <td>1399-05-30</td>\n",
              "      <td>384.0</td>\n",
              "    </tr>\n",
              "    <tr>\n",
              "      <th>1</th>\n",
              "      <td>1399-05-31</td>\n",
              "      <td>393.0</td>\n",
              "    </tr>\n",
              "    <tr>\n",
              "      <th>2</th>\n",
              "      <td>1399-06-01</td>\n",
              "      <td>414.0</td>\n",
              "    </tr>\n",
              "    <tr>\n",
              "      <th>3</th>\n",
              "      <td>1399-06-02</td>\n",
              "      <td>410.0</td>\n",
              "    </tr>\n",
              "    <tr>\n",
              "      <th>4</th>\n",
              "      <td>1399-06-03</td>\n",
              "      <td>398.0</td>\n",
              "    </tr>\n",
              "  </tbody>\n",
              "</table>\n",
              "</div>"
            ],
            "text/plain": [
              "         date   sale\n",
              "0  1399-05-30  384.0\n",
              "1  1399-05-31  393.0\n",
              "2  1399-06-01  414.0\n",
              "3  1399-06-02  410.0\n",
              "4  1399-06-03  398.0"
            ]
          },
          "metadata": {
            "tags": []
          },
          "execution_count": 2
        }
      ]
    },
    {
      "cell_type": "code",
      "metadata": {
        "colab": {
          "base_uri": "https://localhost:8080/",
          "height": 195
        },
        "id": "A929RMLNArom",
        "outputId": "57523d9d-5bf0-4e1d-80d8-e931b0ab3fba"
      },
      "source": [
        "df = pd.concat([df['date'].str.split('-', expand=True), \n",
        "                df['sale']], \n",
        "               axis=1)\n",
        "\n",
        "df.columns = ['year', 'month', 'day', 'sale']\n",
        "df.tail()"
      ],
      "execution_count": null,
      "outputs": [
        {
          "output_type": "execute_result",
          "data": {
            "text/html": [
              "<div>\n",
              "<style scoped>\n",
              "    .dataframe tbody tr th:only-of-type {\n",
              "        vertical-align: middle;\n",
              "    }\n",
              "\n",
              "    .dataframe tbody tr th {\n",
              "        vertical-align: top;\n",
              "    }\n",
              "\n",
              "    .dataframe thead th {\n",
              "        text-align: right;\n",
              "    }\n",
              "</style>\n",
              "<table border=\"1\" class=\"dataframe\">\n",
              "  <thead>\n",
              "    <tr style=\"text-align: right;\">\n",
              "      <th></th>\n",
              "      <th>year</th>\n",
              "      <th>month</th>\n",
              "      <th>day</th>\n",
              "      <th>sale</th>\n",
              "    </tr>\n",
              "  </thead>\n",
              "  <tbody>\n",
              "    <tr>\n",
              "      <th>139</th>\n",
              "      <td>1399</td>\n",
              "      <td>10</td>\n",
              "      <td>17</td>\n",
              "      <td>NaN</td>\n",
              "    </tr>\n",
              "    <tr>\n",
              "      <th>140</th>\n",
              "      <td>1399</td>\n",
              "      <td>10</td>\n",
              "      <td>18</td>\n",
              "      <td>NaN</td>\n",
              "    </tr>\n",
              "    <tr>\n",
              "      <th>141</th>\n",
              "      <td>1399</td>\n",
              "      <td>10</td>\n",
              "      <td>19</td>\n",
              "      <td>NaN</td>\n",
              "    </tr>\n",
              "    <tr>\n",
              "      <th>142</th>\n",
              "      <td>1399</td>\n",
              "      <td>10</td>\n",
              "      <td>20</td>\n",
              "      <td>NaN</td>\n",
              "    </tr>\n",
              "    <tr>\n",
              "      <th>143</th>\n",
              "      <td>1399</td>\n",
              "      <td>10</td>\n",
              "      <td>21</td>\n",
              "      <td>NaN</td>\n",
              "    </tr>\n",
              "  </tbody>\n",
              "</table>\n",
              "</div>"
            ],
            "text/plain": [
              "     year month day  sale\n",
              "139  1399    10  17   NaN\n",
              "140  1399    10  18   NaN\n",
              "141  1399    10  19   NaN\n",
              "142  1399    10  20   NaN\n",
              "143  1399    10  21   NaN"
            ]
          },
          "metadata": {
            "tags": []
          },
          "execution_count": 3
        }
      ]
    },
    {
      "cell_type": "code",
      "metadata": {
        "colab": {
          "base_uri": "https://localhost:8080/",
          "height": 333
        },
        "id": "h7Nx1UavAuhl",
        "outputId": "8512db19-4cbe-4892-ec52-94f00f374c99"
      },
      "source": [
        "df['date'] = ''\n",
        "for i in range(0,df.shape[0]): \n",
        "  df['date'][i] = jdatetime.date(int(df['year'][i]),\n",
        "                                 int(df['month'][i]),\n",
        "                                 int(df['day'][i])\n",
        "                                 ).togregorian()\n",
        "df.head()"
      ],
      "execution_count": null,
      "outputs": [
        {
          "output_type": "stream",
          "text": [
            "/usr/local/lib/python3.6/dist-packages/ipykernel_launcher.py:5: SettingWithCopyWarning:\n",
            "\n",
            "\n",
            "A value is trying to be set on a copy of a slice from a DataFrame\n",
            "\n",
            "See the caveats in the documentation: https://pandas.pydata.org/pandas-docs/stable/user_guide/indexing.html#returning-a-view-versus-a-copy\n",
            "\n"
          ],
          "name": "stderr"
        },
        {
          "output_type": "execute_result",
          "data": {
            "text/html": [
              "<div>\n",
              "<style scoped>\n",
              "    .dataframe tbody tr th:only-of-type {\n",
              "        vertical-align: middle;\n",
              "    }\n",
              "\n",
              "    .dataframe tbody tr th {\n",
              "        vertical-align: top;\n",
              "    }\n",
              "\n",
              "    .dataframe thead th {\n",
              "        text-align: right;\n",
              "    }\n",
              "</style>\n",
              "<table border=\"1\" class=\"dataframe\">\n",
              "  <thead>\n",
              "    <tr style=\"text-align: right;\">\n",
              "      <th></th>\n",
              "      <th>year</th>\n",
              "      <th>month</th>\n",
              "      <th>day</th>\n",
              "      <th>sale</th>\n",
              "      <th>date</th>\n",
              "    </tr>\n",
              "  </thead>\n",
              "  <tbody>\n",
              "    <tr>\n",
              "      <th>0</th>\n",
              "      <td>1399</td>\n",
              "      <td>05</td>\n",
              "      <td>30</td>\n",
              "      <td>384.0</td>\n",
              "      <td>2020-08-20</td>\n",
              "    </tr>\n",
              "    <tr>\n",
              "      <th>1</th>\n",
              "      <td>1399</td>\n",
              "      <td>05</td>\n",
              "      <td>31</td>\n",
              "      <td>393.0</td>\n",
              "      <td>2020-08-21</td>\n",
              "    </tr>\n",
              "    <tr>\n",
              "      <th>2</th>\n",
              "      <td>1399</td>\n",
              "      <td>06</td>\n",
              "      <td>01</td>\n",
              "      <td>414.0</td>\n",
              "      <td>2020-08-22</td>\n",
              "    </tr>\n",
              "    <tr>\n",
              "      <th>3</th>\n",
              "      <td>1399</td>\n",
              "      <td>06</td>\n",
              "      <td>02</td>\n",
              "      <td>410.0</td>\n",
              "      <td>2020-08-23</td>\n",
              "    </tr>\n",
              "    <tr>\n",
              "      <th>4</th>\n",
              "      <td>1399</td>\n",
              "      <td>06</td>\n",
              "      <td>03</td>\n",
              "      <td>398.0</td>\n",
              "      <td>2020-08-24</td>\n",
              "    </tr>\n",
              "  </tbody>\n",
              "</table>\n",
              "</div>"
            ],
            "text/plain": [
              "   year month day   sale        date\n",
              "0  1399    05  30  384.0  2020-08-20\n",
              "1  1399    05  31  393.0  2020-08-21\n",
              "2  1399    06  01  414.0  2020-08-22\n",
              "3  1399    06  02  410.0  2020-08-23\n",
              "4  1399    06  03  398.0  2020-08-24"
            ]
          },
          "metadata": {
            "tags": []
          },
          "execution_count": 4
        }
      ]
    },
    {
      "cell_type": "code",
      "metadata": {
        "colab": {
          "base_uri": "https://localhost:8080/"
        },
        "id": "0Q3sFk52Dlb2",
        "outputId": "f4c80169-da60-4276-aa42-dddc37c9e1ad"
      },
      "source": [
        "df.dtypes"
      ],
      "execution_count": null,
      "outputs": [
        {
          "output_type": "execute_result",
          "data": {
            "text/plain": [
              "year      object\n",
              "month     object\n",
              "day       object\n",
              "sale     float64\n",
              "date      object\n",
              "dtype: object"
            ]
          },
          "metadata": {
            "tags": []
          },
          "execution_count": 5
        }
      ]
    },
    {
      "cell_type": "code",
      "metadata": {
        "colab": {
          "base_uri": "https://localhost:8080/",
          "height": 282
        },
        "id": "TyzDpyrgCXAl",
        "outputId": "242c95fd-dd81-47eb-abc0-9586987df073"
      },
      "source": [
        "df['date'] = pd.to_datetime(df['date'])\n",
        "df['dayofweek'] = df['date'].dt.dayofweek\n",
        "df['quarter'] = df['date'].dt.quarter\n",
        "df['month'] = df['date'].dt.month\n",
        "df['year'] = df['date'].dt.year\n",
        "df['dayofyear'] = df['date'].dt.dayofyear\n",
        "df['dayofmonth'] = df['date'].dt.day\n",
        "df['weekofyear'] = df['date'].dt.weekofyear\n",
        "df.head()"
      ],
      "execution_count": null,
      "outputs": [
        {
          "output_type": "stream",
          "text": [
            "/usr/local/lib/python3.6/dist-packages/ipykernel_launcher.py:8: FutureWarning:\n",
            "\n",
            "Series.dt.weekofyear and Series.dt.week have been deprecated.  Please use Series.dt.isocalendar().week instead.\n",
            "\n"
          ],
          "name": "stderr"
        },
        {
          "output_type": "execute_result",
          "data": {
            "text/html": [
              "<div>\n",
              "<style scoped>\n",
              "    .dataframe tbody tr th:only-of-type {\n",
              "        vertical-align: middle;\n",
              "    }\n",
              "\n",
              "    .dataframe tbody tr th {\n",
              "        vertical-align: top;\n",
              "    }\n",
              "\n",
              "    .dataframe thead th {\n",
              "        text-align: right;\n",
              "    }\n",
              "</style>\n",
              "<table border=\"1\" class=\"dataframe\">\n",
              "  <thead>\n",
              "    <tr style=\"text-align: right;\">\n",
              "      <th></th>\n",
              "      <th>year</th>\n",
              "      <th>month</th>\n",
              "      <th>day</th>\n",
              "      <th>sale</th>\n",
              "      <th>date</th>\n",
              "      <th>dayofweek</th>\n",
              "      <th>quarter</th>\n",
              "      <th>dayofyear</th>\n",
              "      <th>dayofmonth</th>\n",
              "      <th>weekofyear</th>\n",
              "    </tr>\n",
              "  </thead>\n",
              "  <tbody>\n",
              "    <tr>\n",
              "      <th>0</th>\n",
              "      <td>2020</td>\n",
              "      <td>8</td>\n",
              "      <td>30</td>\n",
              "      <td>384.0</td>\n",
              "      <td>2020-08-20</td>\n",
              "      <td>3</td>\n",
              "      <td>3</td>\n",
              "      <td>233</td>\n",
              "      <td>20</td>\n",
              "      <td>34</td>\n",
              "    </tr>\n",
              "    <tr>\n",
              "      <th>1</th>\n",
              "      <td>2020</td>\n",
              "      <td>8</td>\n",
              "      <td>31</td>\n",
              "      <td>393.0</td>\n",
              "      <td>2020-08-21</td>\n",
              "      <td>4</td>\n",
              "      <td>3</td>\n",
              "      <td>234</td>\n",
              "      <td>21</td>\n",
              "      <td>34</td>\n",
              "    </tr>\n",
              "    <tr>\n",
              "      <th>2</th>\n",
              "      <td>2020</td>\n",
              "      <td>8</td>\n",
              "      <td>01</td>\n",
              "      <td>414.0</td>\n",
              "      <td>2020-08-22</td>\n",
              "      <td>5</td>\n",
              "      <td>3</td>\n",
              "      <td>235</td>\n",
              "      <td>22</td>\n",
              "      <td>34</td>\n",
              "    </tr>\n",
              "    <tr>\n",
              "      <th>3</th>\n",
              "      <td>2020</td>\n",
              "      <td>8</td>\n",
              "      <td>02</td>\n",
              "      <td>410.0</td>\n",
              "      <td>2020-08-23</td>\n",
              "      <td>6</td>\n",
              "      <td>3</td>\n",
              "      <td>236</td>\n",
              "      <td>23</td>\n",
              "      <td>34</td>\n",
              "    </tr>\n",
              "    <tr>\n",
              "      <th>4</th>\n",
              "      <td>2020</td>\n",
              "      <td>8</td>\n",
              "      <td>03</td>\n",
              "      <td>398.0</td>\n",
              "      <td>2020-08-24</td>\n",
              "      <td>0</td>\n",
              "      <td>3</td>\n",
              "      <td>237</td>\n",
              "      <td>24</td>\n",
              "      <td>35</td>\n",
              "    </tr>\n",
              "  </tbody>\n",
              "</table>\n",
              "</div>"
            ],
            "text/plain": [
              "   year  month day   sale  ... quarter  dayofyear  dayofmonth  weekofyear\n",
              "0  2020      8  30  384.0  ...       3        233          20          34\n",
              "1  2020      8  31  393.0  ...       3        234          21          34\n",
              "2  2020      8  01  414.0  ...       3        235          22          34\n",
              "3  2020      8  02  410.0  ...       3        236          23          34\n",
              "4  2020      8  03  398.0  ...       3        237          24          35\n",
              "\n",
              "[5 rows x 10 columns]"
            ]
          },
          "metadata": {
            "tags": []
          },
          "execution_count": 6
        }
      ]
    },
    {
      "cell_type": "code",
      "metadata": {
        "colab": {
          "base_uri": "https://localhost:8080/",
          "height": 195
        },
        "id": "ZxG-DHPrAwO8",
        "outputId": "2d7543ef-96f3-4040-b8df-46b0d58f8ebb"
      },
      "source": [
        "df.drop(['date'], axis =1, inplace=True)\n",
        "df.head()"
      ],
      "execution_count": null,
      "outputs": [
        {
          "output_type": "execute_result",
          "data": {
            "text/html": [
              "<div>\n",
              "<style scoped>\n",
              "    .dataframe tbody tr th:only-of-type {\n",
              "        vertical-align: middle;\n",
              "    }\n",
              "\n",
              "    .dataframe tbody tr th {\n",
              "        vertical-align: top;\n",
              "    }\n",
              "\n",
              "    .dataframe thead th {\n",
              "        text-align: right;\n",
              "    }\n",
              "</style>\n",
              "<table border=\"1\" class=\"dataframe\">\n",
              "  <thead>\n",
              "    <tr style=\"text-align: right;\">\n",
              "      <th></th>\n",
              "      <th>year</th>\n",
              "      <th>month</th>\n",
              "      <th>day</th>\n",
              "      <th>sale</th>\n",
              "      <th>dayofweek</th>\n",
              "      <th>quarter</th>\n",
              "      <th>dayofyear</th>\n",
              "      <th>dayofmonth</th>\n",
              "      <th>weekofyear</th>\n",
              "    </tr>\n",
              "  </thead>\n",
              "  <tbody>\n",
              "    <tr>\n",
              "      <th>0</th>\n",
              "      <td>2020</td>\n",
              "      <td>8</td>\n",
              "      <td>30</td>\n",
              "      <td>384.0</td>\n",
              "      <td>3</td>\n",
              "      <td>3</td>\n",
              "      <td>233</td>\n",
              "      <td>20</td>\n",
              "      <td>34</td>\n",
              "    </tr>\n",
              "    <tr>\n",
              "      <th>1</th>\n",
              "      <td>2020</td>\n",
              "      <td>8</td>\n",
              "      <td>31</td>\n",
              "      <td>393.0</td>\n",
              "      <td>4</td>\n",
              "      <td>3</td>\n",
              "      <td>234</td>\n",
              "      <td>21</td>\n",
              "      <td>34</td>\n",
              "    </tr>\n",
              "    <tr>\n",
              "      <th>2</th>\n",
              "      <td>2020</td>\n",
              "      <td>8</td>\n",
              "      <td>01</td>\n",
              "      <td>414.0</td>\n",
              "      <td>5</td>\n",
              "      <td>3</td>\n",
              "      <td>235</td>\n",
              "      <td>22</td>\n",
              "      <td>34</td>\n",
              "    </tr>\n",
              "    <tr>\n",
              "      <th>3</th>\n",
              "      <td>2020</td>\n",
              "      <td>8</td>\n",
              "      <td>02</td>\n",
              "      <td>410.0</td>\n",
              "      <td>6</td>\n",
              "      <td>3</td>\n",
              "      <td>236</td>\n",
              "      <td>23</td>\n",
              "      <td>34</td>\n",
              "    </tr>\n",
              "    <tr>\n",
              "      <th>4</th>\n",
              "      <td>2020</td>\n",
              "      <td>8</td>\n",
              "      <td>03</td>\n",
              "      <td>398.0</td>\n",
              "      <td>0</td>\n",
              "      <td>3</td>\n",
              "      <td>237</td>\n",
              "      <td>24</td>\n",
              "      <td>35</td>\n",
              "    </tr>\n",
              "  </tbody>\n",
              "</table>\n",
              "</div>"
            ],
            "text/plain": [
              "   year  month day   sale  ...  quarter  dayofyear  dayofmonth  weekofyear\n",
              "0  2020      8  30  384.0  ...        3        233          20          34\n",
              "1  2020      8  31  393.0  ...        3        234          21          34\n",
              "2  2020      8  01  414.0  ...        3        235          22          34\n",
              "3  2020      8  02  410.0  ...        3        236          23          34\n",
              "4  2020      8  03  398.0  ...        3        237          24          35\n",
              "\n",
              "[5 rows x 9 columns]"
            ]
          },
          "metadata": {
            "tags": []
          },
          "execution_count": 7
        }
      ]
    },
    {
      "cell_type": "code",
      "metadata": {
        "colab": {
          "base_uri": "https://localhost:8080/",
          "height": 195
        },
        "id": "aT6y2P4ZGT80",
        "outputId": "9e4a68cf-cbd2-46bb-ea13-94b904b2e4e2"
      },
      "source": [
        "cols = [col for col in df if col != 'sale'] \n",
        "df = df[cols + ['sale']]\n",
        "df.head()"
      ],
      "execution_count": null,
      "outputs": [
        {
          "output_type": "execute_result",
          "data": {
            "text/html": [
              "<div>\n",
              "<style scoped>\n",
              "    .dataframe tbody tr th:only-of-type {\n",
              "        vertical-align: middle;\n",
              "    }\n",
              "\n",
              "    .dataframe tbody tr th {\n",
              "        vertical-align: top;\n",
              "    }\n",
              "\n",
              "    .dataframe thead th {\n",
              "        text-align: right;\n",
              "    }\n",
              "</style>\n",
              "<table border=\"1\" class=\"dataframe\">\n",
              "  <thead>\n",
              "    <tr style=\"text-align: right;\">\n",
              "      <th></th>\n",
              "      <th>year</th>\n",
              "      <th>month</th>\n",
              "      <th>day</th>\n",
              "      <th>dayofweek</th>\n",
              "      <th>quarter</th>\n",
              "      <th>dayofyear</th>\n",
              "      <th>dayofmonth</th>\n",
              "      <th>weekofyear</th>\n",
              "      <th>sale</th>\n",
              "    </tr>\n",
              "  </thead>\n",
              "  <tbody>\n",
              "    <tr>\n",
              "      <th>0</th>\n",
              "      <td>2020</td>\n",
              "      <td>8</td>\n",
              "      <td>30</td>\n",
              "      <td>3</td>\n",
              "      <td>3</td>\n",
              "      <td>233</td>\n",
              "      <td>20</td>\n",
              "      <td>34</td>\n",
              "      <td>384.0</td>\n",
              "    </tr>\n",
              "    <tr>\n",
              "      <th>1</th>\n",
              "      <td>2020</td>\n",
              "      <td>8</td>\n",
              "      <td>31</td>\n",
              "      <td>4</td>\n",
              "      <td>3</td>\n",
              "      <td>234</td>\n",
              "      <td>21</td>\n",
              "      <td>34</td>\n",
              "      <td>393.0</td>\n",
              "    </tr>\n",
              "    <tr>\n",
              "      <th>2</th>\n",
              "      <td>2020</td>\n",
              "      <td>8</td>\n",
              "      <td>01</td>\n",
              "      <td>5</td>\n",
              "      <td>3</td>\n",
              "      <td>235</td>\n",
              "      <td>22</td>\n",
              "      <td>34</td>\n",
              "      <td>414.0</td>\n",
              "    </tr>\n",
              "    <tr>\n",
              "      <th>3</th>\n",
              "      <td>2020</td>\n",
              "      <td>8</td>\n",
              "      <td>02</td>\n",
              "      <td>6</td>\n",
              "      <td>3</td>\n",
              "      <td>236</td>\n",
              "      <td>23</td>\n",
              "      <td>34</td>\n",
              "      <td>410.0</td>\n",
              "    </tr>\n",
              "    <tr>\n",
              "      <th>4</th>\n",
              "      <td>2020</td>\n",
              "      <td>8</td>\n",
              "      <td>03</td>\n",
              "      <td>0</td>\n",
              "      <td>3</td>\n",
              "      <td>237</td>\n",
              "      <td>24</td>\n",
              "      <td>35</td>\n",
              "      <td>398.0</td>\n",
              "    </tr>\n",
              "  </tbody>\n",
              "</table>\n",
              "</div>"
            ],
            "text/plain": [
              "   year  month day  dayofweek  ...  dayofyear  dayofmonth  weekofyear   sale\n",
              "0  2020      8  30          3  ...        233          20          34  384.0\n",
              "1  2020      8  31          4  ...        234          21          34  393.0\n",
              "2  2020      8  01          5  ...        235          22          34  414.0\n",
              "3  2020      8  02          6  ...        236          23          34  410.0\n",
              "4  2020      8  03          0  ...        237          24          35  398.0\n",
              "\n",
              "[5 rows x 9 columns]"
            ]
          },
          "metadata": {
            "tags": []
          },
          "execution_count": 8
        }
      ]
    },
    {
      "cell_type": "markdown",
      "metadata": {
        "id": "11heT-0JBm9S"
      },
      "source": [
        "***\n",
        "Model"
      ]
    },
    {
      "cell_type": "code",
      "metadata": {
        "id": "-kEIRJ8NRjSN"
      },
      "source": [
        "first_row = df_train.shape[0]\n",
        "train_set = df[0:first_row]"
      ],
      "execution_count": null,
      "outputs": []
    },
    {
      "cell_type": "code",
      "metadata": {
        "colab": {
          "base_uri": "https://localhost:8080/",
          "height": 195
        },
        "id": "1jZLtfhqRo4t",
        "outputId": "872635bb-6c14-4fec-bcd7-0fd9cc373aad"
      },
      "source": [
        "train_set.head()"
      ],
      "execution_count": null,
      "outputs": [
        {
          "output_type": "execute_result",
          "data": {
            "text/html": [
              "<div>\n",
              "<style scoped>\n",
              "    .dataframe tbody tr th:only-of-type {\n",
              "        vertical-align: middle;\n",
              "    }\n",
              "\n",
              "    .dataframe tbody tr th {\n",
              "        vertical-align: top;\n",
              "    }\n",
              "\n",
              "    .dataframe thead th {\n",
              "        text-align: right;\n",
              "    }\n",
              "</style>\n",
              "<table border=\"1\" class=\"dataframe\">\n",
              "  <thead>\n",
              "    <tr style=\"text-align: right;\">\n",
              "      <th></th>\n",
              "      <th>year</th>\n",
              "      <th>month</th>\n",
              "      <th>day</th>\n",
              "      <th>dayofweek</th>\n",
              "      <th>quarter</th>\n",
              "      <th>dayofyear</th>\n",
              "      <th>dayofmonth</th>\n",
              "      <th>weekofyear</th>\n",
              "      <th>sale</th>\n",
              "    </tr>\n",
              "  </thead>\n",
              "  <tbody>\n",
              "    <tr>\n",
              "      <th>0</th>\n",
              "      <td>2020</td>\n",
              "      <td>8</td>\n",
              "      <td>30</td>\n",
              "      <td>3</td>\n",
              "      <td>3</td>\n",
              "      <td>233</td>\n",
              "      <td>20</td>\n",
              "      <td>34</td>\n",
              "      <td>384.0</td>\n",
              "    </tr>\n",
              "    <tr>\n",
              "      <th>1</th>\n",
              "      <td>2020</td>\n",
              "      <td>8</td>\n",
              "      <td>31</td>\n",
              "      <td>4</td>\n",
              "      <td>3</td>\n",
              "      <td>234</td>\n",
              "      <td>21</td>\n",
              "      <td>34</td>\n",
              "      <td>393.0</td>\n",
              "    </tr>\n",
              "    <tr>\n",
              "      <th>2</th>\n",
              "      <td>2020</td>\n",
              "      <td>8</td>\n",
              "      <td>01</td>\n",
              "      <td>5</td>\n",
              "      <td>3</td>\n",
              "      <td>235</td>\n",
              "      <td>22</td>\n",
              "      <td>34</td>\n",
              "      <td>414.0</td>\n",
              "    </tr>\n",
              "    <tr>\n",
              "      <th>3</th>\n",
              "      <td>2020</td>\n",
              "      <td>8</td>\n",
              "      <td>02</td>\n",
              "      <td>6</td>\n",
              "      <td>3</td>\n",
              "      <td>236</td>\n",
              "      <td>23</td>\n",
              "      <td>34</td>\n",
              "      <td>410.0</td>\n",
              "    </tr>\n",
              "    <tr>\n",
              "      <th>4</th>\n",
              "      <td>2020</td>\n",
              "      <td>8</td>\n",
              "      <td>03</td>\n",
              "      <td>0</td>\n",
              "      <td>3</td>\n",
              "      <td>237</td>\n",
              "      <td>24</td>\n",
              "      <td>35</td>\n",
              "      <td>398.0</td>\n",
              "    </tr>\n",
              "  </tbody>\n",
              "</table>\n",
              "</div>"
            ],
            "text/plain": [
              "   year  month day  dayofweek  ...  dayofyear  dayofmonth  weekofyear   sale\n",
              "0  2020      8  30          3  ...        233          20          34  384.0\n",
              "1  2020      8  31          4  ...        234          21          34  393.0\n",
              "2  2020      8  01          5  ...        235          22          34  414.0\n",
              "3  2020      8  02          6  ...        236          23          34  410.0\n",
              "4  2020      8  03          0  ...        237          24          35  398.0\n",
              "\n",
              "[5 rows x 9 columns]"
            ]
          },
          "metadata": {
            "tags": []
          },
          "execution_count": 10
        }
      ]
    },
    {
      "cell_type": "code",
      "metadata": {
        "colab": {
          "base_uri": "https://localhost:8080/",
          "height": 106
        },
        "id": "B0fAbnmVGKpd",
        "outputId": "f07115a0-3497-49f6-e715-17636c607684"
      },
      "source": [
        "# Scaling the training set\n",
        "scaler = MinMaxScaler(feature_range=(0,1))\n",
        "train_set_scaled = pd.DataFrame(scaler.fit_transform(train_set), columns=cols + ['sale'])\n",
        "train_set_scaled.head(2)"
      ],
      "execution_count": null,
      "outputs": [
        {
          "output_type": "execute_result",
          "data": {
            "text/html": [
              "<div>\n",
              "<style scoped>\n",
              "    .dataframe tbody tr th:only-of-type {\n",
              "        vertical-align: middle;\n",
              "    }\n",
              "\n",
              "    .dataframe tbody tr th {\n",
              "        vertical-align: top;\n",
              "    }\n",
              "\n",
              "    .dataframe thead th {\n",
              "        text-align: right;\n",
              "    }\n",
              "</style>\n",
              "<table border=\"1\" class=\"dataframe\">\n",
              "  <thead>\n",
              "    <tr style=\"text-align: right;\">\n",
              "      <th></th>\n",
              "      <th>year</th>\n",
              "      <th>month</th>\n",
              "      <th>day</th>\n",
              "      <th>dayofweek</th>\n",
              "      <th>quarter</th>\n",
              "      <th>dayofyear</th>\n",
              "      <th>dayofmonth</th>\n",
              "      <th>weekofyear</th>\n",
              "      <th>sale</th>\n",
              "    </tr>\n",
              "  </thead>\n",
              "  <tbody>\n",
              "    <tr>\n",
              "      <th>0</th>\n",
              "      <td>0.0</td>\n",
              "      <td>0.0</td>\n",
              "      <td>0.966667</td>\n",
              "      <td>0.500000</td>\n",
              "      <td>0.0</td>\n",
              "      <td>0.00000</td>\n",
              "      <td>0.633333</td>\n",
              "      <td>0.0</td>\n",
              "      <td>0.409091</td>\n",
              "    </tr>\n",
              "    <tr>\n",
              "      <th>1</th>\n",
              "      <td>0.0</td>\n",
              "      <td>0.0</td>\n",
              "      <td>1.000000</td>\n",
              "      <td>0.666667</td>\n",
              "      <td>0.0</td>\n",
              "      <td>0.00885</td>\n",
              "      <td>0.666667</td>\n",
              "      <td>0.0</td>\n",
              "      <td>0.436364</td>\n",
              "    </tr>\n",
              "  </tbody>\n",
              "</table>\n",
              "</div>"
            ],
            "text/plain": [
              "   year  month       day  ...  dayofmonth  weekofyear      sale\n",
              "0   0.0    0.0  0.966667  ...    0.633333         0.0  0.409091\n",
              "1   0.0    0.0  1.000000  ...    0.666667         0.0  0.436364\n",
              "\n",
              "[2 rows x 9 columns]"
            ]
          },
          "metadata": {
            "tags": []
          },
          "execution_count": 11
        }
      ]
    },
    {
      "cell_type": "code",
      "metadata": {
        "colab": {
          "base_uri": "https://localhost:8080/"
        },
        "id": "vW8pvwjkGfgk",
        "outputId": "7eb186f3-15b9-4705-856c-7051168b63a6"
      },
      "source": [
        "train_set_scaled.shape"
      ],
      "execution_count": null,
      "outputs": [
        {
          "output_type": "execute_result",
          "data": {
            "text/plain": [
              "(114, 9)"
            ]
          },
          "metadata": {
            "tags": []
          },
          "execution_count": 12
        }
      ]
    },
    {
      "cell_type": "code",
      "metadata": {
        "id": "oM2T5rXdGjFD"
      },
      "source": [
        "# Since LSTMs store long term memory state, we create a data structure with 60 timesteps and 1 output\n",
        "# So for each element of training set, we have 60 previous training set elements \n",
        "\n",
        "ts = 20\n",
        "len = train_set.shape[0]\n",
        "X_train = []\n",
        "y_train = []\n",
        "\n",
        "for i in range(ts, len):\n",
        "  X_train.append(train_set_scaled.loc[i-ts:i, cols].to_numpy())\n",
        "  y_train.append(train_set_scaled.loc[i, 'sale'])\n",
        "\n",
        "X_train, y_train = np.array(X_train), np.array(y_train)"
      ],
      "execution_count": null,
      "outputs": []
    },
    {
      "cell_type": "code",
      "metadata": {
        "colab": {
          "base_uri": "https://localhost:8080/"
        },
        "id": "VHhgFxmdGsBX",
        "outputId": "096a5f97-a31d-4dec-ddb0-6ffb256257fc"
      },
      "source": [
        "X_train.shape"
      ],
      "execution_count": null,
      "outputs": [
        {
          "output_type": "execute_result",
          "data": {
            "text/plain": [
              "(94, 21, 8)"
            ]
          },
          "metadata": {
            "tags": []
          },
          "execution_count": 14
        }
      ]
    },
    {
      "cell_type": "code",
      "metadata": {
        "colab": {
          "base_uri": "https://localhost:8080/"
        },
        "id": "DnN9rL9GTV7l",
        "outputId": "3428d3c3-ccf0-491c-fb27-85ec5525da15"
      },
      "source": [
        "# The LSTM architecture\n",
        "regressor = Sequential()\n",
        "\n",
        "# First LSTM layer with Dropout regularisation\n",
        "regressor.add(LSTM(units=50, return_sequences=True,\n",
        "                   input_shape=(X_train.shape[1], X_train.shape[2])))\n",
        "regressor.add(Dropout(0.2))\n",
        "\n",
        "# Second LSTM layer\n",
        "regressor.add(LSTM(units=50, return_sequences=True))\n",
        "regressor.add(Dropout(0.2))\n",
        "\n",
        "# Third LSTM layer\n",
        "regressor.add(LSTM(units=50, return_sequences=True))\n",
        "regressor.add(Dropout(0.2))\n",
        "\n",
        "# Fourth LSTM layer\n",
        "regressor.add(LSTM(units=50))\n",
        "regressor.add(Dropout(0.2))\n",
        "\n",
        "# The output layer\n",
        "regressor.add(Dense(units=1))\n",
        "\n",
        "regressor.summary()"
      ],
      "execution_count": null,
      "outputs": [
        {
          "output_type": "stream",
          "text": [
            "Model: \"sequential\"\n",
            "_________________________________________________________________\n",
            "Layer (type)                 Output Shape              Param #   \n",
            "=================================================================\n",
            "lstm (LSTM)                  (None, 21, 50)            11800     \n",
            "_________________________________________________________________\n",
            "dropout (Dropout)            (None, 21, 50)            0         \n",
            "_________________________________________________________________\n",
            "lstm_1 (LSTM)                (None, 21, 50)            20200     \n",
            "_________________________________________________________________\n",
            "dropout_1 (Dropout)          (None, 21, 50)            0         \n",
            "_________________________________________________________________\n",
            "lstm_2 (LSTM)                (None, 21, 50)            20200     \n",
            "_________________________________________________________________\n",
            "dropout_2 (Dropout)          (None, 21, 50)            0         \n",
            "_________________________________________________________________\n",
            "lstm_3 (LSTM)                (None, 50)                20200     \n",
            "_________________________________________________________________\n",
            "dropout_3 (Dropout)          (None, 50)                0         \n",
            "_________________________________________________________________\n",
            "dense (Dense)                (None, 1)                 51        \n",
            "=================================================================\n",
            "Total params: 72,451\n",
            "Trainable params: 72,451\n",
            "Non-trainable params: 0\n",
            "_________________________________________________________________\n"
          ],
          "name": "stdout"
        }
      ]
    },
    {
      "cell_type": "code",
      "metadata": {
        "id": "ACU2AA2ITfq9"
      },
      "source": [
        "logdir = os.path.join(\"logs\", datetime.now().strftime(\"%Y%m%d-%H%M%S\"))\n",
        "tensorboard_callback = tf.keras.callbacks.TensorBoard(logdir, histogram_freq=1)"
      ],
      "execution_count": null,
      "outputs": []
    },
    {
      "cell_type": "code",
      "metadata": {
        "colab": {
          "base_uri": "https://localhost:8080/"
        },
        "id": "EZn34tKUGDtb",
        "outputId": "0a980457-a02e-45fc-c8fc-0a9b307ec738"
      },
      "source": [
        "# Compiling the RNN\n",
        "regressor.compile(optimizer='adam', loss='mean_squared_error')\n",
        "\n",
        "# Fitting to the training set\n",
        "history = regressor.fit(x = X_train, \n",
        "                        y = y_train, \n",
        "                        epochs = 200, \n",
        "                        batch_size = 40, \n",
        "                        callbacks = [tensorboard_callback])"
      ],
      "execution_count": null,
      "outputs": [
        {
          "output_type": "stream",
          "text": [
            "Epoch 1/200\n",
            "1/3 [=========>....................] - ETA: 0s - loss: 0.2471WARNING:tensorflow:From /usr/local/lib/python3.6/dist-packages/tensorflow/python/ops/summary_ops_v2.py:1277: stop (from tensorflow.python.eager.profiler) is deprecated and will be removed after 2020-07-01.\n",
            "Instructions for updating:\n",
            "use `tf.profiler.experimental.stop` instead.\n",
            "2/3 [===================>..........] - ETA: 0s - loss: 0.2382WARNING:tensorflow:Callbacks method `on_train_batch_end` is slow compared to the batch time (batch time: 0.0517s vs `on_train_batch_end` time: 0.1711s). Check your callbacks.\n",
            "3/3 [==============================] - 0s 91ms/step - loss: 0.2314\n",
            "Epoch 2/200\n",
            "3/3 [==============================] - 0s 29ms/step - loss: 0.0870\n",
            "Epoch 3/200\n",
            "3/3 [==============================] - 0s 28ms/step - loss: 0.0707\n",
            "Epoch 4/200\n",
            "3/3 [==============================] - 0s 30ms/step - loss: 0.0520\n",
            "Epoch 5/200\n",
            "3/3 [==============================] - 0s 28ms/step - loss: 0.0492\n",
            "Epoch 6/200\n",
            "3/3 [==============================] - 0s 30ms/step - loss: 0.0377\n",
            "Epoch 7/200\n",
            "3/3 [==============================] - 0s 28ms/step - loss: 0.0428\n",
            "Epoch 8/200\n",
            "3/3 [==============================] - 0s 28ms/step - loss: 0.0418\n",
            "Epoch 9/200\n",
            "3/3 [==============================] - 0s 29ms/step - loss: 0.0343\n",
            "Epoch 10/200\n",
            "3/3 [==============================] - 0s 29ms/step - loss: 0.0350\n",
            "Epoch 11/200\n",
            "3/3 [==============================] - 0s 34ms/step - loss: 0.0408\n",
            "Epoch 12/200\n",
            "3/3 [==============================] - 0s 31ms/step - loss: 0.0350\n",
            "Epoch 13/200\n",
            "3/3 [==============================] - 0s 29ms/step - loss: 0.0381\n",
            "Epoch 14/200\n",
            "3/3 [==============================] - 0s 29ms/step - loss: 0.0392\n",
            "Epoch 15/200\n",
            "3/3 [==============================] - 0s 30ms/step - loss: 0.0369\n",
            "Epoch 16/200\n",
            "3/3 [==============================] - 0s 29ms/step - loss: 0.0315\n",
            "Epoch 17/200\n",
            "3/3 [==============================] - 0s 29ms/step - loss: 0.0381\n",
            "Epoch 18/200\n",
            "3/3 [==============================] - 0s 30ms/step - loss: 0.0342\n",
            "Epoch 19/200\n",
            "3/3 [==============================] - 0s 30ms/step - loss: 0.0373\n",
            "Epoch 20/200\n",
            "3/3 [==============================] - 0s 37ms/step - loss: 0.0332\n",
            "Epoch 21/200\n",
            "3/3 [==============================] - 0s 37ms/step - loss: 0.0352\n",
            "Epoch 22/200\n",
            "3/3 [==============================] - 0s 31ms/step - loss: 0.0357\n",
            "Epoch 23/200\n",
            "3/3 [==============================] - 0s 29ms/step - loss: 0.0362\n",
            "Epoch 24/200\n",
            "3/3 [==============================] - 0s 29ms/step - loss: 0.0324\n",
            "Epoch 25/200\n",
            "3/3 [==============================] - 0s 31ms/step - loss: 0.0294\n",
            "Epoch 26/200\n",
            "3/3 [==============================] - 0s 29ms/step - loss: 0.0283\n",
            "Epoch 27/200\n",
            "3/3 [==============================] - 0s 31ms/step - loss: 0.0308\n",
            "Epoch 28/200\n",
            "3/3 [==============================] - 0s 33ms/step - loss: 0.0340\n",
            "Epoch 29/200\n",
            "3/3 [==============================] - 0s 36ms/step - loss: 0.0341\n",
            "Epoch 30/200\n",
            "3/3 [==============================] - 0s 31ms/step - loss: 0.0317\n",
            "Epoch 31/200\n",
            "3/3 [==============================] - 0s 29ms/step - loss: 0.0309\n",
            "Epoch 32/200\n",
            "3/3 [==============================] - 0s 28ms/step - loss: 0.0372\n",
            "Epoch 33/200\n",
            "3/3 [==============================] - 0s 28ms/step - loss: 0.0340\n",
            "Epoch 34/200\n",
            "3/3 [==============================] - 0s 36ms/step - loss: 0.0285\n",
            "Epoch 35/200\n",
            "3/3 [==============================] - 0s 35ms/step - loss: 0.0312\n",
            "Epoch 36/200\n",
            "3/3 [==============================] - 0s 36ms/step - loss: 0.0331\n",
            "Epoch 37/200\n",
            "3/3 [==============================] - 0s 36ms/step - loss: 0.0326\n",
            "Epoch 38/200\n",
            "3/3 [==============================] - 0s 29ms/step - loss: 0.0381\n",
            "Epoch 39/200\n",
            "3/3 [==============================] - 0s 29ms/step - loss: 0.0306\n",
            "Epoch 40/200\n",
            "3/3 [==============================] - 0s 30ms/step - loss: 0.0339\n",
            "Epoch 41/200\n",
            "3/3 [==============================] - 0s 35ms/step - loss: 0.0318\n",
            "Epoch 42/200\n",
            "3/3 [==============================] - 0s 29ms/step - loss: 0.0360\n",
            "Epoch 43/200\n",
            "3/3 [==============================] - 0s 29ms/step - loss: 0.0321\n",
            "Epoch 44/200\n",
            "3/3 [==============================] - 0s 32ms/step - loss: 0.0371\n",
            "Epoch 45/200\n",
            "3/3 [==============================] - 0s 28ms/step - loss: 0.0327\n",
            "Epoch 46/200\n",
            "3/3 [==============================] - 0s 28ms/step - loss: 0.0316\n",
            "Epoch 47/200\n",
            "3/3 [==============================] - 0s 28ms/step - loss: 0.0318\n",
            "Epoch 48/200\n",
            "3/3 [==============================] - 0s 29ms/step - loss: 0.0324\n",
            "Epoch 49/200\n",
            "3/3 [==============================] - 0s 28ms/step - loss: 0.0329\n",
            "Epoch 50/200\n",
            "3/3 [==============================] - 0s 31ms/step - loss: 0.0308\n",
            "Epoch 51/200\n",
            "3/3 [==============================] - 0s 31ms/step - loss: 0.0325\n",
            "Epoch 52/200\n",
            "3/3 [==============================] - 0s 30ms/step - loss: 0.0316\n",
            "Epoch 53/200\n",
            "3/3 [==============================] - 0s 28ms/step - loss: 0.0272\n",
            "Epoch 54/200\n",
            "3/3 [==============================] - 0s 31ms/step - loss: 0.0316\n",
            "Epoch 55/200\n",
            "3/3 [==============================] - 0s 30ms/step - loss: 0.0281\n",
            "Epoch 56/200\n",
            "3/3 [==============================] - 0s 31ms/step - loss: 0.0320\n",
            "Epoch 57/200\n",
            "3/3 [==============================] - 0s 29ms/step - loss: 0.0292\n",
            "Epoch 58/200\n",
            "3/3 [==============================] - 0s 29ms/step - loss: 0.0283\n",
            "Epoch 59/200\n",
            "3/3 [==============================] - 0s 29ms/step - loss: 0.0326\n",
            "Epoch 60/200\n",
            "3/3 [==============================] - 0s 29ms/step - loss: 0.0279\n",
            "Epoch 61/200\n",
            "3/3 [==============================] - 0s 30ms/step - loss: 0.0289\n",
            "Epoch 62/200\n",
            "3/3 [==============================] - 0s 29ms/step - loss: 0.0263\n",
            "Epoch 63/200\n",
            "3/3 [==============================] - 0s 30ms/step - loss: 0.0256\n",
            "Epoch 64/200\n",
            "3/3 [==============================] - 0s 32ms/step - loss: 0.0247\n",
            "Epoch 65/200\n",
            "3/3 [==============================] - 0s 30ms/step - loss: 0.0221\n",
            "Epoch 66/200\n",
            "3/3 [==============================] - 0s 30ms/step - loss: 0.0252\n",
            "Epoch 67/200\n",
            "3/3 [==============================] - 0s 30ms/step - loss: 0.0230\n",
            "Epoch 68/200\n",
            "3/3 [==============================] - 0s 29ms/step - loss: 0.0204\n",
            "Epoch 69/200\n",
            "3/3 [==============================] - 0s 28ms/step - loss: 0.0225\n",
            "Epoch 70/200\n",
            "3/3 [==============================] - 0s 32ms/step - loss: 0.0210\n",
            "Epoch 71/200\n",
            "3/3 [==============================] - 0s 31ms/step - loss: 0.0208\n",
            "Epoch 72/200\n",
            "3/3 [==============================] - 0s 29ms/step - loss: 0.0223\n",
            "Epoch 73/200\n",
            "3/3 [==============================] - 0s 31ms/step - loss: 0.0191\n",
            "Epoch 74/200\n",
            "3/3 [==============================] - 0s 29ms/step - loss: 0.0154\n",
            "Epoch 75/200\n",
            "3/3 [==============================] - 0s 32ms/step - loss: 0.0195\n",
            "Epoch 76/200\n",
            "3/3 [==============================] - 0s 28ms/step - loss: 0.0175\n",
            "Epoch 77/200\n",
            "3/3 [==============================] - 0s 29ms/step - loss: 0.0188\n",
            "Epoch 78/200\n",
            "3/3 [==============================] - 0s 30ms/step - loss: 0.0208\n",
            "Epoch 79/200\n",
            "3/3 [==============================] - 0s 31ms/step - loss: 0.0176\n",
            "Epoch 80/200\n",
            "3/3 [==============================] - 0s 29ms/step - loss: 0.0172\n",
            "Epoch 81/200\n",
            "3/3 [==============================] - 0s 30ms/step - loss: 0.0222\n",
            "Epoch 82/200\n",
            "3/3 [==============================] - 0s 30ms/step - loss: 0.0165\n",
            "Epoch 83/200\n",
            "3/3 [==============================] - 0s 30ms/step - loss: 0.0180\n",
            "Epoch 84/200\n",
            "3/3 [==============================] - 0s 29ms/step - loss: 0.0176\n",
            "Epoch 85/200\n",
            "3/3 [==============================] - 0s 31ms/step - loss: 0.0179\n",
            "Epoch 86/200\n",
            "3/3 [==============================] - 0s 33ms/step - loss: 0.0129\n",
            "Epoch 87/200\n",
            "3/3 [==============================] - 0s 33ms/step - loss: 0.0176\n",
            "Epoch 88/200\n",
            "3/3 [==============================] - 0s 35ms/step - loss: 0.0156\n",
            "Epoch 89/200\n",
            "3/3 [==============================] - 0s 29ms/step - loss: 0.0161\n",
            "Epoch 90/200\n",
            "3/3 [==============================] - 0s 38ms/step - loss: 0.0146\n",
            "Epoch 91/200\n",
            "3/3 [==============================] - 0s 35ms/step - loss: 0.0135\n",
            "Epoch 92/200\n",
            "3/3 [==============================] - 0s 36ms/step - loss: 0.0191\n",
            "Epoch 93/200\n",
            "3/3 [==============================] - 0s 39ms/step - loss: 0.0148\n",
            "Epoch 94/200\n",
            "3/3 [==============================] - 0s 32ms/step - loss: 0.0147\n",
            "Epoch 95/200\n",
            "3/3 [==============================] - 0s 29ms/step - loss: 0.0153\n",
            "Epoch 96/200\n",
            "3/3 [==============================] - 0s 37ms/step - loss: 0.0146\n",
            "Epoch 97/200\n",
            "3/3 [==============================] - 0s 38ms/step - loss: 0.0159\n",
            "Epoch 98/200\n",
            "3/3 [==============================] - 0s 35ms/step - loss: 0.0155\n",
            "Epoch 99/200\n",
            "3/3 [==============================] - 0s 39ms/step - loss: 0.0171\n",
            "Epoch 100/200\n",
            "3/3 [==============================] - 0s 36ms/step - loss: 0.0182\n",
            "Epoch 101/200\n",
            "3/3 [==============================] - 0s 35ms/step - loss: 0.0133\n",
            "Epoch 102/200\n",
            "3/3 [==============================] - 0s 30ms/step - loss: 0.0166\n",
            "Epoch 103/200\n",
            "3/3 [==============================] - 0s 31ms/step - loss: 0.0139\n",
            "Epoch 104/200\n",
            "3/3 [==============================] - 0s 29ms/step - loss: 0.0124\n",
            "Epoch 105/200\n",
            "3/3 [==============================] - 0s 29ms/step - loss: 0.0171\n",
            "Epoch 106/200\n",
            "3/3 [==============================] - 0s 28ms/step - loss: 0.0147\n",
            "Epoch 107/200\n",
            "3/3 [==============================] - 0s 34ms/step - loss: 0.0140\n",
            "Epoch 108/200\n",
            "3/3 [==============================] - 0s 29ms/step - loss: 0.0140\n",
            "Epoch 109/200\n",
            "3/3 [==============================] - 0s 31ms/step - loss: 0.0134\n",
            "Epoch 110/200\n",
            "3/3 [==============================] - 0s 32ms/step - loss: 0.0143\n",
            "Epoch 111/200\n",
            "3/3 [==============================] - 0s 29ms/step - loss: 0.0157\n",
            "Epoch 112/200\n",
            "3/3 [==============================] - 0s 30ms/step - loss: 0.0128\n",
            "Epoch 113/200\n",
            "3/3 [==============================] - 0s 31ms/step - loss: 0.0123\n",
            "Epoch 114/200\n",
            "3/3 [==============================] - 0s 29ms/step - loss: 0.0156\n",
            "Epoch 115/200\n",
            "3/3 [==============================] - 0s 32ms/step - loss: 0.0125\n",
            "Epoch 116/200\n",
            "3/3 [==============================] - 0s 30ms/step - loss: 0.0137\n",
            "Epoch 117/200\n",
            "3/3 [==============================] - 0s 30ms/step - loss: 0.0133\n",
            "Epoch 118/200\n",
            "3/3 [==============================] - 0s 30ms/step - loss: 0.0157\n",
            "Epoch 119/200\n",
            "3/3 [==============================] - 0s 33ms/step - loss: 0.0130\n",
            "Epoch 120/200\n",
            "3/3 [==============================] - 0s 29ms/step - loss: 0.0157\n",
            "Epoch 121/200\n",
            "3/3 [==============================] - 0s 31ms/step - loss: 0.0142\n",
            "Epoch 122/200\n",
            "3/3 [==============================] - 0s 30ms/step - loss: 0.0145\n",
            "Epoch 123/200\n",
            "3/3 [==============================] - 0s 30ms/step - loss: 0.0136\n",
            "Epoch 124/200\n",
            "3/3 [==============================] - 0s 29ms/step - loss: 0.0138\n",
            "Epoch 125/200\n",
            "3/3 [==============================] - 0s 29ms/step - loss: 0.0131\n",
            "Epoch 126/200\n",
            "3/3 [==============================] - 0s 31ms/step - loss: 0.0150\n",
            "Epoch 127/200\n",
            "3/3 [==============================] - 0s 38ms/step - loss: 0.0127\n",
            "Epoch 128/200\n",
            "3/3 [==============================] - 0s 36ms/step - loss: 0.0120\n",
            "Epoch 129/200\n",
            "3/3 [==============================] - 0s 30ms/step - loss: 0.0126\n",
            "Epoch 130/200\n",
            "3/3 [==============================] - 0s 29ms/step - loss: 0.0143\n",
            "Epoch 131/200\n",
            "3/3 [==============================] - 0s 30ms/step - loss: 0.0146\n",
            "Epoch 132/200\n",
            "3/3 [==============================] - 0s 32ms/step - loss: 0.0125\n",
            "Epoch 133/200\n",
            "3/3 [==============================] - 0s 29ms/step - loss: 0.0135\n",
            "Epoch 134/200\n",
            "3/3 [==============================] - 0s 31ms/step - loss: 0.0135\n",
            "Epoch 135/200\n",
            "3/3 [==============================] - 0s 31ms/step - loss: 0.0125\n",
            "Epoch 136/200\n",
            "3/3 [==============================] - 0s 31ms/step - loss: 0.0151\n",
            "Epoch 137/200\n",
            "3/3 [==============================] - 0s 30ms/step - loss: 0.0121\n",
            "Epoch 138/200\n",
            "3/3 [==============================] - 0s 39ms/step - loss: 0.0124\n",
            "Epoch 139/200\n",
            "3/3 [==============================] - 0s 35ms/step - loss: 0.0159\n",
            "Epoch 140/200\n",
            "3/3 [==============================] - 0s 36ms/step - loss: 0.0159\n",
            "Epoch 141/200\n",
            "3/3 [==============================] - 0s 43ms/step - loss: 0.0141\n",
            "Epoch 142/200\n",
            "3/3 [==============================] - 0s 36ms/step - loss: 0.0117\n",
            "Epoch 143/200\n",
            "3/3 [==============================] - 0s 29ms/step - loss: 0.0139\n",
            "Epoch 144/200\n",
            "3/3 [==============================] - 0s 36ms/step - loss: 0.0140\n",
            "Epoch 145/200\n",
            "3/3 [==============================] - 0s 37ms/step - loss: 0.0111\n",
            "Epoch 146/200\n",
            "3/3 [==============================] - 0s 36ms/step - loss: 0.0123\n",
            "Epoch 147/200\n",
            "3/3 [==============================] - 0s 36ms/step - loss: 0.0110\n",
            "Epoch 148/200\n",
            "3/3 [==============================] - 0s 35ms/step - loss: 0.0114\n",
            "Epoch 149/200\n",
            "3/3 [==============================] - 0s 35ms/step - loss: 0.0105\n",
            "Epoch 150/200\n",
            "3/3 [==============================] - 0s 36ms/step - loss: 0.0150\n",
            "Epoch 151/200\n",
            "3/3 [==============================] - 0s 35ms/step - loss: 0.0103\n",
            "Epoch 152/200\n",
            "3/3 [==============================] - 0s 35ms/step - loss: 0.0115\n",
            "Epoch 153/200\n",
            "3/3 [==============================] - 0s 38ms/step - loss: 0.0087\n",
            "Epoch 154/200\n",
            "3/3 [==============================] - 0s 37ms/step - loss: 0.0142\n",
            "Epoch 155/200\n",
            "3/3 [==============================] - 0s 35ms/step - loss: 0.0121\n",
            "Epoch 156/200\n",
            "3/3 [==============================] - 0s 30ms/step - loss: 0.0104\n",
            "Epoch 157/200\n",
            "3/3 [==============================] - 0s 29ms/step - loss: 0.0116\n",
            "Epoch 158/200\n",
            "3/3 [==============================] - 0s 30ms/step - loss: 0.0096\n",
            "Epoch 159/200\n",
            "3/3 [==============================] - 0s 29ms/step - loss: 0.0121\n",
            "Epoch 160/200\n",
            "3/3 [==============================] - 0s 30ms/step - loss: 0.0112\n",
            "Epoch 161/200\n",
            "3/3 [==============================] - 0s 33ms/step - loss: 0.0106\n",
            "Epoch 162/200\n",
            "3/3 [==============================] - 0s 30ms/step - loss: 0.0076\n",
            "Epoch 163/200\n",
            "3/3 [==============================] - 0s 35ms/step - loss: 0.0114\n",
            "Epoch 164/200\n",
            "3/3 [==============================] - 0s 29ms/step - loss: 0.0109\n",
            "Epoch 165/200\n",
            "3/3 [==============================] - 0s 30ms/step - loss: 0.0101\n",
            "Epoch 166/200\n",
            "3/3 [==============================] - 0s 28ms/step - loss: 0.0110\n",
            "Epoch 167/200\n",
            "3/3 [==============================] - 0s 31ms/step - loss: 0.0111\n",
            "Epoch 168/200\n",
            "3/3 [==============================] - 0s 31ms/step - loss: 0.0118\n",
            "Epoch 169/200\n",
            "3/3 [==============================] - 0s 31ms/step - loss: 0.0094\n",
            "Epoch 170/200\n",
            "3/3 [==============================] - 0s 33ms/step - loss: 0.0120\n",
            "Epoch 171/200\n",
            "3/3 [==============================] - 0s 38ms/step - loss: 0.0110\n",
            "Epoch 172/200\n",
            "3/3 [==============================] - 0s 37ms/step - loss: 0.0131\n",
            "Epoch 173/200\n",
            "3/3 [==============================] - 0s 37ms/step - loss: 0.0115\n",
            "Epoch 174/200\n",
            "3/3 [==============================] - 0s 38ms/step - loss: 0.0093\n",
            "Epoch 175/200\n",
            "3/3 [==============================] - 0s 31ms/step - loss: 0.0084\n",
            "Epoch 176/200\n",
            "3/3 [==============================] - 0s 30ms/step - loss: 0.0127\n",
            "Epoch 177/200\n",
            "3/3 [==============================] - 0s 30ms/step - loss: 0.0125\n",
            "Epoch 178/200\n",
            "3/3 [==============================] - 0s 33ms/step - loss: 0.0110\n",
            "Epoch 179/200\n",
            "3/3 [==============================] - 0s 29ms/step - loss: 0.0093\n",
            "Epoch 180/200\n",
            "3/3 [==============================] - 0s 29ms/step - loss: 0.0113\n",
            "Epoch 181/200\n",
            "3/3 [==============================] - 0s 30ms/step - loss: 0.0116\n",
            "Epoch 182/200\n",
            "3/3 [==============================] - 0s 30ms/step - loss: 0.0118\n",
            "Epoch 183/200\n",
            "3/3 [==============================] - 0s 30ms/step - loss: 0.0095\n",
            "Epoch 184/200\n",
            "3/3 [==============================] - 0s 31ms/step - loss: 0.0121\n",
            "Epoch 185/200\n",
            "3/3 [==============================] - 0s 30ms/step - loss: 0.0089\n",
            "Epoch 186/200\n",
            "3/3 [==============================] - 0s 31ms/step - loss: 0.0083\n",
            "Epoch 187/200\n",
            "3/3 [==============================] - 0s 29ms/step - loss: 0.0084\n",
            "Epoch 188/200\n",
            "3/3 [==============================] - 0s 31ms/step - loss: 0.0102\n",
            "Epoch 189/200\n",
            "3/3 [==============================] - 0s 32ms/step - loss: 0.0086\n",
            "Epoch 190/200\n",
            "3/3 [==============================] - 0s 30ms/step - loss: 0.0098\n",
            "Epoch 191/200\n",
            "3/3 [==============================] - 0s 31ms/step - loss: 0.0074\n",
            "Epoch 192/200\n",
            "3/3 [==============================] - 0s 31ms/step - loss: 0.0101\n",
            "Epoch 193/200\n",
            "3/3 [==============================] - 0s 33ms/step - loss: 0.0087\n",
            "Epoch 194/200\n",
            "3/3 [==============================] - 0s 30ms/step - loss: 0.0097\n",
            "Epoch 195/200\n",
            "3/3 [==============================] - 0s 30ms/step - loss: 0.0096\n",
            "Epoch 196/200\n",
            "3/3 [==============================] - 0s 33ms/step - loss: 0.0104\n",
            "Epoch 197/200\n",
            "3/3 [==============================] - 0s 33ms/step - loss: 0.0126\n",
            "Epoch 198/200\n",
            "3/3 [==============================] - 0s 30ms/step - loss: 0.0098\n",
            "Epoch 199/200\n",
            "3/3 [==============================] - 0s 29ms/step - loss: 0.0116\n",
            "Epoch 200/200\n",
            "3/3 [==============================] - 0s 30ms/step - loss: 0.0128\n"
          ],
          "name": "stdout"
        }
      ]
    },
    {
      "cell_type": "code",
      "metadata": {
        "colab": {
          "base_uri": "https://localhost:8080/",
          "height": 298
        },
        "id": "0A5x2a9QTkZX",
        "outputId": "5a57d4a2-1c3c-4b93-f9a1-ae778b314c67"
      },
      "source": [
        "train_loss = history.history['loss']\n",
        "plt.plot(train_loss, color='r')\n",
        "plt.title('Train loss')"
      ],
      "execution_count": null,
      "outputs": [
        {
          "output_type": "execute_result",
          "data": {
            "text/plain": [
              "Text(0.5, 1.0, 'Train loss')"
            ]
          },
          "metadata": {
            "tags": []
          },
          "execution_count": 18
        },
        {
          "output_type": "display_data",
          "data": {
            "image/png": "[encoded data removed]",
            "text/plain": [
              "<Figure size 432x288 with 1 Axes>"
            ]
          },
          "metadata": {
            "tags": [],
            "needs_background": "light"
          }
        }
      ]
    },
    {
      "cell_type": "markdown",
      "metadata": {
        "id": "rqaHG9EGJoLR"
      },
      "source": [
        "***\n",
        "Prediction"
      ]
    },
    {
      "cell_type": "code",
      "metadata": {
        "colab": {
          "base_uri": "https://localhost:8080/"
        },
        "id": "6RcaxBF2HIOW",
        "outputId": "85f3eab1-c8b7-47a7-94d4-f717b20f4544"
      },
      "source": [
        "# Defining test set\n",
        "test_set = df[first_row-ts:]\n",
        "test_set.shape"
      ],
      "execution_count": null,
      "outputs": [
        {
          "output_type": "execute_result",
          "data": {
            "text/plain": [
              "(50, 9)"
            ]
          },
          "metadata": {
            "tags": []
          },
          "execution_count": 19
        }
      ]
    },
    {
      "cell_type": "code",
      "metadata": {
        "colab": {
          "base_uri": "https://localhost:8080/",
          "height": 123
        },
        "id": "A9t2KhGbHR0N",
        "outputId": "f2b60ef3-ff36-4ac5-e1a4-83c0a1d996be"
      },
      "source": [
        "# Scaling the test set\n",
        "test_set_scaled = pd.DataFrame(scaler.transform(test_set), columns=cols + ['sale'])\n",
        "print(test_set_scaled.shape)\n",
        "test_set_scaled.tail(2)"
      ],
      "execution_count": null,
      "outputs": [
        {
          "output_type": "stream",
          "text": [
            "(50, 9)\n"
          ],
          "name": "stdout"
        },
        {
          "output_type": "execute_result",
          "data": {
            "text/html": [
              "<div>\n",
              "<style scoped>\n",
              "    .dataframe tbody tr th:only-of-type {\n",
              "        vertical-align: middle;\n",
              "    }\n",
              "\n",
              "    .dataframe tbody tr th {\n",
              "        vertical-align: top;\n",
              "    }\n",
              "\n",
              "    .dataframe thead th {\n",
              "        text-align: right;\n",
              "    }\n",
              "</style>\n",
              "<table border=\"1\" class=\"dataframe\">\n",
              "  <thead>\n",
              "    <tr style=\"text-align: right;\">\n",
              "      <th></th>\n",
              "      <th>year</th>\n",
              "      <th>month</th>\n",
              "      <th>day</th>\n",
              "      <th>dayofweek</th>\n",
              "      <th>quarter</th>\n",
              "      <th>dayofyear</th>\n",
              "      <th>dayofmonth</th>\n",
              "      <th>weekofyear</th>\n",
              "      <th>sale</th>\n",
              "    </tr>\n",
              "  </thead>\n",
              "  <tbody>\n",
              "    <tr>\n",
              "      <th>48</th>\n",
              "      <td>1.0</td>\n",
              "      <td>-1.75</td>\n",
              "      <td>0.633333</td>\n",
              "      <td>0.833333</td>\n",
              "      <td>-2.0</td>\n",
              "      <td>-1.982301</td>\n",
              "      <td>0.266667</td>\n",
              "      <td>-2.0625</td>\n",
              "      <td>NaN</td>\n",
              "    </tr>\n",
              "    <tr>\n",
              "      <th>49</th>\n",
              "      <td>1.0</td>\n",
              "      <td>-1.75</td>\n",
              "      <td>0.666667</td>\n",
              "      <td>1.000000</td>\n",
              "      <td>-2.0</td>\n",
              "      <td>-1.973451</td>\n",
              "      <td>0.300000</td>\n",
              "      <td>-2.0625</td>\n",
              "      <td>NaN</td>\n",
              "    </tr>\n",
              "  </tbody>\n",
              "</table>\n",
              "</div>"
            ],
            "text/plain": [
              "    year  month       day  dayofweek  ...  dayofyear  dayofmonth  weekofyear  sale\n",
              "48   1.0  -1.75  0.633333   0.833333  ...  -1.982301    0.266667     -2.0625   NaN\n",
              "49   1.0  -1.75  0.666667   1.000000  ...  -1.973451    0.300000     -2.0625   NaN\n",
              "\n",
              "[2 rows x 9 columns]"
            ]
          },
          "metadata": {
            "tags": []
          },
          "execution_count": 20
        }
      ]
    },
    {
      "cell_type": "code",
      "metadata": {
        "colab": {
          "base_uri": "https://localhost:8080/"
        },
        "id": "UAfMFaJWJYFC",
        "outputId": "ca7d2bad-6c2f-4ece-bde8-93fcb191bdb2"
      },
      "source": [
        "# Preparing X_test and predicting speed2\n",
        "len = test_set.shape[0]\n",
        "X_test = []\n",
        "\n",
        "for i in range(ts, len):\n",
        "  X_test.append(test_set_scaled.loc[i-ts:i, cols].to_numpy())\n",
        "\n",
        "X_test = np.array(X_test)\n",
        "print(X_test.shape)"
      ],
      "execution_count": null,
      "outputs": [
        {
          "output_type": "stream",
          "text": [
            "(30, 21, 8)\n"
          ],
          "name": "stdout"
        }
      ]
    },
    {
      "cell_type": "code",
      "metadata": {
        "colab": {
          "base_uri": "https://localhost:8080/"
        },
        "id": "6xEv-MUSJdOc",
        "outputId": "f8d04bd8-8130-4339-9877-62190f8bb9cc"
      },
      "source": [
        "y_test = regressor.predict(X_test)\n",
        "y_test = np.array(y_test)\n",
        "y_test = y_test.reshape((1,-1))\n",
        "y_test.shape"
      ],
      "execution_count": null,
      "outputs": [
        {
          "output_type": "execute_result",
          "data": {
            "text/plain": [
              "(1, 30)"
            ]
          },
          "metadata": {
            "tags": []
          },
          "execution_count": 22
        }
      ]
    },
    {
      "cell_type": "code",
      "metadata": {
        "colab": {
          "base_uri": "https://localhost:8080/",
          "height": 106
        },
        "id": "VWFT_290JgEr",
        "outputId": "50b09844-a26b-4b71-fe39-3ab11ab20f56"
      },
      "source": [
        "test_set_scaled.loc[ts:, 'sale'] = y_test\n",
        "test_set_scaled.tail(2)"
      ],
      "execution_count": null,
      "outputs": [
        {
          "output_type": "execute_result",
          "data": {
            "text/html": [
              "<div>\n",
              "<style scoped>\n",
              "    .dataframe tbody tr th:only-of-type {\n",
              "        vertical-align: middle;\n",
              "    }\n",
              "\n",
              "    .dataframe tbody tr th {\n",
              "        vertical-align: top;\n",
              "    }\n",
              "\n",
              "    .dataframe thead th {\n",
              "        text-align: right;\n",
              "    }\n",
              "</style>\n",
              "<table border=\"1\" class=\"dataframe\">\n",
              "  <thead>\n",
              "    <tr style=\"text-align: right;\">\n",
              "      <th></th>\n",
              "      <th>year</th>\n",
              "      <th>month</th>\n",
              "      <th>day</th>\n",
              "      <th>dayofweek</th>\n",
              "      <th>quarter</th>\n",
              "      <th>dayofyear</th>\n",
              "      <th>dayofmonth</th>\n",
              "      <th>weekofyear</th>\n",
              "      <th>sale</th>\n",
              "    </tr>\n",
              "  </thead>\n",
              "  <tbody>\n",
              "    <tr>\n",
              "      <th>48</th>\n",
              "      <td>1.0</td>\n",
              "      <td>-1.75</td>\n",
              "      <td>0.633333</td>\n",
              "      <td>0.833333</td>\n",
              "      <td>-2.0</td>\n",
              "      <td>-1.982301</td>\n",
              "      <td>0.266667</td>\n",
              "      <td>-2.0625</td>\n",
              "      <td>0.278650</td>\n",
              "    </tr>\n",
              "    <tr>\n",
              "      <th>49</th>\n",
              "      <td>1.0</td>\n",
              "      <td>-1.75</td>\n",
              "      <td>0.666667</td>\n",
              "      <td>1.000000</td>\n",
              "      <td>-2.0</td>\n",
              "      <td>-1.973451</td>\n",
              "      <td>0.300000</td>\n",
              "      <td>-2.0625</td>\n",
              "      <td>0.329008</td>\n",
              "    </tr>\n",
              "  </tbody>\n",
              "</table>\n",
              "</div>"
            ],
            "text/plain": [
              "    year  month       day  ...  dayofmonth  weekofyear      sale\n",
              "48   1.0  -1.75  0.633333  ...    0.266667     -2.0625  0.278650\n",
              "49   1.0  -1.75  0.666667  ...    0.300000     -2.0625  0.329008\n",
              "\n",
              "[2 rows x 9 columns]"
            ]
          },
          "metadata": {
            "tags": []
          },
          "execution_count": 23
        }
      ]
    },
    {
      "cell_type": "code",
      "metadata": {
        "id": "ePlOXL8hJjXG"
      },
      "source": [
        "predicted = pd.DataFrame(scaler.inverse_transform(test_set_scaled), columns= cols+['sale'])\n",
        "predicted = predicted.loc[ts:, 'sale']"
      ],
      "execution_count": null,
      "outputs": []
    },
    {
      "cell_type": "code",
      "metadata": {
        "colab": {
          "base_uri": "https://localhost:8080/",
          "height": 195
        },
        "id": "QIxHXNwKJwBc",
        "outputId": "ffb25b8f-74a5-45e6-a58e-28e4fcc82fe5"
      },
      "source": [
        "p = pd.DataFrame(round(predicted))\n",
        "p.reset_index(inplace = True) \n",
        "p.head()"
      ],
      "execution_count": null,
      "outputs": [
        {
          "output_type": "execute_result",
          "data": {
            "text/html": [
              "<div>\n",
              "<style scoped>\n",
              "    .dataframe tbody tr th:only-of-type {\n",
              "        vertical-align: middle;\n",
              "    }\n",
              "\n",
              "    .dataframe tbody tr th {\n",
              "        vertical-align: top;\n",
              "    }\n",
              "\n",
              "    .dataframe thead th {\n",
              "        text-align: right;\n",
              "    }\n",
              "</style>\n",
              "<table border=\"1\" class=\"dataframe\">\n",
              "  <thead>\n",
              "    <tr style=\"text-align: right;\">\n",
              "      <th></th>\n",
              "      <th>index</th>\n",
              "      <th>sale</th>\n",
              "    </tr>\n",
              "  </thead>\n",
              "  <tbody>\n",
              "    <tr>\n",
              "      <th>0</th>\n",
              "      <td>20</td>\n",
              "      <td>346.0</td>\n",
              "    </tr>\n",
              "    <tr>\n",
              "      <th>1</th>\n",
              "      <td>21</td>\n",
              "      <td>347.0</td>\n",
              "    </tr>\n",
              "    <tr>\n",
              "      <th>2</th>\n",
              "      <td>22</td>\n",
              "      <td>351.0</td>\n",
              "    </tr>\n",
              "    <tr>\n",
              "      <th>3</th>\n",
              "      <td>23</td>\n",
              "      <td>355.0</td>\n",
              "    </tr>\n",
              "    <tr>\n",
              "      <th>4</th>\n",
              "      <td>24</td>\n",
              "      <td>357.0</td>\n",
              "    </tr>\n",
              "  </tbody>\n",
              "</table>\n",
              "</div>"
            ],
            "text/plain": [
              "   index   sale\n",
              "0     20  346.0\n",
              "1     21  347.0\n",
              "2     22  351.0\n",
              "3     23  355.0\n",
              "4     24  357.0"
            ]
          },
          "metadata": {
            "tags": []
          },
          "execution_count": 25
        }
      ]
    },
    {
      "cell_type": "code",
      "metadata": {
        "colab": {
          "base_uri": "https://localhost:8080/",
          "height": 935
        },
        "id": "J4mwgrFDOOXM",
        "outputId": "daa80322-401d-49a2-f027-39d7fd157f5e"
      },
      "source": [
        "df_test['sale'] = p['sale']\n",
        "df_test"
      ],
      "execution_count": null,
      "outputs": [
        {
          "output_type": "execute_result",
          "data": {
            "text/html": [
              "<div>\n",
              "<style scoped>\n",
              "    .dataframe tbody tr th:only-of-type {\n",
              "        vertical-align: middle;\n",
              "    }\n",
              "\n",
              "    .dataframe tbody tr th {\n",
              "        vertical-align: top;\n",
              "    }\n",
              "\n",
              "    .dataframe thead th {\n",
              "        text-align: right;\n",
              "    }\n",
              "</style>\n",
              "<table border=\"1\" class=\"dataframe\">\n",
              "  <thead>\n",
              "    <tr style=\"text-align: right;\">\n",
              "      <th></th>\n",
              "      <th>date</th>\n",
              "      <th>sale</th>\n",
              "    </tr>\n",
              "  </thead>\n",
              "  <tbody>\n",
              "    <tr>\n",
              "      <th>0</th>\n",
              "      <td>1399-09-22</td>\n",
              "      <td>346.0</td>\n",
              "    </tr>\n",
              "    <tr>\n",
              "      <th>1</th>\n",
              "      <td>1399-09-23</td>\n",
              "      <td>347.0</td>\n",
              "    </tr>\n",
              "    <tr>\n",
              "      <th>2</th>\n",
              "      <td>1399-09-24</td>\n",
              "      <td>351.0</td>\n",
              "    </tr>\n",
              "    <tr>\n",
              "      <th>3</th>\n",
              "      <td>1399-09-25</td>\n",
              "      <td>355.0</td>\n",
              "    </tr>\n",
              "    <tr>\n",
              "      <th>4</th>\n",
              "      <td>1399-09-26</td>\n",
              "      <td>357.0</td>\n",
              "    </tr>\n",
              "    <tr>\n",
              "      <th>5</th>\n",
              "      <td>1399-09-27</td>\n",
              "      <td>354.0</td>\n",
              "    </tr>\n",
              "    <tr>\n",
              "      <th>6</th>\n",
              "      <td>1399-09-28</td>\n",
              "      <td>342.0</td>\n",
              "    </tr>\n",
              "    <tr>\n",
              "      <th>7</th>\n",
              "      <td>1399-09-29</td>\n",
              "      <td>317.0</td>\n",
              "    </tr>\n",
              "    <tr>\n",
              "      <th>8</th>\n",
              "      <td>1399-09-30</td>\n",
              "      <td>287.0</td>\n",
              "    </tr>\n",
              "    <tr>\n",
              "      <th>9</th>\n",
              "      <td>1399-10-01</td>\n",
              "      <td>268.0</td>\n",
              "    </tr>\n",
              "    <tr>\n",
              "      <th>10</th>\n",
              "      <td>1399-10-02</td>\n",
              "      <td>274.0</td>\n",
              "    </tr>\n",
              "    <tr>\n",
              "      <th>11</th>\n",
              "      <td>1399-10-03</td>\n",
              "      <td>280.0</td>\n",
              "    </tr>\n",
              "    <tr>\n",
              "      <th>12</th>\n",
              "      <td>1399-10-04</td>\n",
              "      <td>283.0</td>\n",
              "    </tr>\n",
              "    <tr>\n",
              "      <th>13</th>\n",
              "      <td>1399-10-05</td>\n",
              "      <td>283.0</td>\n",
              "    </tr>\n",
              "    <tr>\n",
              "      <th>14</th>\n",
              "      <td>1399-10-06</td>\n",
              "      <td>281.0</td>\n",
              "    </tr>\n",
              "    <tr>\n",
              "      <th>15</th>\n",
              "      <td>1399-10-07</td>\n",
              "      <td>279.0</td>\n",
              "    </tr>\n",
              "    <tr>\n",
              "      <th>16</th>\n",
              "      <td>1399-10-08</td>\n",
              "      <td>264.0</td>\n",
              "    </tr>\n",
              "    <tr>\n",
              "      <th>17</th>\n",
              "      <td>1399-10-09</td>\n",
              "      <td>246.0</td>\n",
              "    </tr>\n",
              "    <tr>\n",
              "      <th>18</th>\n",
              "      <td>1399-10-10</td>\n",
              "      <td>228.0</td>\n",
              "    </tr>\n",
              "    <tr>\n",
              "      <th>19</th>\n",
              "      <td>1399-10-11</td>\n",
              "      <td>214.0</td>\n",
              "    </tr>\n",
              "    <tr>\n",
              "      <th>20</th>\n",
              "      <td>1399-10-12</td>\n",
              "      <td>208.0</td>\n",
              "    </tr>\n",
              "    <tr>\n",
              "      <th>21</th>\n",
              "      <td>1399-10-13</td>\n",
              "      <td>214.0</td>\n",
              "    </tr>\n",
              "    <tr>\n",
              "      <th>22</th>\n",
              "      <td>1399-10-14</td>\n",
              "      <td>231.0</td>\n",
              "    </tr>\n",
              "    <tr>\n",
              "      <th>23</th>\n",
              "      <td>1399-10-15</td>\n",
              "      <td>238.0</td>\n",
              "    </tr>\n",
              "    <tr>\n",
              "      <th>24</th>\n",
              "      <td>1399-10-16</td>\n",
              "      <td>252.0</td>\n",
              "    </tr>\n",
              "    <tr>\n",
              "      <th>25</th>\n",
              "      <td>1399-10-17</td>\n",
              "      <td>272.0</td>\n",
              "    </tr>\n",
              "    <tr>\n",
              "      <th>26</th>\n",
              "      <td>1399-10-18</td>\n",
              "      <td>296.0</td>\n",
              "    </tr>\n",
              "    <tr>\n",
              "      <th>27</th>\n",
              "      <td>1399-10-19</td>\n",
              "      <td>320.0</td>\n",
              "    </tr>\n",
              "    <tr>\n",
              "      <th>28</th>\n",
              "      <td>1399-10-20</td>\n",
              "      <td>341.0</td>\n",
              "    </tr>\n",
              "    <tr>\n",
              "      <th>29</th>\n",
              "      <td>1399-10-21</td>\n",
              "      <td>358.0</td>\n",
              "    </tr>\n",
              "  </tbody>\n",
              "</table>\n",
              "</div>"
            ],
            "text/plain": [
              "          date   sale\n",
              "0   1399-09-22  346.0\n",
              "1   1399-09-23  347.0\n",
              "2   1399-09-24  351.0\n",
              "3   1399-09-25  355.0\n",
              "4   1399-09-26  357.0\n",
              "5   1399-09-27  354.0\n",
              "6   1399-09-28  342.0\n",
              "7   1399-09-29  317.0\n",
              "8   1399-09-30  287.0\n",
              "9   1399-10-01  268.0\n",
              "10  1399-10-02  274.0\n",
              "11  1399-10-03  280.0\n",
              "12  1399-10-04  283.0\n",
              "13  1399-10-05  283.0\n",
              "14  1399-10-06  281.0\n",
              "15  1399-10-07  279.0\n",
              "16  1399-10-08  264.0\n",
              "17  1399-10-09  246.0\n",
              "18  1399-10-10  228.0\n",
              "19  1399-10-11  214.0\n",
              "20  1399-10-12  208.0\n",
              "21  1399-10-13  214.0\n",
              "22  1399-10-14  231.0\n",
              "23  1399-10-15  238.0\n",
              "24  1399-10-16  252.0\n",
              "25  1399-10-17  272.0\n",
              "26  1399-10-18  296.0\n",
              "27  1399-10-19  320.0\n",
              "28  1399-10-20  341.0\n",
              "29  1399-10-21  358.0"
            ]
          },
          "metadata": {
            "tags": []
          },
          "execution_count": 26
        }
      ]
    },
    {
      "cell_type": "code",
      "metadata": {
        "id": "YCJG3WllN52s"
      },
      "source": [
        "df_test.to_csv('output.csv', index=False)"
      ],
      "execution_count": null,
      "outputs": []
    }
  ]
}