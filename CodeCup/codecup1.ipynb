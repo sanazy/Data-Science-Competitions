{
  "nbformat": 4,
  "nbformat_minor": 0,
  "metadata": {
    "colab": {
      "name": "codecup1.ipynb",
      "provenance": [],
      "collapsed_sections": []
    },
    "kernelspec": {
      "name": "python3",
      "display_name": "Python 3"
    }
  },
  "cells": [
    {
      "cell_type": "code",
      "metadata": {
        "id": "T5H_5XVT7_V1"
      },
      "source": [
        "import pandas as pd\n",
        "import numpy as np"
      ],
      "execution_count": null,
      "outputs": []
    },
    {
      "cell_type": "code",
      "metadata": {
        "id": "WsvkMasL8HY0"
      },
      "source": [
        "df = pd.read_csv('train.csv')"
      ],
      "execution_count": null,
      "outputs": []
    },
    {
      "cell_type": "code",
      "metadata": {
        "colab": {
          "base_uri": "https://localhost:8080/",
          "height": 215
        },
        "id": "chui3QB68Pr9",
        "outputId": "75b3e964-f9cd-4bac-d3a2-2882a8103ec5"
      },
      "source": [
        "df.head()"
      ],
      "execution_count": null,
      "outputs": [
        {
          "output_type": "execute_result",
          "data": {
            "text/html": [
              "<div>\n",
              "<style scoped>\n",
              "    .dataframe tbody tr th:only-of-type {\n",
              "        vertical-align: middle;\n",
              "    }\n",
              "\n",
              "    .dataframe tbody tr th {\n",
              "        vertical-align: top;\n",
              "    }\n",
              "\n",
              "    .dataframe thead th {\n",
              "        text-align: right;\n",
              "    }\n",
              "</style>\n",
              "<table border=\"1\" class=\"dataframe\">\n",
              "  <thead>\n",
              "    <tr style=\"text-align: right;\">\n",
              "      <th></th>\n",
              "      <th>0</th>\n",
              "      <th>1</th>\n",
              "      <th>2</th>\n",
              "      <th>3</th>\n",
              "      <th>4</th>\n",
              "      <th>5</th>\n",
              "      <th>6</th>\n",
              "      <th>7</th>\n",
              "      <th>8</th>\n",
              "      <th>9</th>\n",
              "      <th>10</th>\n",
              "    </tr>\n",
              "  </thead>\n",
              "  <tbody>\n",
              "    <tr>\n",
              "      <th>0</th>\n",
              "      <td>4.613070</td>\n",
              "      <td>19.219966</td>\n",
              "      <td>13.777694</td>\n",
              "      <td>1.768949</td>\n",
              "      <td>12.918400</td>\n",
              "      <td>12.560763</td>\n",
              "      <td>17.544232</td>\n",
              "      <td>6.242864</td>\n",
              "      <td>1.286421</td>\n",
              "      <td>18.607406</td>\n",
              "      <td>57.462136</td>\n",
              "    </tr>\n",
              "    <tr>\n",
              "      <th>1</th>\n",
              "      <td>10.851315</td>\n",
              "      <td>10.416559</td>\n",
              "      <td>10.294882</td>\n",
              "      <td>10.370097</td>\n",
              "      <td>0.236130</td>\n",
              "      <td>9.978527</td>\n",
              "      <td>16.255803</td>\n",
              "      <td>11.639155</td>\n",
              "      <td>17.540606</td>\n",
              "      <td>0.664260</td>\n",
              "      <td>52.820606</td>\n",
              "    </tr>\n",
              "    <tr>\n",
              "      <th>2</th>\n",
              "      <td>14.193912</td>\n",
              "      <td>19.516232</td>\n",
              "      <td>8.193591</td>\n",
              "      <td>9.325052</td>\n",
              "      <td>19.036204</td>\n",
              "      <td>9.339919</td>\n",
              "      <td>13.861366</td>\n",
              "      <td>14.092048</td>\n",
              "      <td>1.233343</td>\n",
              "      <td>9.441342</td>\n",
              "      <td>67.046251</td>\n",
              "    </tr>\n",
              "    <tr>\n",
              "      <th>3</th>\n",
              "      <td>16.422105</td>\n",
              "      <td>9.990100</td>\n",
              "      <td>5.491504</td>\n",
              "      <td>7.267110</td>\n",
              "      <td>14.041443</td>\n",
              "      <td>8.326088</td>\n",
              "      <td>15.791592</td>\n",
              "      <td>8.534165</td>\n",
              "      <td>9.126567</td>\n",
              "      <td>6.920051</td>\n",
              "      <td>55.419282</td>\n",
              "    </tr>\n",
              "    <tr>\n",
              "      <th>4</th>\n",
              "      <td>13.732369</td>\n",
              "      <td>4.311718</td>\n",
              "      <td>8.025760</td>\n",
              "      <td>5.766623</td>\n",
              "      <td>8.488922</td>\n",
              "      <td>2.124606</td>\n",
              "      <td>4.632900</td>\n",
              "      <td>10.456614</td>\n",
              "      <td>7.636695</td>\n",
              "      <td>11.098141</td>\n",
              "      <td>43.273511</td>\n",
              "    </tr>\n",
              "  </tbody>\n",
              "</table>\n",
              "</div>"
            ],
            "text/plain": [
              "           0          1          2  ...          8          9         10\n",
              "0   4.613070  19.219966  13.777694  ...   1.286421  18.607406  57.462136\n",
              "1  10.851315  10.416559  10.294882  ...  17.540606   0.664260  52.820606\n",
              "2  14.193912  19.516232   8.193591  ...   1.233343   9.441342  67.046251\n",
              "3  16.422105   9.990100   5.491504  ...   9.126567   6.920051  55.419282\n",
              "4  13.732369   4.311718   8.025760  ...   7.636695  11.098141  43.273511\n",
              "\n",
              "[5 rows x 11 columns]"
            ]
          },
          "metadata": {
            "tags": []
          },
          "execution_count": 3
        }
      ]
    },
    {
      "cell_type": "code",
      "metadata": {
        "colab": {
          "base_uri": "https://localhost:8080/",
          "height": 215
        },
        "id": "T5h5Vjqb88BL",
        "outputId": "0fe66cb4-b4d2-4572-f401-c9aa10e319b1"
      },
      "source": [
        "X = df.iloc[:,0:10]\n",
        "X.head()"
      ],
      "execution_count": null,
      "outputs": [
        {
          "output_type": "execute_result",
          "data": {
            "text/html": [
              "<div>\n",
              "<style scoped>\n",
              "    .dataframe tbody tr th:only-of-type {\n",
              "        vertical-align: middle;\n",
              "    }\n",
              "\n",
              "    .dataframe tbody tr th {\n",
              "        vertical-align: top;\n",
              "    }\n",
              "\n",
              "    .dataframe thead th {\n",
              "        text-align: right;\n",
              "    }\n",
              "</style>\n",
              "<table border=\"1\" class=\"dataframe\">\n",
              "  <thead>\n",
              "    <tr style=\"text-align: right;\">\n",
              "      <th></th>\n",
              "      <th>0</th>\n",
              "      <th>1</th>\n",
              "      <th>2</th>\n",
              "      <th>3</th>\n",
              "      <th>4</th>\n",
              "      <th>5</th>\n",
              "      <th>6</th>\n",
              "      <th>7</th>\n",
              "      <th>8</th>\n",
              "      <th>9</th>\n",
              "    </tr>\n",
              "  </thead>\n",
              "  <tbody>\n",
              "    <tr>\n",
              "      <th>0</th>\n",
              "      <td>4.613070</td>\n",
              "      <td>19.219966</td>\n",
              "      <td>13.777694</td>\n",
              "      <td>1.768949</td>\n",
              "      <td>12.918400</td>\n",
              "      <td>12.560763</td>\n",
              "      <td>17.544232</td>\n",
              "      <td>6.242864</td>\n",
              "      <td>1.286421</td>\n",
              "      <td>18.607406</td>\n",
              "    </tr>\n",
              "    <tr>\n",
              "      <th>1</th>\n",
              "      <td>10.851315</td>\n",
              "      <td>10.416559</td>\n",
              "      <td>10.294882</td>\n",
              "      <td>10.370097</td>\n",
              "      <td>0.236130</td>\n",
              "      <td>9.978527</td>\n",
              "      <td>16.255803</td>\n",
              "      <td>11.639155</td>\n",
              "      <td>17.540606</td>\n",
              "      <td>0.664260</td>\n",
              "    </tr>\n",
              "    <tr>\n",
              "      <th>2</th>\n",
              "      <td>14.193912</td>\n",
              "      <td>19.516232</td>\n",
              "      <td>8.193591</td>\n",
              "      <td>9.325052</td>\n",
              "      <td>19.036204</td>\n",
              "      <td>9.339919</td>\n",
              "      <td>13.861366</td>\n",
              "      <td>14.092048</td>\n",
              "      <td>1.233343</td>\n",
              "      <td>9.441342</td>\n",
              "    </tr>\n",
              "    <tr>\n",
              "      <th>3</th>\n",
              "      <td>16.422105</td>\n",
              "      <td>9.990100</td>\n",
              "      <td>5.491504</td>\n",
              "      <td>7.267110</td>\n",
              "      <td>14.041443</td>\n",
              "      <td>8.326088</td>\n",
              "      <td>15.791592</td>\n",
              "      <td>8.534165</td>\n",
              "      <td>9.126567</td>\n",
              "      <td>6.920051</td>\n",
              "    </tr>\n",
              "    <tr>\n",
              "      <th>4</th>\n",
              "      <td>13.732369</td>\n",
              "      <td>4.311718</td>\n",
              "      <td>8.025760</td>\n",
              "      <td>5.766623</td>\n",
              "      <td>8.488922</td>\n",
              "      <td>2.124606</td>\n",
              "      <td>4.632900</td>\n",
              "      <td>10.456614</td>\n",
              "      <td>7.636695</td>\n",
              "      <td>11.098141</td>\n",
              "    </tr>\n",
              "  </tbody>\n",
              "</table>\n",
              "</div>"
            ],
            "text/plain": [
              "           0          1          2  ...          7          8          9\n",
              "0   4.613070  19.219966  13.777694  ...   6.242864   1.286421  18.607406\n",
              "1  10.851315  10.416559  10.294882  ...  11.639155  17.540606   0.664260\n",
              "2  14.193912  19.516232   8.193591  ...  14.092048   1.233343   9.441342\n",
              "3  16.422105   9.990100   5.491504  ...   8.534165   9.126567   6.920051\n",
              "4  13.732369   4.311718   8.025760  ...  10.456614   7.636695  11.098141\n",
              "\n",
              "[5 rows x 10 columns]"
            ]
          },
          "metadata": {
            "tags": []
          },
          "execution_count": 24
        }
      ]
    },
    {
      "cell_type": "code",
      "metadata": {
        "colab": {
          "base_uri": "https://localhost:8080/"
        },
        "id": "UVm0ZV7C8RNk",
        "outputId": "7070ee6a-ee17-4d1a-a9b6-6810170b496e"
      },
      "source": [
        "Y = df.iloc[:,10]\n",
        "Y.head()"
      ],
      "execution_count": null,
      "outputs": [
        {
          "output_type": "execute_result",
          "data": {
            "text/plain": [
              "0    57.462136\n",
              "1    52.820606\n",
              "2    67.046251\n",
              "3    55.419282\n",
              "4    43.273511\n",
              "Name: 10, dtype: float64"
            ]
          },
          "metadata": {
            "tags": []
          },
          "execution_count": 8
        }
      ]
    },
    {
      "cell_type": "code",
      "metadata": {
        "id": "Ztao796N9DUb"
      },
      "source": [
        "Xt = X.transpose()\n",
        "A = np.dot(Xt,X)\n",
        "AA = np.linalg.inv(A)\n",
        "W = np.dot(np.dot(AA ,Xt),Y)"
      ],
      "execution_count": null,
      "outputs": []
    },
    {
      "cell_type": "code",
      "metadata": {
        "colab": {
          "base_uri": "https://localhost:8080/"
        },
        "id": "79BkZWpN_-R3",
        "outputId": "e58de496-cb4d-48e4-819e-662a85b7af45"
      },
      "source": [
        "W"
      ],
      "execution_count": null,
      "outputs": [
        {
          "output_type": "execute_result",
          "data": {
            "text/plain": [
              "array([0.86359333, 0.36338597, 0.69290925, 0.95008663, 0.36233296,\n",
              "       0.94475394, 0.30608218, 0.58471519, 0.05933763, 0.51713321])"
            ]
          },
          "metadata": {
            "tags": []
          },
          "execution_count": 40
        }
      ]
    }
  ]
}