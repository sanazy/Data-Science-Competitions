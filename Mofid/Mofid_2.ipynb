{
  "nbformat": 4,
  "nbformat_minor": 0,
  "metadata": {
    "colab": {
      "name": "Mofid-2.ipynb",
      "provenance": [],
      "collapsed_sections": []
    },
    "kernelspec": {
      "name": "python3",
      "display_name": "Python 3"
    }
  },
  "cells": [
    {
      "cell_type": "code",
      "metadata": {
        "colab": {
          "base_uri": "https://localhost:8080/"
        },
        "id": "-0_lYLDsZ8wL",
        "outputId": "4b6f385e-c09b-49fd-9c13-f8b1a7da634d"
      },
      "source": [
        "from google.colab import drive\n",
        "drive.mount('/content/drive')"
      ],
      "execution_count": null,
      "outputs": [
        {
          "output_type": "stream",
          "text": [
            "Mounted at /content/drive\n"
          ],
          "name": "stdout"
        }
      ]
    },
    {
      "cell_type": "code",
      "metadata": {
        "colab": {
          "base_uri": "https://localhost:8080/"
        },
        "id": "hVh3d6EQZ_Gx",
        "outputId": "d979b0ac-25ef-4ff7-9c6a-a77ff80f19b0"
      },
      "source": [
        "%cd /content/drive/MyDrive/Mofid"
      ],
      "execution_count": null,
      "outputs": [
        {
          "output_type": "stream",
          "text": [
            "/content/drive/MyDrive/Mofid\n"
          ],
          "name": "stdout"
        }
      ]
    },
    {
      "cell_type": "code",
      "metadata": {
        "colab": {
          "base_uri": "https://localhost:8080/"
        },
        "id": "V6SYi7I6aAWS",
        "outputId": "46d79746-3090-4e54-f728-61c10f890d8f"
      },
      "source": [
        "#!unzip project.zip"
      ],
      "execution_count": null,
      "outputs": [
        {
          "output_type": "stream",
          "text": [
            "Archive:  project.zip\n",
            "  inflating: submit.py               \n",
            "  inflating: X_train.npy             \n",
            "  inflating: Y_train.npy             \n"
          ],
          "name": "stdout"
        }
      ]
    },
    {
      "cell_type": "code",
      "metadata": {
        "id": "hAe_hLHAzqn4"
      },
      "source": [
        "import numpy as np\n",
        "# DO NOT add any library\n",
        "\n",
        "def train_transformation(X, Y, R, train_steps=100, learning_rate=0.0003):\n",
        "  #please write your code here\n",
        "  # find best R using Gradient Descent\n",
        "    \n",
        "\t#WRITE your code here\n",
        "  n = X.shape[0]\n",
        "  xTrans = X.transpose()\n",
        "  for i in range(0, train_steps):\n",
        "    hypothesis = np.dot(X, R)\n",
        "    loss = (1/n) * (np.linalg.norm(hypothesis - Y) ** 2)\n",
        "\n",
        "    # avg gradient per example\n",
        "    #gradient = np.dot(xTrans, loss)\n",
        "    gradient = 2/n*np.dot(xTrans, Y-hypothesis)\n",
        "    # update\n",
        "    R = R - learning_rate * gradient\n",
        "\t\t\n",
        "  #END of your code\n",
        "  return R\n",
        "   \n",
        "   \n",
        "def nearest_neighbor(v, candidates, k=1):\n",
        "  # find k best similar vectors index. please sort them in order max to min and return index\n",
        "  # for your similarity function please use cosine similarity\n",
        "  similarity_l = []\n",
        "\n",
        "  v = v.reshape(1,300)\n",
        "  #WRITE your code here\n",
        "  for i in range(candidates.shape[0]):\n",
        "    can = candidates[i]\n",
        "\n",
        "    par1 = np.dot(v,can)\n",
        "    par2 = np.linalg.norm(v)\n",
        "    par3 = np.linalg.norm(can)\n",
        "    sim = ( par1 / ( par2 * par3 ))\n",
        "    \n",
        "    similarity_l.append(sim.item())\n",
        "\n",
        "  #END of your code\n",
        "  sorted_ids = np.flip(np.argsort(similarity_l))\n",
        "\n",
        "  k_idx = sorted_ids[-k:]\n",
        "  return k_idx"
      ],
      "execution_count": null,
      "outputs": []
    },
    {
      "cell_type": "code",
      "metadata": {
        "colab": {
          "base_uri": "https://localhost:8080/"
        },
        "id": "nRUfgacr1Nps",
        "outputId": "eac58c31-afb8-4a21-de81-e77a5dbafe76"
      },
      "source": [
        "v = X[50]\n",
        "nearest_neighbor(v,Y)"
      ],
      "execution_count": null,
      "outputs": [
        {
          "output_type": "execute_result",
          "data": {
            "text/plain": [
              "array([3305])"
            ]
          },
          "metadata": {
            "tags": []
          },
          "execution_count": 16
        }
      ]
    },
    {
      "cell_type": "code",
      "metadata": {
        "id": "3J782cr1YOmM"
      },
      "source": [
        "X = np.load('gd/X_train.npy', encoding='bytes')\n",
        "Y = np.load('gd/Y_train.npy', encoding='bytes')"
      ],
      "execution_count": null,
      "outputs": []
    },
    {
      "cell_type": "code",
      "metadata": {
        "colab": {
          "base_uri": "https://localhost:8080/"
        },
        "id": "O_dLgu_iepg3",
        "outputId": "09fcae2b-c474-435d-9d84-7afa0849e60c"
      },
      "source": [
        "print(X.shape)\n",
        "print(Y.shape)"
      ],
      "execution_count": null,
      "outputs": [
        {
          "output_type": "stream",
          "text": [
            "(4932, 300)\n",
            "(4932, 300)\n"
          ],
          "name": "stdout"
        }
      ]
    },
    {
      "cell_type": "code",
      "metadata": {
        "id": "NDH5D9WAfBG1"
      },
      "source": [
        "R = np.random.rand(300,300)"
      ],
      "execution_count": null,
      "outputs": []
    },
    {
      "cell_type": "code",
      "metadata": {
        "colab": {
          "base_uri": "https://localhost:8080/"
        },
        "id": "G5Chkmi9fG1m",
        "outputId": "ca586735-c68b-46b4-a038-e3945a2a54e4"
      },
      "source": [
        "train_transformation(X,Y,R)"
      ],
      "execution_count": null,
      "outputs": [
        {
          "output_type": "execute_result",
          "data": {
            "text/plain": [
              "array([[0.77940866, 0.97146527, 0.59398773, ..., 0.3527279 , 0.95782124,\n",
              "        0.10243518],\n",
              "       [0.43104661, 0.97871105, 0.78504331, ..., 0.36521433, 0.02444417,\n",
              "        0.61138117],\n",
              "       [0.67157622, 0.60076997, 0.56588941, ..., 0.80847664, 0.14212326,\n",
              "        0.02077761],\n",
              "       ...,\n",
              "       [0.40618803, 0.92202723, 0.99265606, ..., 0.08446228, 0.20784503,\n",
              "        0.16245929],\n",
              "       [0.62383007, 0.49549688, 0.61016607, ..., 0.04768744, 0.99042616,\n",
              "        0.23993601],\n",
              "       [0.39839989, 0.40480197, 0.90060805, ..., 0.76372971, 0.59134208,\n",
              "        0.56325278]])"
            ]
          },
          "metadata": {
            "tags": []
          },
          "execution_count": 8
        }
      ]
    }
  ]
}