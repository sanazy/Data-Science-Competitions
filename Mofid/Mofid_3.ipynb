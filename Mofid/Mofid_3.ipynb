{
  "nbformat": 4,
  "nbformat_minor": 0,
  "metadata": {
    "colab": {
      "name": "Mofid-3.ipynb",
      "provenance": [],
      "collapsed_sections": []
    },
    "kernelspec": {
      "name": "python3",
      "display_name": "Python 3"
    }
  },
  "cells": [
    {
      "cell_type": "code",
      "metadata": {
        "colab": {
          "base_uri": "https://localhost:8080/"
        },
        "id": "uPLWlQ1qX-9g",
        "outputId": "05dad006-a6ea-442c-ee30-e8ad893c7188"
      },
      "source": [
        "from google.colab import drive\n",
        "drive.mount('/content/drive')"
      ],
      "execution_count": null,
      "outputs": [
        {
          "output_type": "stream",
          "text": [
            "Drive already mounted at /content/drive; to attempt to forcibly remount, call drive.mount(\"/content/drive\", force_remount=True).\n"
          ],
          "name": "stdout"
        }
      ]
    },
    {
      "cell_type": "code",
      "metadata": {
        "colab": {
          "base_uri": "https://localhost:8080/"
        },
        "id": "z22ucqCZYISw",
        "outputId": "6e584369-31d2-4e98-e69c-d97a95f45ce5"
      },
      "source": [
        "%cd /content/drive/MyDrive/Mofid/"
      ],
      "execution_count": null,
      "outputs": [
        {
          "output_type": "stream",
          "text": [
            "/content/drive/MyDrive/Mofid\n"
          ],
          "name": "stdout"
        }
      ]
    },
    {
      "cell_type": "code",
      "metadata": {
        "id": "Peqs-Jvls7hY"
      },
      "source": [
        "#!unzip train.zip"
      ],
      "execution_count": null,
      "outputs": []
    },
    {
      "cell_type": "code",
      "metadata": {
        "colab": {
          "base_uri": "https://localhost:8080/"
        },
        "id": "aPwaj36dtZ_u",
        "outputId": "82bfef9a-1d23-4697-f15b-a4c9d6003fd5"
      },
      "source": [
        "%cd train-1"
      ],
      "execution_count": null,
      "outputs": [
        {
          "output_type": "stream",
          "text": [
            "/content/drive/MyDrive/Mofid/train-1\n"
          ],
          "name": "stdout"
        }
      ]
    },
    {
      "cell_type": "code",
      "metadata": {
        "colab": {
          "base_uri": "https://localhost:8080/"
        },
        "id": "GFfhL-zWtnk1",
        "outputId": "1ffee672-e5ba-4a04-a01d-df12d510ae9f"
      },
      "source": [
        "!pip install fasttext"
      ],
      "execution_count": null,
      "outputs": [
        {
          "output_type": "stream",
          "text": [
            "Requirement already satisfied: fasttext in /usr/local/lib/python3.6/dist-packages (0.9.2)\n",
            "Requirement already satisfied: numpy in /usr/local/lib/python3.6/dist-packages (from fasttext) (1.19.4)\n",
            "Requirement already satisfied: setuptools>=0.7.0 in /usr/local/lib/python3.6/dist-packages (from fasttext) (51.0.0)\n",
            "Requirement already satisfied: pybind11>=2.2 in /usr/local/lib/python3.6/dist-packages (from fasttext) (2.6.1)\n"
          ],
          "name": "stdout"
        }
      ]
    },
    {
      "cell_type": "code",
      "metadata": {
        "id": "Z_9CMnx_tpVP"
      },
      "source": [
        "import fasttext\n",
        "import re\n",
        "from nltk.corpus import stopwords\n",
        "import numpy as np, pandas as pd\n",
        "from gensim.utils import simple_preprocess\n",
        "import pandas as pd"
      ],
      "execution_count": null,
      "outputs": []
    },
    {
      "cell_type": "code",
      "metadata": {
        "colab": {
          "base_uri": "https://localhost:8080/"
        },
        "id": "24TaXbYattnd",
        "outputId": "3a79986a-6d77-4725-90fd-8707351496f1"
      },
      "source": [
        "!pip install nltk\n",
        "import nltk\n",
        "nltk.download('stopwords')\n",
        "from nltk.corpus import stopwords\n",
        "stop = stopwords.words('english')\n",
        "\n",
        "nltk.download('words')\n",
        "words = set(nltk.corpus.words.words())"
      ],
      "execution_count": null,
      "outputs": [
        {
          "output_type": "stream",
          "text": [
            "Requirement already satisfied: nltk in /usr/local/lib/python3.6/dist-packages (3.2.5)\n",
            "Requirement already satisfied: six in /usr/local/lib/python3.6/dist-packages (from nltk) (1.15.0)\n",
            "[nltk_data] Downloading package stopwords to /root/nltk_data...\n",
            "[nltk_data]   Package stopwords is already up-to-date!\n",
            "[nltk_data] Downloading package words to /root/nltk_data...\n",
            "[nltk_data]   Package words is already up-to-date!\n"
          ],
          "name": "stdout"
        }
      ]
    },
    {
      "cell_type": "code",
      "metadata": {
        "colab": {
          "base_uri": "https://localhost:8080/",
          "height": 198
        },
        "id": "Vz-zbBa2tXyO",
        "outputId": "b813897b-5c56-452f-b7f9-db10f60d6492"
      },
      "source": [
        "df_train = pd.read_csv('train.csv')\n",
        "df_train.head()"
      ],
      "execution_count": null,
      "outputs": [
        {
          "output_type": "execute_result",
          "data": {
            "text/html": [
              "<div>\n",
              "<style scoped>\n",
              "    .dataframe tbody tr th:only-of-type {\n",
              "        vertical-align: middle;\n",
              "    }\n",
              "\n",
              "    .dataframe tbody tr th {\n",
              "        vertical-align: top;\n",
              "    }\n",
              "\n",
              "    .dataframe thead th {\n",
              "        text-align: right;\n",
              "    }\n",
              "</style>\n",
              "<table border=\"1\" class=\"dataframe\">\n",
              "  <thead>\n",
              "    <tr style=\"text-align: right;\">\n",
              "      <th></th>\n",
              "      <th>Text</th>\n",
              "      <th>Class</th>\n",
              "    </tr>\n",
              "  </thead>\n",
              "  <tbody>\n",
              "    <tr>\n",
              "      <th>0</th>\n",
              "      <td>I do.</td>\n",
              "      <td>0</td>\n",
              "    </tr>\n",
              "    <tr>\n",
              "      <th>1</th>\n",
              "      <td>What if anything was decided about whether I s...</td>\n",
              "      <td>0</td>\n",
              "    </tr>\n",
              "    <tr>\n",
              "      <th>2</th>\n",
              "      <td>H: If Roubini is right and he's been mostly ri...</td>\n",
              "      <td>0</td>\n",
              "    </tr>\n",
              "    <tr>\n",
              "      <th>3</th>\n",
              "      <td>HRC: Below is an oped on the National Security...</td>\n",
              "      <td>0</td>\n",
              "    </tr>\n",
              "    <tr>\n",
              "      <th>4</th>\n",
              "      <td>DQoNCg0KDQoNCg0KDQpHb29kIERheSwNCk1heSBpdCBub3...</td>\n",
              "      <td>1</td>\n",
              "    </tr>\n",
              "  </tbody>\n",
              "</table>\n",
              "</div>"
            ],
            "text/plain": [
              "                                                Text  Class\n",
              "0                                              I do.      0\n",
              "1  What if anything was decided about whether I s...      0\n",
              "2  H: If Roubini is right and he's been mostly ri...      0\n",
              "3  HRC: Below is an oped on the National Security...      0\n",
              "4  DQoNCg0KDQoNCg0KDQpHb29kIERheSwNCk1heSBpdCBub3...      1"
            ]
          },
          "metadata": {
            "tags": []
          },
          "execution_count": 29
        }
      ]
    },
    {
      "cell_type": "code",
      "metadata": {
        "colab": {
          "base_uri": "https://localhost:8080/",
          "height": 198
        },
        "id": "Ztp3IHmNt4KW",
        "outputId": "337c1353-26ba-4c4b-f00c-aee21725585d"
      },
      "source": [
        "df_train['Class'] = df_train['Class'].apply(str)\n",
        "df_train['Text'] = df_train['Text'].apply(str)\n",
        "df_train.head()"
      ],
      "execution_count": null,
      "outputs": [
        {
          "output_type": "execute_result",
          "data": {
            "text/html": [
              "<div>\n",
              "<style scoped>\n",
              "    .dataframe tbody tr th:only-of-type {\n",
              "        vertical-align: middle;\n",
              "    }\n",
              "\n",
              "    .dataframe tbody tr th {\n",
              "        vertical-align: top;\n",
              "    }\n",
              "\n",
              "    .dataframe thead th {\n",
              "        text-align: right;\n",
              "    }\n",
              "</style>\n",
              "<table border=\"1\" class=\"dataframe\">\n",
              "  <thead>\n",
              "    <tr style=\"text-align: right;\">\n",
              "      <th></th>\n",
              "      <th>Text</th>\n",
              "      <th>Class</th>\n",
              "    </tr>\n",
              "  </thead>\n",
              "  <tbody>\n",
              "    <tr>\n",
              "      <th>0</th>\n",
              "      <td>I do.</td>\n",
              "      <td>0</td>\n",
              "    </tr>\n",
              "    <tr>\n",
              "      <th>1</th>\n",
              "      <td>What if anything was decided about whether I s...</td>\n",
              "      <td>0</td>\n",
              "    </tr>\n",
              "    <tr>\n",
              "      <th>2</th>\n",
              "      <td>H: If Roubini is right and he's been mostly ri...</td>\n",
              "      <td>0</td>\n",
              "    </tr>\n",
              "    <tr>\n",
              "      <th>3</th>\n",
              "      <td>HRC: Below is an oped on the National Security...</td>\n",
              "      <td>0</td>\n",
              "    </tr>\n",
              "    <tr>\n",
              "      <th>4</th>\n",
              "      <td>DQoNCg0KDQoNCg0KDQpHb29kIERheSwNCk1heSBpdCBub3...</td>\n",
              "      <td>1</td>\n",
              "    </tr>\n",
              "  </tbody>\n",
              "</table>\n",
              "</div>"
            ],
            "text/plain": [
              "                                                Text Class\n",
              "0                                              I do.     0\n",
              "1  What if anything was decided about whether I s...     0\n",
              "2  H: If Roubini is right and he's been mostly ri...     0\n",
              "3  HRC: Below is an oped on the National Security...     0\n",
              "4  DQoNCg0KDQoNCg0KDQpHb29kIERheSwNCk1heSBpdCBub3...     1"
            ]
          },
          "metadata": {
            "tags": []
          },
          "execution_count": 30
        }
      ]
    },
    {
      "cell_type": "code",
      "metadata": {
        "colab": {
          "base_uri": "https://localhost:8080/",
          "height": 198
        },
        "id": "hWeZ6fK6uCTW",
        "outputId": "ad668471-f935-4c87-8cd2-b352e6bad732"
      },
      "source": [
        "df_train = df_train[['Text', 'Class']].rename(columns = {'Text': 'questions', 'Class': 'category'})\n",
        "df_train.head()"
      ],
      "execution_count": null,
      "outputs": [
        {
          "output_type": "execute_result",
          "data": {
            "text/html": [
              "<div>\n",
              "<style scoped>\n",
              "    .dataframe tbody tr th:only-of-type {\n",
              "        vertical-align: middle;\n",
              "    }\n",
              "\n",
              "    .dataframe tbody tr th {\n",
              "        vertical-align: top;\n",
              "    }\n",
              "\n",
              "    .dataframe thead th {\n",
              "        text-align: right;\n",
              "    }\n",
              "</style>\n",
              "<table border=\"1\" class=\"dataframe\">\n",
              "  <thead>\n",
              "    <tr style=\"text-align: right;\">\n",
              "      <th></th>\n",
              "      <th>questions</th>\n",
              "      <th>category</th>\n",
              "    </tr>\n",
              "  </thead>\n",
              "  <tbody>\n",
              "    <tr>\n",
              "      <th>0</th>\n",
              "      <td>I do.</td>\n",
              "      <td>0</td>\n",
              "    </tr>\n",
              "    <tr>\n",
              "      <th>1</th>\n",
              "      <td>What if anything was decided about whether I s...</td>\n",
              "      <td>0</td>\n",
              "    </tr>\n",
              "    <tr>\n",
              "      <th>2</th>\n",
              "      <td>H: If Roubini is right and he's been mostly ri...</td>\n",
              "      <td>0</td>\n",
              "    </tr>\n",
              "    <tr>\n",
              "      <th>3</th>\n",
              "      <td>HRC: Below is an oped on the National Security...</td>\n",
              "      <td>0</td>\n",
              "    </tr>\n",
              "    <tr>\n",
              "      <th>4</th>\n",
              "      <td>DQoNCg0KDQoNCg0KDQpHb29kIERheSwNCk1heSBpdCBub3...</td>\n",
              "      <td>1</td>\n",
              "    </tr>\n",
              "  </tbody>\n",
              "</table>\n",
              "</div>"
            ],
            "text/plain": [
              "                                           questions category\n",
              "0                                              I do.        0\n",
              "1  What if anything was decided about whether I s...        0\n",
              "2  H: If Roubini is right and he's been mostly ri...        0\n",
              "3  HRC: Below is an oped on the National Security...        0\n",
              "4  DQoNCg0KDQoNCg0KDQpHb29kIERheSwNCk1heSBpdCBub3...        1"
            ]
          },
          "metadata": {
            "tags": []
          },
          "execution_count": 31
        }
      ]
    },
    {
      "cell_type": "code",
      "metadata": {
        "colab": {
          "base_uri": "https://localhost:8080/"
        },
        "id": "-7XaUihAu00f",
        "outputId": "f994e129-270d-4e89-8592-73df9b904cf9"
      },
      "source": [
        "df_train.dtypes"
      ],
      "execution_count": null,
      "outputs": [
        {
          "output_type": "execute_result",
          "data": {
            "text/plain": [
              "questions    object\n",
              "category     object\n",
              "dtype: object"
            ]
          },
          "metadata": {
            "tags": []
          },
          "execution_count": 32
        }
      ]
    },
    {
      "cell_type": "code",
      "metadata": {
        "colab": {
          "base_uri": "https://localhost:8080/"
        },
        "id": "0xYCWi1pvsWs",
        "outputId": "2612331e-20b5-4199-d1ac-0569743f1f40"
      },
      "source": [
        "df_train['questions'].fillna('').astype(str)"
      ],
      "execution_count": null,
      "outputs": [
        {
          "output_type": "execute_result",
          "data": {
            "text/plain": [
              "0                                                   I do.\n",
              "1       What if anything was decided about whether I s...\n",
              "2       H: If Roubini is right and he's been mostly ri...\n",
              "3       HRC: Below is an oped on the National Security...\n",
              "4       DQoNCg0KDQoNCg0KDQpHb29kIERheSwNCk1heSBpdCBub3...\n",
              "                              ...                        \n",
              "9538                Assume jake and pir talked to u about\n",
              "9539     Experience in Southeast Asia [John Carland]below\n",
              "9540    ATTN=3AC=2EE=2EO=2FPRESIDENT=2E I know this me...\n",
              "9541    Dear Friend,How are you doing? I would be very...\n",
              "9542    COMPLIMENTS OF THE SEASON=2C  With due respect...\n",
              "Name: questions, Length: 9543, dtype: object"
            ]
          },
          "metadata": {
            "tags": []
          },
          "execution_count": 33
        }
      ]
    },
    {
      "cell_type": "code",
      "metadata": {
        "colab": {
          "base_uri": "https://localhost:8080/",
          "height": 198
        },
        "id": "l3VHpMZ0uWlN",
        "outputId": "227bc8c2-8bbd-4907-d683-eff760fb4972"
      },
      "source": [
        "# NLP Preprocess\n",
        "df_train.iloc[:, 0] = df_train.iloc[:, 0].apply(lambda x: ' '.join(simple_preprocess(x)))\n",
        "df_train.iloc[:, 0] = df_train.iloc[:, 0].apply(lambda x: ' '.join(w for w in nltk.wordpunct_tokenize(x) if w.lower() in words or not w.isalpha()))\n",
        "df_train.iloc[:, 0] = df_train.iloc[:, 0].apply(lambda x: ' '.join([word for word in x.split() if word not in (stop)]))\n",
        "df_train.head()"
      ],
      "execution_count": null,
      "outputs": [
        {
          "output_type": "execute_result",
          "data": {
            "text/html": [
              "<div>\n",
              "<style scoped>\n",
              "    .dataframe tbody tr th:only-of-type {\n",
              "        vertical-align: middle;\n",
              "    }\n",
              "\n",
              "    .dataframe tbody tr th {\n",
              "        vertical-align: top;\n",
              "    }\n",
              "\n",
              "    .dataframe thead th {\n",
              "        text-align: right;\n",
              "    }\n",
              "</style>\n",
              "<table border=\"1\" class=\"dataframe\">\n",
              "  <thead>\n",
              "    <tr style=\"text-align: right;\">\n",
              "      <th></th>\n",
              "      <th>questions</th>\n",
              "      <th>category</th>\n",
              "    </tr>\n",
              "  </thead>\n",
              "  <tbody>\n",
              "    <tr>\n",
              "      <th>0</th>\n",
              "      <td></td>\n",
              "      <td>0</td>\n",
              "    </tr>\n",
              "    <tr>\n",
              "      <th>1</th>\n",
              "      <td>anything decided whether call traffic read say...</td>\n",
              "      <td>0</td>\n",
              "    </tr>\n",
              "    <tr>\n",
              "      <th>2</th>\n",
              "      <td>right mostly right far one without additional ...</td>\n",
              "      <td>0</td>\n",
              "    </tr>\n",
              "    <tr>\n",
              "      <th>3</th>\n",
              "      <td>national security strategy wrote tomorrow outl...</td>\n",
              "      <td>0</td>\n",
              "    </tr>\n",
              "    <tr>\n",
              "      <th>4</th>\n",
              "      <td>mig aw aw aw mig st aw nig aw aw ly aw ha gaw</td>\n",
              "      <td>1</td>\n",
              "    </tr>\n",
              "  </tbody>\n",
              "</table>\n",
              "</div>"
            ],
            "text/plain": [
              "                                           questions category\n",
              "0                                                           0\n",
              "1  anything decided whether call traffic read say...        0\n",
              "2  right mostly right far one without additional ...        0\n",
              "3  national security strategy wrote tomorrow outl...        0\n",
              "4      mig aw aw aw mig st aw nig aw aw ly aw ha gaw        1"
            ]
          },
          "metadata": {
            "tags": []
          },
          "execution_count": 34
        }
      ]
    },
    {
      "cell_type": "code",
      "metadata": {
        "colab": {
          "base_uri": "https://localhost:8080/",
          "height": 198
        },
        "id": "M1uUtFUXwUm9",
        "outputId": "37821cbd-2448-4236-f459-77d125074888"
      },
      "source": [
        "# Prefixing each row of the category column with '__label__'\n",
        "df_train.iloc[:, 1] = df_train.iloc[:, 1].apply(lambda x: '__label__' + x)\n",
        "df_train.head()"
      ],
      "execution_count": null,
      "outputs": [
        {
          "output_type": "execute_result",
          "data": {
            "text/html": [
              "<div>\n",
              "<style scoped>\n",
              "    .dataframe tbody tr th:only-of-type {\n",
              "        vertical-align: middle;\n",
              "    }\n",
              "\n",
              "    .dataframe tbody tr th {\n",
              "        vertical-align: top;\n",
              "    }\n",
              "\n",
              "    .dataframe thead th {\n",
              "        text-align: right;\n",
              "    }\n",
              "</style>\n",
              "<table border=\"1\" class=\"dataframe\">\n",
              "  <thead>\n",
              "    <tr style=\"text-align: right;\">\n",
              "      <th></th>\n",
              "      <th>questions</th>\n",
              "      <th>category</th>\n",
              "    </tr>\n",
              "  </thead>\n",
              "  <tbody>\n",
              "    <tr>\n",
              "      <th>0</th>\n",
              "      <td></td>\n",
              "      <td>__label__0</td>\n",
              "    </tr>\n",
              "    <tr>\n",
              "      <th>1</th>\n",
              "      <td>anything decided whether call traffic read say...</td>\n",
              "      <td>__label__0</td>\n",
              "    </tr>\n",
              "    <tr>\n",
              "      <th>2</th>\n",
              "      <td>right mostly right far one without additional ...</td>\n",
              "      <td>__label__0</td>\n",
              "    </tr>\n",
              "    <tr>\n",
              "      <th>3</th>\n",
              "      <td>national security strategy wrote tomorrow outl...</td>\n",
              "      <td>__label__0</td>\n",
              "    </tr>\n",
              "    <tr>\n",
              "      <th>4</th>\n",
              "      <td>mig aw aw aw mig st aw nig aw aw ly aw ha gaw</td>\n",
              "      <td>__label__1</td>\n",
              "    </tr>\n",
              "  </tbody>\n",
              "</table>\n",
              "</div>"
            ],
            "text/plain": [
              "                                           questions    category\n",
              "0                                                     __label__0\n",
              "1  anything decided whether call traffic read say...  __label__0\n",
              "2  right mostly right far one without additional ...  __label__0\n",
              "3  national security strategy wrote tomorrow outl...  __label__0\n",
              "4      mig aw aw aw mig st aw nig aw aw ly aw ha gaw  __label__1"
            ]
          },
          "metadata": {
            "tags": []
          },
          "execution_count": 35
        }
      ]
    },
    {
      "cell_type": "code",
      "metadata": {
        "id": "1gUPqO0vwVdz"
      },
      "source": [
        "df_train[['category', 'questions']].to_csv('train.txt', \n",
        "                                          index = False, \n",
        "                                          sep = ' ',\n",
        "                                          header = None, \n",
        "                                          escapechar = \" \")"
      ],
      "execution_count": null,
      "outputs": []
    },
    {
      "cell_type": "markdown",
      "metadata": {
        "id": "Kd_xqa4TwqwZ"
      },
      "source": [
        "***\n",
        "Test\n"
      ]
    },
    {
      "cell_type": "code",
      "metadata": {
        "colab": {
          "base_uri": "https://localhost:8080/",
          "height": 108
        },
        "id": "rKHKCg71wsms",
        "outputId": "b6ede1dc-9c69-4e6d-f93f-f57e216ccfdf"
      },
      "source": [
        "df_test = pd.read_csv('test.csv')\n",
        "df_test.head(2)"
      ],
      "execution_count": null,
      "outputs": [
        {
          "output_type": "execute_result",
          "data": {
            "text/html": [
              "<div>\n",
              "<style scoped>\n",
              "    .dataframe tbody tr th:only-of-type {\n",
              "        vertical-align: middle;\n",
              "    }\n",
              "\n",
              "    .dataframe tbody tr th {\n",
              "        vertical-align: top;\n",
              "    }\n",
              "\n",
              "    .dataframe thead th {\n",
              "        text-align: right;\n",
              "    }\n",
              "</style>\n",
              "<table border=\"1\" class=\"dataframe\">\n",
              "  <thead>\n",
              "    <tr style=\"text-align: right;\">\n",
              "      <th></th>\n",
              "      <th>Text</th>\n",
              "    </tr>\n",
              "  </thead>\n",
              "  <tbody>\n",
              "    <tr>\n",
              "      <th>0</th>\n",
              "      <td>FROM BONGO WALEJOHANNESBURG,SOUTH AFRICA.TELL:...</td>\n",
              "    </tr>\n",
              "    <tr>\n",
              "      <th>1</th>\n",
              "      <td>MR=2E DONALD COLLINSCREDIT MUTUEL DU SENEGAL B...</td>\n",
              "    </tr>\n",
              "  </tbody>\n",
              "</table>\n",
              "</div>"
            ],
            "text/plain": [
              "                                                Text\n",
              "0  FROM BONGO WALEJOHANNESBURG,SOUTH AFRICA.TELL:...\n",
              "1  MR=2E DONALD COLLINSCREDIT MUTUEL DU SENEGAL B..."
            ]
          },
          "metadata": {
            "tags": []
          },
          "execution_count": 37
        }
      ]
    },
    {
      "cell_type": "code",
      "metadata": {
        "colab": {
          "base_uri": "https://localhost:8080/",
          "height": 108
        },
        "id": "HhTp7ySsxbd8",
        "outputId": "d07f7ec3-84c0-40c0-a4f0-eac09aeeacc3"
      },
      "source": [
        "df_test = df_test[['Text']].rename(columns = {'Text': 'questions'})\n",
        "df_test.head(2)"
      ],
      "execution_count": null,
      "outputs": [
        {
          "output_type": "execute_result",
          "data": {
            "text/html": [
              "<div>\n",
              "<style scoped>\n",
              "    .dataframe tbody tr th:only-of-type {\n",
              "        vertical-align: middle;\n",
              "    }\n",
              "\n",
              "    .dataframe tbody tr th {\n",
              "        vertical-align: top;\n",
              "    }\n",
              "\n",
              "    .dataframe thead th {\n",
              "        text-align: right;\n",
              "    }\n",
              "</style>\n",
              "<table border=\"1\" class=\"dataframe\">\n",
              "  <thead>\n",
              "    <tr style=\"text-align: right;\">\n",
              "      <th></th>\n",
              "      <th>questions</th>\n",
              "    </tr>\n",
              "  </thead>\n",
              "  <tbody>\n",
              "    <tr>\n",
              "      <th>0</th>\n",
              "      <td>FROM BONGO WALEJOHANNESBURG,SOUTH AFRICA.TELL:...</td>\n",
              "    </tr>\n",
              "    <tr>\n",
              "      <th>1</th>\n",
              "      <td>MR=2E DONALD COLLINSCREDIT MUTUEL DU SENEGAL B...</td>\n",
              "    </tr>\n",
              "  </tbody>\n",
              "</table>\n",
              "</div>"
            ],
            "text/plain": [
              "                                           questions\n",
              "0  FROM BONGO WALEJOHANNESBURG,SOUTH AFRICA.TELL:...\n",
              "1  MR=2E DONALD COLLINSCREDIT MUTUEL DU SENEGAL B..."
            ]
          },
          "metadata": {
            "tags": []
          },
          "execution_count": 38
        }
      ]
    },
    {
      "cell_type": "code",
      "metadata": {
        "colab": {
          "base_uri": "https://localhost:8080/",
          "height": 198
        },
        "id": "ikGp0Ag3wt8q",
        "outputId": "c4d74b06-b862-452f-cc05-dfd177105059"
      },
      "source": [
        "df_test.iloc[:, 0] = df_test.iloc[:, 0].apply(lambda x: ' '.join(simple_preprocess(x)))\n",
        "df_test.iloc[:, 0] = df_test.iloc[:, 0].apply(lambda x: ' '.join(w for w in nltk.wordpunct_tokenize(x) if w.lower() in words or not w.isalpha()))\n",
        "df_test.iloc[:, 0] = df_test.iloc[:, 0].apply(lambda x: ' '.join([word for word in x.split() if word not in (stop)]))\n",
        "df_test.head()"
      ],
      "execution_count": null,
      "outputs": [
        {
          "output_type": "execute_result",
          "data": {
            "text/html": [
              "<div>\n",
              "<style scoped>\n",
              "    .dataframe tbody tr th:only-of-type {\n",
              "        vertical-align: middle;\n",
              "    }\n",
              "\n",
              "    .dataframe tbody tr th {\n",
              "        vertical-align: top;\n",
              "    }\n",
              "\n",
              "    .dataframe thead th {\n",
              "        text-align: right;\n",
              "    }\n",
              "</style>\n",
              "<table border=\"1\" class=\"dataframe\">\n",
              "  <thead>\n",
              "    <tr style=\"text-align: right;\">\n",
              "      <th></th>\n",
              "      <th>questions</th>\n",
              "    </tr>\n",
              "  </thead>\n",
              "  <tbody>\n",
              "    <tr>\n",
              "      <th>0</th>\n",
              "      <td>bongo south tell dear sir bongo wale son wale ...</td>\n",
              "    </tr>\n",
              "    <tr>\n",
              "      <th>1</th>\n",
              "      <td>bank attention collins south working credit ma...</td>\n",
              "    </tr>\n",
              "    <tr>\n",
              "      <th>2</th>\n",
              "      <td>meant write tough critic</td>\n",
              "    </tr>\n",
              "    <tr>\n",
              "      <th>3</th>\n",
              "      <td>well well</td>\n",
              "    </tr>\n",
              "    <tr>\n",
              "      <th>4</th>\n",
              "      <td>dear friend season like send best good health ...</td>\n",
              "    </tr>\n",
              "  </tbody>\n",
              "</table>\n",
              "</div>"
            ],
            "text/plain": [
              "                                           questions\n",
              "0  bongo south tell dear sir bongo wale son wale ...\n",
              "1  bank attention collins south working credit ma...\n",
              "2                           meant write tough critic\n",
              "3                                          well well\n",
              "4  dear friend season like send best good health ..."
            ]
          },
          "metadata": {
            "tags": []
          },
          "execution_count": 43
        }
      ]
    },
    {
      "cell_type": "markdown",
      "metadata": {
        "id": "NETQbJncxvbU"
      },
      "source": [
        "***\n",
        "Model"
      ]
    },
    {
      "cell_type": "code",
      "metadata": {
        "id": "glkiQTS_xoby"
      },
      "source": [
        "# Training the fastText classifier\n",
        "model = fasttext.train_supervised('train.txt')"
      ],
      "execution_count": null,
      "outputs": []
    },
    {
      "cell_type": "code",
      "metadata": {
        "id": "knyubu3Txtg8"
      },
      "source": [
        "# Predicting \n",
        "preds = []\n",
        "for i in range(0,len(df_test)):\n",
        "  pred = model.predict(df_test.iloc[i,0])\n",
        "  preds.append(pred[1][0])"
      ],
      "execution_count": null,
      "outputs": []
    },
    {
      "cell_type": "code",
      "metadata": {
        "id": "y-Ai_1D-xu9U"
      },
      "source": [
        "out = pd.DataFrame(preds)\n",
        "out.to_csv('submit.csv', index=False, header=['Class'])"
      ],
      "execution_count": null,
      "outputs": []
    }
  ]
}