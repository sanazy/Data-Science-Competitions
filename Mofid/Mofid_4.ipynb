{
  "nbformat": 4,
  "nbformat_minor": 0,
  "metadata": {
    "colab": {
      "name": "Mofid-4.ipynb",
      "provenance": [],
      "collapsed_sections": []
    },
    "kernelspec": {
      "name": "python3",
      "display_name": "Python 3"
    },
    "accelerator": "GPU"
  },
  "cells": [
    {
      "cell_type": "code",
      "metadata": {
        "colab": {
          "base_uri": "https://localhost:8080/"
        },
        "id": "CmHjInbuzWPI",
        "outputId": "85e0f8c1-de27-423d-ebb1-1146685f48de"
      },
      "source": [
        "from google.colab import drive\n",
        "drive.mount('/content/drive')"
      ],
      "execution_count": null,
      "outputs": [
        {
          "output_type": "stream",
          "text": [
            "Mounted at /content/drive\n"
          ],
          "name": "stdout"
        }
      ]
    },
    {
      "cell_type": "code",
      "metadata": {
        "colab": {
          "base_uri": "https://localhost:8080/"
        },
        "id": "5yf3Hcn_1R2Q",
        "outputId": "aea0543d-ac39-4a01-d6b4-459fe3889c13"
      },
      "source": [
        "%cd /content/drive/MyDrive/Mofid"
      ],
      "execution_count": null,
      "outputs": [
        {
          "output_type": "stream",
          "text": [
            "/content/drive/MyDrive/Mofid\n"
          ],
          "name": "stdout"
        }
      ]
    },
    {
      "cell_type": "code",
      "metadata": {
        "id": "RySPEajE1nAB",
        "colab": {
          "base_uri": "https://localhost:8080/"
        },
        "outputId": "27b160ef-a862-4dbf-9c17-6099da46e89b"
      },
      "source": [
        "!unzip train-2.zip"
      ],
      "execution_count": null,
      "outputs": [
        {
          "output_type": "stream",
          "text": [
            "Archive:  train-2.zip\n",
            "   creating: train/\n",
            "  inflating: train/train.csv         \n",
            "  inflating: train/test.csv          \n"
          ],
          "name": "stdout"
        }
      ]
    },
    {
      "cell_type": "code",
      "metadata": {
        "colab": {
          "base_uri": "https://localhost:8080/"
        },
        "id": "jloOWUy23A7x",
        "outputId": "a5b1d686-d5fb-4fc6-c8fe-8fd12686461c"
      },
      "source": [
        "%cd train-2"
      ],
      "execution_count": null,
      "outputs": [
        {
          "output_type": "stream",
          "text": [
            "/content/drive/My Drive/Mofid/train-2\n"
          ],
          "name": "stdout"
        }
      ]
    },
    {
      "cell_type": "code",
      "metadata": {
        "colab": {
          "base_uri": "https://localhost:8080/"
        },
        "id": "DvDd8yQ82SgS",
        "outputId": "0d7de42e-653b-4e67-c0ab-982af035ce85"
      },
      "source": [
        "!pip install catboost"
      ],
      "execution_count": null,
      "outputs": [
        {
          "output_type": "stream",
          "text": [
            "Collecting catboost\n",
            "\u001b[?25l  Downloading https://files.pythonhosted.org/packages/20/37/bc4e0ddc30c07a96482abf1de7ed1ca54e59bba2026a33bca6d2ef286e5b/catboost-0.24.4-cp36-none-manylinux1_x86_64.whl (65.7MB)\n",
            "\u001b[K     |████████████████████████████████| 65.8MB 45kB/s \n",
            "\u001b[?25hRequirement already satisfied: scipy in /usr/local/lib/python3.6/dist-packages (from catboost) (1.4.1)\n",
            "Requirement already satisfied: matplotlib in /usr/local/lib/python3.6/dist-packages (from catboost) (3.2.2)\n",
            "Requirement already satisfied: numpy>=1.16.0 in /usr/local/lib/python3.6/dist-packages (from catboost) (1.19.4)\n",
            "Requirement already satisfied: six in /usr/local/lib/python3.6/dist-packages (from catboost) (1.15.0)\n",
            "Requirement already satisfied: graphviz in /usr/local/lib/python3.6/dist-packages (from catboost) (0.10.1)\n",
            "Requirement already satisfied: pandas>=0.24.0 in /usr/local/lib/python3.6/dist-packages (from catboost) (1.1.5)\n",
            "Requirement already satisfied: plotly in /usr/local/lib/python3.6/dist-packages (from catboost) (4.4.1)\n",
            "Requirement already satisfied: python-dateutil>=2.1 in /usr/local/lib/python3.6/dist-packages (from matplotlib->catboost) (2.8.1)\n",
            "Requirement already satisfied: pyparsing!=2.0.4,!=2.1.2,!=2.1.6,>=2.0.1 in /usr/local/lib/python3.6/dist-packages (from matplotlib->catboost) (2.4.7)\n",
            "Requirement already satisfied: kiwisolver>=1.0.1 in /usr/local/lib/python3.6/dist-packages (from matplotlib->catboost) (1.3.1)\n",
            "Requirement already satisfied: cycler>=0.10 in /usr/local/lib/python3.6/dist-packages (from matplotlib->catboost) (0.10.0)\n",
            "Requirement already satisfied: pytz>=2017.2 in /usr/local/lib/python3.6/dist-packages (from pandas>=0.24.0->catboost) (2018.9)\n",
            "Requirement already satisfied: retrying>=1.3.3 in /usr/local/lib/python3.6/dist-packages (from plotly->catboost) (1.3.3)\n",
            "Installing collected packages: catboost\n",
            "Successfully installed catboost-0.24.4\n"
          ],
          "name": "stdout"
        }
      ]
    },
    {
      "cell_type": "code",
      "metadata": {
        "id": "VmW9mmBb2yQ-"
      },
      "source": [
        "from catboost import Pool, CatBoostClassifier\n",
        "from sklearn.model_selection import train_test_split\n",
        "import pandas as pd"
      ],
      "execution_count": null,
      "outputs": []
    },
    {
      "cell_type": "code",
      "metadata": {
        "id": "ydWFw-kM1ruG",
        "colab": {
          "base_uri": "https://localhost:8080/",
          "height": 253
        },
        "outputId": "a13814ab-4b71-4c3d-d078-80710d4a18a4"
      },
      "source": [
        "df_train = pd.read_csv('train.csv')\n",
        "df_train.head()"
      ],
      "execution_count": null,
      "outputs": [
        {
          "output_type": "execute_result",
          "data": {
            "text/html": [
              "<div>\n",
              "<style scoped>\n",
              "    .dataframe tbody tr th:only-of-type {\n",
              "        vertical-align: middle;\n",
              "    }\n",
              "\n",
              "    .dataframe tbody tr th {\n",
              "        vertical-align: top;\n",
              "    }\n",
              "\n",
              "    .dataframe thead th {\n",
              "        text-align: right;\n",
              "    }\n",
              "</style>\n",
              "<table border=\"1\" class=\"dataframe\">\n",
              "  <thead>\n",
              "    <tr style=\"text-align: right;\">\n",
              "      <th></th>\n",
              "      <th>bin_0</th>\n",
              "      <th>bin_1</th>\n",
              "      <th>bin_2</th>\n",
              "      <th>bin_3</th>\n",
              "      <th>bin_4</th>\n",
              "      <th>nom_0</th>\n",
              "      <th>nom_1</th>\n",
              "      <th>nom_2</th>\n",
              "      <th>nom_3</th>\n",
              "      <th>nom_4</th>\n",
              "      <th>nom_5</th>\n",
              "      <th>nom_6</th>\n",
              "      <th>nom_7</th>\n",
              "      <th>nom_8</th>\n",
              "      <th>nom_9</th>\n",
              "      <th>ord_0</th>\n",
              "      <th>ord_1</th>\n",
              "      <th>ord_2</th>\n",
              "      <th>ord_3</th>\n",
              "      <th>ord_4</th>\n",
              "      <th>ord_5</th>\n",
              "      <th>day</th>\n",
              "      <th>month</th>\n",
              "      <th>target</th>\n",
              "    </tr>\n",
              "  </thead>\n",
              "  <tbody>\n",
              "    <tr>\n",
              "      <th>0</th>\n",
              "      <td>0.0</td>\n",
              "      <td>1.0</td>\n",
              "      <td>0.0</td>\n",
              "      <td>F</td>\n",
              "      <td>N</td>\n",
              "      <td>Blue</td>\n",
              "      <td>Circle</td>\n",
              "      <td>Hamster</td>\n",
              "      <td>Costa Rica</td>\n",
              "      <td>Theremin</td>\n",
              "      <td>b165c9589</td>\n",
              "      <td>6fc4f10fb</td>\n",
              "      <td>22a1b223f</td>\n",
              "      <td>1a59581be</td>\n",
              "      <td>e184f0df9</td>\n",
              "      <td>2.0</td>\n",
              "      <td>Master</td>\n",
              "      <td>Freezing</td>\n",
              "      <td>e</td>\n",
              "      <td>N</td>\n",
              "      <td>oh</td>\n",
              "      <td>3.0</td>\n",
              "      <td>5.0</td>\n",
              "      <td>0</td>\n",
              "    </tr>\n",
              "    <tr>\n",
              "      <th>1</th>\n",
              "      <td>1.0</td>\n",
              "      <td>1.0</td>\n",
              "      <td>0.0</td>\n",
              "      <td>F</td>\n",
              "      <td>Y</td>\n",
              "      <td>Blue</td>\n",
              "      <td>Trapezoid</td>\n",
              "      <td>Dog</td>\n",
              "      <td>India</td>\n",
              "      <td>Theremin</td>\n",
              "      <td>0289ab250</td>\n",
              "      <td>c3b174e52</td>\n",
              "      <td>5e17197af</td>\n",
              "      <td>ca9ad1d4b</td>\n",
              "      <td>a91d577f9</td>\n",
              "      <td>1.0</td>\n",
              "      <td>Contributor</td>\n",
              "      <td>Freezing</td>\n",
              "      <td>f</td>\n",
              "      <td>N</td>\n",
              "      <td>Kq</td>\n",
              "      <td>3.0</td>\n",
              "      <td>8.0</td>\n",
              "      <td>0</td>\n",
              "    </tr>\n",
              "    <tr>\n",
              "      <th>2</th>\n",
              "      <td>0.0</td>\n",
              "      <td>0.0</td>\n",
              "      <td>0.0</td>\n",
              "      <td>F</td>\n",
              "      <td>N</td>\n",
              "      <td>Red</td>\n",
              "      <td>Circle</td>\n",
              "      <td>Hamster</td>\n",
              "      <td>India</td>\n",
              "      <td>Bassoon</td>\n",
              "      <td>337a3bd19</td>\n",
              "      <td>c18193dac</td>\n",
              "      <td>56d35c774</td>\n",
              "      <td>32ff72b97</td>\n",
              "      <td>7813e67c3</td>\n",
              "      <td>2.0</td>\n",
              "      <td>NaN</td>\n",
              "      <td>Cold</td>\n",
              "      <td>i</td>\n",
              "      <td>D</td>\n",
              "      <td>Fl</td>\n",
              "      <td>3.0</td>\n",
              "      <td>3.0</td>\n",
              "      <td>0</td>\n",
              "    </tr>\n",
              "    <tr>\n",
              "      <th>3</th>\n",
              "      <td>0.0</td>\n",
              "      <td>0.0</td>\n",
              "      <td>0.0</td>\n",
              "      <td>T</td>\n",
              "      <td>N</td>\n",
              "      <td>Green</td>\n",
              "      <td>Polygon</td>\n",
              "      <td>Hamster</td>\n",
              "      <td>India</td>\n",
              "      <td>Theremin</td>\n",
              "      <td>024efa364</td>\n",
              "      <td>9043b0882</td>\n",
              "      <td>e60e65034</td>\n",
              "      <td>46a005ddf</td>\n",
              "      <td>55fe9a4b8</td>\n",
              "      <td>1.0</td>\n",
              "      <td>Grandmaster</td>\n",
              "      <td>Cold</td>\n",
              "      <td>n</td>\n",
              "      <td>Z</td>\n",
              "      <td>In</td>\n",
              "      <td>7.0</td>\n",
              "      <td>7.0</td>\n",
              "      <td>0</td>\n",
              "    </tr>\n",
              "    <tr>\n",
              "      <th>4</th>\n",
              "      <td>0.0</td>\n",
              "      <td>0.0</td>\n",
              "      <td>0.0</td>\n",
              "      <td>F</td>\n",
              "      <td>N</td>\n",
              "      <td>Blue</td>\n",
              "      <td>Polygon</td>\n",
              "      <td>Axolotl</td>\n",
              "      <td>Costa Rica</td>\n",
              "      <td>Bassoon</td>\n",
              "      <td>7b0da9c0f</td>\n",
              "      <td>7a22f53ea</td>\n",
              "      <td>f74f0b894</td>\n",
              "      <td>NaN</td>\n",
              "      <td>512255ae7</td>\n",
              "      <td>1.0</td>\n",
              "      <td>Expert</td>\n",
              "      <td>Hot</td>\n",
              "      <td>i</td>\n",
              "      <td>X</td>\n",
              "      <td>Sk</td>\n",
              "      <td>5.0</td>\n",
              "      <td>2.0</td>\n",
              "      <td>1</td>\n",
              "    </tr>\n",
              "  </tbody>\n",
              "</table>\n",
              "</div>"
            ],
            "text/plain": [
              "   bin_0  bin_1  bin_2 bin_3 bin_4  nom_0  ... ord_3 ord_4 ord_5  day month target\n",
              "0    0.0    1.0    0.0     F     N   Blue  ...     e     N    oh  3.0   5.0      0\n",
              "1    1.0    1.0    0.0     F     Y   Blue  ...     f     N    Kq  3.0   8.0      0\n",
              "2    0.0    0.0    0.0     F     N    Red  ...     i     D    Fl  3.0   3.0      0\n",
              "3    0.0    0.0    0.0     T     N  Green  ...     n     Z    In  7.0   7.0      0\n",
              "4    0.0    0.0    0.0     F     N   Blue  ...     i     X    Sk  5.0   2.0      1\n",
              "\n",
              "[5 rows x 24 columns]"
            ]
          },
          "metadata": {
            "tags": []
          },
          "execution_count": 7
        }
      ]
    },
    {
      "cell_type": "code",
      "metadata": {
        "colab": {
          "base_uri": "https://localhost:8080/",
          "height": 253
        },
        "id": "1RlpU_b43xOE",
        "outputId": "5c8dc22f-2959-4c0b-a5bf-8fa32ba43a46"
      },
      "source": [
        "df_train.drop(['nom_5', 'nom_6', 'nom_7', 'nom_8', 'nom_9'], inplace = True, axis = 1) \n",
        "df_train.head()"
      ],
      "execution_count": null,
      "outputs": [
        {
          "output_type": "execute_result",
          "data": {
            "text/html": [
              "<div>\n",
              "<style scoped>\n",
              "    .dataframe tbody tr th:only-of-type {\n",
              "        vertical-align: middle;\n",
              "    }\n",
              "\n",
              "    .dataframe tbody tr th {\n",
              "        vertical-align: top;\n",
              "    }\n",
              "\n",
              "    .dataframe thead th {\n",
              "        text-align: right;\n",
              "    }\n",
              "</style>\n",
              "<table border=\"1\" class=\"dataframe\">\n",
              "  <thead>\n",
              "    <tr style=\"text-align: right;\">\n",
              "      <th></th>\n",
              "      <th>bin_0</th>\n",
              "      <th>bin_1</th>\n",
              "      <th>bin_2</th>\n",
              "      <th>bin_3</th>\n",
              "      <th>bin_4</th>\n",
              "      <th>nom_0</th>\n",
              "      <th>nom_1</th>\n",
              "      <th>nom_2</th>\n",
              "      <th>nom_3</th>\n",
              "      <th>nom_4</th>\n",
              "      <th>ord_0</th>\n",
              "      <th>ord_1</th>\n",
              "      <th>ord_2</th>\n",
              "      <th>ord_3</th>\n",
              "      <th>ord_4</th>\n",
              "      <th>ord_5</th>\n",
              "      <th>day</th>\n",
              "      <th>month</th>\n",
              "      <th>target</th>\n",
              "    </tr>\n",
              "  </thead>\n",
              "  <tbody>\n",
              "    <tr>\n",
              "      <th>0</th>\n",
              "      <td>0.0</td>\n",
              "      <td>1.0</td>\n",
              "      <td>0.0</td>\n",
              "      <td>F</td>\n",
              "      <td>N</td>\n",
              "      <td>Blue</td>\n",
              "      <td>Circle</td>\n",
              "      <td>Hamster</td>\n",
              "      <td>Costa Rica</td>\n",
              "      <td>Theremin</td>\n",
              "      <td>2.0</td>\n",
              "      <td>Master</td>\n",
              "      <td>Freezing</td>\n",
              "      <td>e</td>\n",
              "      <td>N</td>\n",
              "      <td>oh</td>\n",
              "      <td>3.0</td>\n",
              "      <td>5.0</td>\n",
              "      <td>0</td>\n",
              "    </tr>\n",
              "    <tr>\n",
              "      <th>1</th>\n",
              "      <td>1.0</td>\n",
              "      <td>1.0</td>\n",
              "      <td>0.0</td>\n",
              "      <td>F</td>\n",
              "      <td>Y</td>\n",
              "      <td>Blue</td>\n",
              "      <td>Trapezoid</td>\n",
              "      <td>Dog</td>\n",
              "      <td>India</td>\n",
              "      <td>Theremin</td>\n",
              "      <td>1.0</td>\n",
              "      <td>Contributor</td>\n",
              "      <td>Freezing</td>\n",
              "      <td>f</td>\n",
              "      <td>N</td>\n",
              "      <td>Kq</td>\n",
              "      <td>3.0</td>\n",
              "      <td>8.0</td>\n",
              "      <td>0</td>\n",
              "    </tr>\n",
              "    <tr>\n",
              "      <th>2</th>\n",
              "      <td>0.0</td>\n",
              "      <td>0.0</td>\n",
              "      <td>0.0</td>\n",
              "      <td>F</td>\n",
              "      <td>N</td>\n",
              "      <td>Red</td>\n",
              "      <td>Circle</td>\n",
              "      <td>Hamster</td>\n",
              "      <td>India</td>\n",
              "      <td>Bassoon</td>\n",
              "      <td>2.0</td>\n",
              "      <td>NaN</td>\n",
              "      <td>Cold</td>\n",
              "      <td>i</td>\n",
              "      <td>D</td>\n",
              "      <td>Fl</td>\n",
              "      <td>3.0</td>\n",
              "      <td>3.0</td>\n",
              "      <td>0</td>\n",
              "    </tr>\n",
              "    <tr>\n",
              "      <th>3</th>\n",
              "      <td>0.0</td>\n",
              "      <td>0.0</td>\n",
              "      <td>0.0</td>\n",
              "      <td>T</td>\n",
              "      <td>N</td>\n",
              "      <td>Green</td>\n",
              "      <td>Polygon</td>\n",
              "      <td>Hamster</td>\n",
              "      <td>India</td>\n",
              "      <td>Theremin</td>\n",
              "      <td>1.0</td>\n",
              "      <td>Grandmaster</td>\n",
              "      <td>Cold</td>\n",
              "      <td>n</td>\n",
              "      <td>Z</td>\n",
              "      <td>In</td>\n",
              "      <td>7.0</td>\n",
              "      <td>7.0</td>\n",
              "      <td>0</td>\n",
              "    </tr>\n",
              "    <tr>\n",
              "      <th>4</th>\n",
              "      <td>0.0</td>\n",
              "      <td>0.0</td>\n",
              "      <td>0.0</td>\n",
              "      <td>F</td>\n",
              "      <td>N</td>\n",
              "      <td>Blue</td>\n",
              "      <td>Polygon</td>\n",
              "      <td>Axolotl</td>\n",
              "      <td>Costa Rica</td>\n",
              "      <td>Bassoon</td>\n",
              "      <td>1.0</td>\n",
              "      <td>Expert</td>\n",
              "      <td>Hot</td>\n",
              "      <td>i</td>\n",
              "      <td>X</td>\n",
              "      <td>Sk</td>\n",
              "      <td>5.0</td>\n",
              "      <td>2.0</td>\n",
              "      <td>1</td>\n",
              "    </tr>\n",
              "  </tbody>\n",
              "</table>\n",
              "</div>"
            ],
            "text/plain": [
              "   bin_0  bin_1  bin_2 bin_3 bin_4  nom_0  ... ord_3 ord_4 ord_5  day  month target\n",
              "0    0.0    1.0    0.0     F     N   Blue  ...     e     N    oh  3.0    5.0      0\n",
              "1    1.0    1.0    0.0     F     Y   Blue  ...     f     N    Kq  3.0    8.0      0\n",
              "2    0.0    0.0    0.0     F     N    Red  ...     i     D    Fl  3.0    3.0      0\n",
              "3    0.0    0.0    0.0     T     N  Green  ...     n     Z    In  7.0    7.0      0\n",
              "4    0.0    0.0    0.0     F     N   Blue  ...     i     X    Sk  5.0    2.0      1\n",
              "\n",
              "[5 rows x 19 columns]"
            ]
          },
          "metadata": {
            "tags": []
          },
          "execution_count": 8
        }
      ]
    },
    {
      "cell_type": "code",
      "metadata": {
        "colab": {
          "base_uri": "https://localhost:8080/"
        },
        "id": "WxAkaZ-J5abL",
        "outputId": "deda721d-a775-4ce3-cd0b-b5ff418d9e88"
      },
      "source": [
        "df_train.shape"
      ],
      "execution_count": null,
      "outputs": [
        {
          "output_type": "execute_result",
          "data": {
            "text/plain": [
              "(480000, 19)"
            ]
          },
          "metadata": {
            "tags": []
          },
          "execution_count": 9
        }
      ]
    },
    {
      "cell_type": "code",
      "metadata": {
        "colab": {
          "base_uri": "https://localhost:8080/"
        },
        "id": "2n07e4A55XwH",
        "outputId": "98163b54-e8b1-4bb2-9d22-9ab2e60a4c47"
      },
      "source": [
        "df_train.isna().sum()"
      ],
      "execution_count": null,
      "outputs": [
        {
          "output_type": "execute_result",
          "data": {
            "text/plain": [
              "bin_0     14327\n",
              "bin_1     14383\n",
              "bin_2     14383\n",
              "bin_3     14554\n",
              "bin_4     14449\n",
              "nom_0     14633\n",
              "nom_1     14531\n",
              "nom_2     14441\n",
              "nom_3     14424\n",
              "nom_4     14373\n",
              "ord_0     14707\n",
              "ord_1     14402\n",
              "ord_2     14448\n",
              "ord_3     14263\n",
              "ord_4     14443\n",
              "ord_5     14195\n",
              "day       14310\n",
              "month     14428\n",
              "target        0\n",
              "dtype: int64"
            ]
          },
          "metadata": {
            "tags": []
          },
          "execution_count": 10
        }
      ]
    },
    {
      "cell_type": "code",
      "metadata": {
        "colab": {
          "base_uri": "https://localhost:8080/"
        },
        "id": "tM8Em0w54WOn",
        "outputId": "36f46f27-a111-445e-c41f-bc236ec4c94e"
      },
      "source": [
        "df_train.dtypes"
      ],
      "execution_count": null,
      "outputs": [
        {
          "output_type": "execute_result",
          "data": {
            "text/plain": [
              "bin_0     float64\n",
              "bin_1     float64\n",
              "bin_2     float64\n",
              "bin_3      object\n",
              "bin_4      object\n",
              "nom_0      object\n",
              "nom_1      object\n",
              "nom_2      object\n",
              "nom_3      object\n",
              "nom_4      object\n",
              "ord_0     float64\n",
              "ord_1      object\n",
              "ord_2      object\n",
              "ord_3      object\n",
              "ord_4      object\n",
              "ord_5      object\n",
              "day       float64\n",
              "month     float64\n",
              "target      int64\n",
              "dtype: object"
            ]
          },
          "metadata": {
            "tags": []
          },
          "execution_count": 11
        }
      ]
    },
    {
      "cell_type": "code",
      "metadata": {
        "id": "_yZ1AzF37Zbl"
      },
      "source": [
        "for column in df_train.columns:\n",
        "    df_train[column].fillna(df_train[column].mode()[0], inplace=True)"
      ],
      "execution_count": null,
      "outputs": []
    },
    {
      "cell_type": "code",
      "metadata": {
        "colab": {
          "base_uri": "https://localhost:8080/"
        },
        "id": "-Tss6Cvv60Dr",
        "outputId": "64682146-e885-4509-d650-ab8c5a651454"
      },
      "source": [
        "df_train.isna().sum()"
      ],
      "execution_count": null,
      "outputs": [
        {
          "output_type": "execute_result",
          "data": {
            "text/plain": [
              "bin_0     0\n",
              "bin_1     0\n",
              "bin_2     0\n",
              "bin_3     0\n",
              "bin_4     0\n",
              "nom_0     0\n",
              "nom_1     0\n",
              "nom_2     0\n",
              "nom_3     0\n",
              "nom_4     0\n",
              "ord_0     0\n",
              "ord_1     0\n",
              "ord_2     0\n",
              "ord_3     0\n",
              "ord_4     0\n",
              "ord_5     0\n",
              "day       0\n",
              "month     0\n",
              "target    0\n",
              "dtype: int64"
            ]
          },
          "metadata": {
            "tags": []
          },
          "execution_count": 13
        }
      ]
    },
    {
      "cell_type": "markdown",
      "metadata": {
        "id": "txe8T2jq4ejt"
      },
      "source": [
        "***\n",
        "Validation"
      ]
    },
    {
      "cell_type": "code",
      "metadata": {
        "id": "ej3msWeW3K4L"
      },
      "source": [
        "X = df_train.loc[:, df_train.columns != 'target']\n",
        "y = df_train['target']"
      ],
      "execution_count": null,
      "outputs": []
    },
    {
      "cell_type": "code",
      "metadata": {
        "id": "BuLBXW7r3X0x"
      },
      "source": [
        "X_train, X_test, y_train, y_test = train_test_split(X, \n",
        "                                                    y,\n",
        "                                                    stratify=y, \n",
        "                                                    test_size=0.3)"
      ],
      "execution_count": null,
      "outputs": []
    },
    {
      "cell_type": "markdown",
      "metadata": {
        "id": "MkuVUF7B4hrs"
      },
      "source": [
        "***\n",
        "Modeling"
      ]
    },
    {
      "cell_type": "code",
      "metadata": {
        "id": "UFAbz4hu3aM0"
      },
      "source": [
        "cat_features = df_train[['bin_3', 'bin_4', 'nom_0', 'nom_1', 'nom_2', 'nom_3', \n",
        "                         'nom_4', 'ord_1', 'ord_2', 'ord_3', 'ord_4', 'ord_5']]"
      ],
      "execution_count": null,
      "outputs": []
    },
    {
      "cell_type": "code",
      "metadata": {
        "id": "T2SMuzUQ5EBd"
      },
      "source": [
        "train_dataset = Pool(data=X_train,\n",
        "                     label=y_train,\n",
        "                     cat_features=cat_features)"
      ],
      "execution_count": null,
      "outputs": []
    },
    {
      "cell_type": "code",
      "metadata": {
        "id": "Cl9SMqhA5Jq0"
      },
      "source": [
        "eval_dataset = Pool(data=X_test,\n",
        "                    label=y_test,\n",
        "                    cat_features=cat_features)"
      ],
      "execution_count": null,
      "outputs": []
    },
    {
      "cell_type": "code",
      "metadata": {
        "id": "65NBlc7Q5LNr"
      },
      "source": [
        "model = CatBoostClassifier(\n",
        "    iterations=500, \n",
        "    #task_type=\"GPU\",\n",
        "    #devices='0:1',\n",
        "    early_stopping_rounds = 5,\n",
        "    custom_metric=['AUC'])"
      ],
      "execution_count": null,
      "outputs": []
    },
    {
      "cell_type": "code",
      "metadata": {
        "colab": {
          "base_uri": "https://localhost:8080/"
        },
        "id": "ekdFWHGr5Lxk",
        "outputId": "374234c0-c8b0-418d-8359-e3c491b48552"
      },
      "source": [
        "model.fit(train_dataset,\n",
        "          eval_set=eval_dataset)"
      ],
      "execution_count": null,
      "outputs": [
        {
          "output_type": "stream",
          "text": [
            "Learning rate set to 0.180245\n",
            "0:\tlearn: 0.6170795\ttest: 0.6170152\tbest: 0.6170152 (0)\ttotal: 355ms\tremaining: 2m 57s\n",
            "1:\tlearn: 0.5552384\ttest: 0.5548388\tbest: 0.5548388 (1)\ttotal: 1.1s\tremaining: 4m 34s\n",
            "2:\tlearn: 0.5166028\ttest: 0.5165161\tbest: 0.5165161 (2)\ttotal: 1.64s\tremaining: 4m 31s\n",
            "3:\tlearn: 0.4892186\ttest: 0.4892427\tbest: 0.4892427 (3)\ttotal: 2.34s\tremaining: 4m 49s\n",
            "4:\tlearn: 0.4712964\ttest: 0.4710634\tbest: 0.4710634 (4)\ttotal: 3.07s\tremaining: 5m 4s\n",
            "5:\tlearn: 0.4599965\ttest: 0.4596160\tbest: 0.4596160 (5)\ttotal: 3.74s\tremaining: 5m 7s\n",
            "6:\tlearn: 0.4519152\ttest: 0.4514952\tbest: 0.4514952 (6)\ttotal: 4.55s\tremaining: 5m 20s\n",
            "7:\tlearn: 0.4462190\ttest: 0.4457019\tbest: 0.4457019 (7)\ttotal: 5.25s\tremaining: 5m 23s\n",
            "8:\tlearn: 0.4421118\ttest: 0.4416323\tbest: 0.4416323 (8)\ttotal: 6.01s\tremaining: 5m 28s\n",
            "9:\tlearn: 0.4388522\ttest: 0.4382716\tbest: 0.4382716 (9)\ttotal: 6.8s\tremaining: 5m 33s\n",
            "10:\tlearn: 0.4365832\ttest: 0.4359103\tbest: 0.4359103 (10)\ttotal: 7.43s\tremaining: 5m 30s\n",
            "11:\tlearn: 0.4346468\ttest: 0.4338963\tbest: 0.4338963 (11)\ttotal: 8.18s\tremaining: 5m 32s\n",
            "12:\tlearn: 0.4329655\ttest: 0.4321556\tbest: 0.4321556 (12)\ttotal: 9.01s\tremaining: 5m 37s\n",
            "13:\tlearn: 0.4315007\ttest: 0.4305798\tbest: 0.4305798 (13)\ttotal: 9.87s\tremaining: 5m 42s\n",
            "14:\tlearn: 0.4303921\ttest: 0.4294918\tbest: 0.4294918 (14)\ttotal: 10.6s\tremaining: 5m 42s\n",
            "15:\tlearn: 0.4294071\ttest: 0.4284263\tbest: 0.4284263 (15)\ttotal: 11.3s\tremaining: 5m 40s\n",
            "16:\tlearn: 0.4283619\ttest: 0.4273413\tbest: 0.4273413 (16)\ttotal: 11.9s\tremaining: 5m 38s\n",
            "17:\tlearn: 0.4275645\ttest: 0.4264878\tbest: 0.4264878 (17)\ttotal: 12.8s\tremaining: 5m 42s\n",
            "18:\tlearn: 0.4269474\ttest: 0.4258826\tbest: 0.4258826 (18)\ttotal: 13.7s\tremaining: 5m 45s\n",
            "19:\tlearn: 0.4264021\ttest: 0.4252930\tbest: 0.4252930 (19)\ttotal: 14.4s\tremaining: 5m 46s\n",
            "20:\tlearn: 0.4257851\ttest: 0.4246970\tbest: 0.4246970 (20)\ttotal: 15.2s\tremaining: 5m 46s\n",
            "21:\tlearn: 0.4252267\ttest: 0.4241174\tbest: 0.4241174 (21)\ttotal: 15.9s\tremaining: 5m 46s\n",
            "22:\tlearn: 0.4246862\ttest: 0.4235447\tbest: 0.4235447 (22)\ttotal: 16.7s\tremaining: 5m 46s\n",
            "23:\tlearn: 0.4242937\ttest: 0.4232182\tbest: 0.4232182 (23)\ttotal: 17.5s\tremaining: 5m 46s\n",
            "24:\tlearn: 0.4239091\ttest: 0.4228035\tbest: 0.4228035 (24)\ttotal: 18.3s\tremaining: 5m 47s\n",
            "25:\tlearn: 0.4235273\ttest: 0.4224354\tbest: 0.4224354 (25)\ttotal: 19.1s\tremaining: 5m 48s\n",
            "26:\tlearn: 0.4231747\ttest: 0.4220889\tbest: 0.4220889 (26)\ttotal: 19.9s\tremaining: 5m 49s\n",
            "27:\tlearn: 0.4228949\ttest: 0.4217902\tbest: 0.4217902 (27)\ttotal: 20.6s\tremaining: 5m 47s\n",
            "28:\tlearn: 0.4224918\ttest: 0.4213697\tbest: 0.4213697 (28)\ttotal: 21.4s\tremaining: 5m 47s\n",
            "29:\tlearn: 0.4222430\ttest: 0.4211206\tbest: 0.4211206 (29)\ttotal: 22.2s\tremaining: 5m 47s\n",
            "30:\tlearn: 0.4220292\ttest: 0.4209094\tbest: 0.4209094 (30)\ttotal: 23s\tremaining: 5m 48s\n",
            "31:\tlearn: 0.4217970\ttest: 0.4207128\tbest: 0.4207128 (31)\ttotal: 23.7s\tremaining: 5m 46s\n",
            "32:\tlearn: 0.4215824\ttest: 0.4205268\tbest: 0.4205268 (32)\ttotal: 24.5s\tremaining: 5m 46s\n",
            "33:\tlearn: 0.4213443\ttest: 0.4203501\tbest: 0.4203501 (33)\ttotal: 25.2s\tremaining: 5m 44s\n",
            "34:\tlearn: 0.4211295\ttest: 0.4201604\tbest: 0.4201604 (34)\ttotal: 26s\tremaining: 5m 45s\n",
            "35:\tlearn: 0.4209528\ttest: 0.4200202\tbest: 0.4200202 (35)\ttotal: 26.7s\tremaining: 5m 44s\n",
            "36:\tlearn: 0.4207554\ttest: 0.4198396\tbest: 0.4198396 (36)\ttotal: 27.5s\tremaining: 5m 44s\n",
            "37:\tlearn: 0.4205827\ttest: 0.4196847\tbest: 0.4196847 (37)\ttotal: 28.3s\tremaining: 5m 44s\n",
            "38:\tlearn: 0.4204610\ttest: 0.4195843\tbest: 0.4195843 (38)\ttotal: 29s\tremaining: 5m 43s\n",
            "39:\tlearn: 0.4202834\ttest: 0.4193925\tbest: 0.4193925 (39)\ttotal: 29.8s\tremaining: 5m 42s\n",
            "40:\tlearn: 0.4201200\ttest: 0.4192657\tbest: 0.4192657 (40)\ttotal: 30.5s\tremaining: 5m 41s\n",
            "41:\tlearn: 0.4199796\ttest: 0.4191240\tbest: 0.4191240 (41)\ttotal: 31.3s\tremaining: 5m 41s\n",
            "42:\tlearn: 0.4198700\ttest: 0.4190224\tbest: 0.4190224 (42)\ttotal: 32s\tremaining: 5m 40s\n",
            "43:\tlearn: 0.4197247\ttest: 0.4189037\tbest: 0.4189037 (43)\ttotal: 32.7s\tremaining: 5m 38s\n",
            "44:\tlearn: 0.4196380\ttest: 0.4188221\tbest: 0.4188221 (44)\ttotal: 33.4s\tremaining: 5m 38s\n",
            "45:\tlearn: 0.4195162\ttest: 0.4187243\tbest: 0.4187243 (45)\ttotal: 34.2s\tremaining: 5m 37s\n",
            "46:\tlearn: 0.4194083\ttest: 0.4186285\tbest: 0.4186285 (46)\ttotal: 35s\tremaining: 5m 37s\n",
            "47:\tlearn: 0.4192749\ttest: 0.4185265\tbest: 0.4185265 (47)\ttotal: 35.9s\tremaining: 5m 37s\n",
            "48:\tlearn: 0.4191652\ttest: 0.4184531\tbest: 0.4184531 (48)\ttotal: 36.7s\tremaining: 5m 37s\n",
            "49:\tlearn: 0.4190673\ttest: 0.4183892\tbest: 0.4183892 (49)\ttotal: 37.4s\tremaining: 5m 36s\n",
            "50:\tlearn: 0.4190065\ttest: 0.4183333\tbest: 0.4183333 (50)\ttotal: 38.1s\tremaining: 5m 35s\n",
            "51:\tlearn: 0.4189742\ttest: 0.4183050\tbest: 0.4183050 (51)\ttotal: 38.5s\tremaining: 5m 32s\n",
            "52:\tlearn: 0.4189097\ttest: 0.4182432\tbest: 0.4182432 (52)\ttotal: 39.4s\tremaining: 5m 32s\n",
            "53:\tlearn: 0.4188160\ttest: 0.4181682\tbest: 0.4181682 (53)\ttotal: 40.2s\tremaining: 5m 31s\n",
            "54:\tlearn: 0.4187337\ttest: 0.4181198\tbest: 0.4181198 (54)\ttotal: 40.9s\tremaining: 5m 31s\n",
            "55:\tlearn: 0.4186666\ttest: 0.4180611\tbest: 0.4180611 (55)\ttotal: 41.7s\tremaining: 5m 30s\n",
            "56:\tlearn: 0.4186012\ttest: 0.4180222\tbest: 0.4180222 (56)\ttotal: 42.4s\tremaining: 5m 29s\n",
            "57:\tlearn: 0.4185494\ttest: 0.4179755\tbest: 0.4179755 (57)\ttotal: 43.2s\tremaining: 5m 29s\n",
            "58:\tlearn: 0.4184835\ttest: 0.4179048\tbest: 0.4179048 (58)\ttotal: 44.1s\tremaining: 5m 29s\n",
            "59:\tlearn: 0.4184195\ttest: 0.4178784\tbest: 0.4178784 (59)\ttotal: 44.8s\tremaining: 5m 28s\n",
            "60:\tlearn: 0.4183674\ttest: 0.4178511\tbest: 0.4178511 (60)\ttotal: 45.6s\tremaining: 5m 27s\n",
            "61:\tlearn: 0.4183040\ttest: 0.4178206\tbest: 0.4178206 (61)\ttotal: 46.2s\tremaining: 5m 26s\n",
            "62:\tlearn: 0.4182596\ttest: 0.4177913\tbest: 0.4177913 (62)\ttotal: 47s\tremaining: 5m 26s\n",
            "63:\tlearn: 0.4182008\ttest: 0.4177400\tbest: 0.4177400 (63)\ttotal: 47.8s\tremaining: 5m 25s\n",
            "64:\tlearn: 0.4181344\ttest: 0.4176866\tbest: 0.4176866 (64)\ttotal: 48.4s\tremaining: 5m 24s\n",
            "65:\tlearn: 0.4180337\ttest: 0.4176387\tbest: 0.4176387 (65)\ttotal: 49s\tremaining: 5m 21s\n",
            "66:\tlearn: 0.4179731\ttest: 0.4176012\tbest: 0.4176012 (66)\ttotal: 49.7s\tremaining: 5m 21s\n",
            "67:\tlearn: 0.4178878\ttest: 0.4175150\tbest: 0.4175150 (67)\ttotal: 50.6s\tremaining: 5m 21s\n",
            "68:\tlearn: 0.4178112\ttest: 0.4174827\tbest: 0.4174827 (68)\ttotal: 51.6s\tremaining: 5m 22s\n",
            "69:\tlearn: 0.4177368\ttest: 0.4174133\tbest: 0.4174133 (69)\ttotal: 52.2s\tremaining: 5m 20s\n",
            "70:\tlearn: 0.4176787\ttest: 0.4173728\tbest: 0.4173728 (70)\ttotal: 53s\tremaining: 5m 20s\n",
            "71:\tlearn: 0.4176309\ttest: 0.4173530\tbest: 0.4173530 (71)\ttotal: 53.8s\tremaining: 5m 20s\n",
            "72:\tlearn: 0.4175671\ttest: 0.4173091\tbest: 0.4173091 (72)\ttotal: 54.6s\tremaining: 5m 19s\n",
            "73:\tlearn: 0.4175114\ttest: 0.4172850\tbest: 0.4172850 (73)\ttotal: 55.4s\tremaining: 5m 18s\n",
            "74:\tlearn: 0.4174777\ttest: 0.4172543\tbest: 0.4172543 (74)\ttotal: 56.1s\tremaining: 5m 17s\n",
            "75:\tlearn: 0.4174310\ttest: 0.4172484\tbest: 0.4172484 (75)\ttotal: 56.9s\tremaining: 5m 17s\n",
            "76:\tlearn: 0.4173844\ttest: 0.4172452\tbest: 0.4172452 (76)\ttotal: 57.7s\tremaining: 5m 16s\n",
            "77:\tlearn: 0.4173368\ttest: 0.4172107\tbest: 0.4172107 (77)\ttotal: 58.3s\tremaining: 5m 15s\n",
            "78:\tlearn: 0.4172460\ttest: 0.4171466\tbest: 0.4171466 (78)\ttotal: 58.9s\tremaining: 5m 13s\n",
            "79:\tlearn: 0.4172029\ttest: 0.4171170\tbest: 0.4171170 (79)\ttotal: 59.5s\tremaining: 5m 12s\n",
            "80:\tlearn: 0.4171337\ttest: 0.4170672\tbest: 0.4170672 (80)\ttotal: 1m\tremaining: 5m 12s\n",
            "81:\tlearn: 0.4170618\ttest: 0.4170263\tbest: 0.4170263 (81)\ttotal: 1m 1s\tremaining: 5m 10s\n",
            "82:\tlearn: 0.4170393\ttest: 0.4170162\tbest: 0.4170162 (82)\ttotal: 1m 1s\tremaining: 5m 9s\n",
            "83:\tlearn: 0.4170186\ttest: 0.4170074\tbest: 0.4170074 (83)\ttotal: 1m 2s\tremaining: 5m 9s\n",
            "84:\tlearn: 0.4169623\ttest: 0.4169883\tbest: 0.4169883 (84)\ttotal: 1m 3s\tremaining: 5m 8s\n",
            "85:\tlearn: 0.4169444\ttest: 0.4169699\tbest: 0.4169699 (85)\ttotal: 1m 3s\tremaining: 5m 7s\n",
            "86:\tlearn: 0.4168965\ttest: 0.4169342\tbest: 0.4169342 (86)\ttotal: 1m 4s\tremaining: 5m 6s\n",
            "87:\tlearn: 0.4168462\ttest: 0.4168987\tbest: 0.4168987 (87)\ttotal: 1m 5s\tremaining: 5m 5s\n",
            "88:\tlearn: 0.4168145\ttest: 0.4168987\tbest: 0.4168987 (88)\ttotal: 1m 6s\tremaining: 5m 5s\n",
            "89:\tlearn: 0.4167997\ttest: 0.4168971\tbest: 0.4168971 (89)\ttotal: 1m 6s\tremaining: 5m 3s\n",
            "90:\tlearn: 0.4167337\ttest: 0.4168612\tbest: 0.4168612 (90)\ttotal: 1m 7s\tremaining: 5m 2s\n",
            "91:\tlearn: 0.4166845\ttest: 0.4168606\tbest: 0.4168606 (91)\ttotal: 1m 8s\tremaining: 5m 2s\n",
            "92:\tlearn: 0.4166315\ttest: 0.4168421\tbest: 0.4168421 (92)\ttotal: 1m 8s\tremaining: 5m\n",
            "93:\tlearn: 0.4166019\ttest: 0.4168273\tbest: 0.4168273 (93)\ttotal: 1m 9s\tremaining: 5m\n",
            "94:\tlearn: 0.4165761\ttest: 0.4168237\tbest: 0.4168237 (94)\ttotal: 1m 10s\tremaining: 4m 59s\n",
            "95:\tlearn: 0.4165330\ttest: 0.4167864\tbest: 0.4167864 (95)\ttotal: 1m 11s\tremaining: 4m 58s\n",
            "96:\tlearn: 0.4164978\ttest: 0.4167518\tbest: 0.4167518 (96)\ttotal: 1m 11s\tremaining: 4m 58s\n",
            "97:\tlearn: 0.4164627\ttest: 0.4167209\tbest: 0.4167209 (97)\ttotal: 1m 12s\tremaining: 4m 57s\n",
            "98:\tlearn: 0.4164328\ttest: 0.4167007\tbest: 0.4167007 (98)\ttotal: 1m 13s\tremaining: 4m 56s\n",
            "99:\tlearn: 0.4164213\ttest: 0.4166964\tbest: 0.4166964 (99)\ttotal: 1m 13s\tremaining: 4m 55s\n",
            "100:\tlearn: 0.4163813\ttest: 0.4166774\tbest: 0.4166774 (100)\ttotal: 1m 14s\tremaining: 4m 53s\n",
            "101:\tlearn: 0.4163528\ttest: 0.4166625\tbest: 0.4166625 (101)\ttotal: 1m 15s\tremaining: 4m 53s\n",
            "102:\tlearn: 0.4163162\ttest: 0.4166431\tbest: 0.4166431 (102)\ttotal: 1m 15s\tremaining: 4m 52s\n",
            "103:\tlearn: 0.4162837\ttest: 0.4166272\tbest: 0.4166272 (103)\ttotal: 1m 16s\tremaining: 4m 51s\n",
            "104:\tlearn: 0.4162580\ttest: 0.4166020\tbest: 0.4166020 (104)\ttotal: 1m 17s\tremaining: 4m 50s\n",
            "105:\tlearn: 0.4162452\ttest: 0.4165983\tbest: 0.4165983 (105)\ttotal: 1m 17s\tremaining: 4m 49s\n",
            "106:\tlearn: 0.4162132\ttest: 0.4165861\tbest: 0.4165861 (106)\ttotal: 1m 18s\tremaining: 4m 48s\n",
            "107:\tlearn: 0.4161788\ttest: 0.4165934\tbest: 0.4165861 (106)\ttotal: 1m 19s\tremaining: 4m 47s\n",
            "108:\tlearn: 0.4161515\ttest: 0.4165814\tbest: 0.4165814 (108)\ttotal: 1m 20s\tremaining: 4m 47s\n",
            "109:\tlearn: 0.4161316\ttest: 0.4165738\tbest: 0.4165738 (109)\ttotal: 1m 20s\tremaining: 4m 46s\n",
            "110:\tlearn: 0.4160927\ttest: 0.4165687\tbest: 0.4165687 (110)\ttotal: 1m 21s\tremaining: 4m 45s\n",
            "111:\tlearn: 0.4160604\ttest: 0.4165674\tbest: 0.4165674 (111)\ttotal: 1m 22s\tremaining: 4m 45s\n",
            "112:\tlearn: 0.4160403\ttest: 0.4165605\tbest: 0.4165605 (112)\ttotal: 1m 22s\tremaining: 4m 44s\n",
            "113:\tlearn: 0.4159981\ttest: 0.4165447\tbest: 0.4165447 (113)\ttotal: 1m 23s\tremaining: 4m 42s\n",
            "114:\tlearn: 0.4159692\ttest: 0.4165362\tbest: 0.4165362 (114)\ttotal: 1m 24s\tremaining: 4m 41s\n",
            "115:\tlearn: 0.4159560\ttest: 0.4165458\tbest: 0.4165362 (114)\ttotal: 1m 24s\tremaining: 4m 40s\n",
            "116:\tlearn: 0.4159382\ttest: 0.4165431\tbest: 0.4165362 (114)\ttotal: 1m 25s\tremaining: 4m 38s\n",
            "117:\tlearn: 0.4159014\ttest: 0.4165439\tbest: 0.4165362 (114)\ttotal: 1m 26s\tremaining: 4m 38s\n",
            "118:\tlearn: 0.4158789\ttest: 0.4165406\tbest: 0.4165362 (114)\ttotal: 1m 26s\tremaining: 4m 37s\n",
            "119:\tlearn: 0.4158525\ttest: 0.4165286\tbest: 0.4165286 (119)\ttotal: 1m 27s\tremaining: 4m 36s\n",
            "120:\tlearn: 0.4158408\ttest: 0.4165242\tbest: 0.4165242 (120)\ttotal: 1m 28s\tremaining: 4m 35s\n",
            "121:\tlearn: 0.4158188\ttest: 0.4165107\tbest: 0.4165107 (121)\ttotal: 1m 28s\tremaining: 4m 35s\n",
            "122:\tlearn: 0.4157946\ttest: 0.4164977\tbest: 0.4164977 (122)\ttotal: 1m 29s\tremaining: 4m 34s\n",
            "123:\tlearn: 0.4157546\ttest: 0.4165036\tbest: 0.4164977 (122)\ttotal: 1m 30s\tremaining: 4m 33s\n",
            "124:\tlearn: 0.4157438\ttest: 0.4165000\tbest: 0.4164977 (122)\ttotal: 1m 30s\tremaining: 4m 32s\n",
            "125:\tlearn: 0.4156990\ttest: 0.4164832\tbest: 0.4164832 (125)\ttotal: 1m 31s\tremaining: 4m 31s\n",
            "126:\tlearn: 0.4156786\ttest: 0.4164780\tbest: 0.4164780 (126)\ttotal: 1m 32s\tremaining: 4m 30s\n",
            "127:\tlearn: 0.4156701\ttest: 0.4164750\tbest: 0.4164750 (127)\ttotal: 1m 32s\tremaining: 4m 30s\n",
            "128:\tlearn: 0.4156410\ttest: 0.4164580\tbest: 0.4164580 (128)\ttotal: 1m 33s\tremaining: 4m 29s\n",
            "129:\tlearn: 0.4156238\ttest: 0.4164543\tbest: 0.4164543 (129)\ttotal: 1m 34s\tremaining: 4m 28s\n",
            "130:\tlearn: 0.4155928\ttest: 0.4164520\tbest: 0.4164520 (130)\ttotal: 1m 35s\tremaining: 4m 28s\n",
            "131:\tlearn: 0.4155794\ttest: 0.4164512\tbest: 0.4164512 (131)\ttotal: 1m 35s\tremaining: 4m 27s\n",
            "132:\tlearn: 0.4155600\ttest: 0.4164471\tbest: 0.4164471 (132)\ttotal: 1m 36s\tremaining: 4m 26s\n",
            "133:\tlearn: 0.4155438\ttest: 0.4164408\tbest: 0.4164408 (133)\ttotal: 1m 37s\tremaining: 4m 25s\n",
            "134:\tlearn: 0.4155342\ttest: 0.4164422\tbest: 0.4164408 (133)\ttotal: 1m 38s\tremaining: 4m 25s\n",
            "135:\tlearn: 0.4155029\ttest: 0.4164423\tbest: 0.4164408 (133)\ttotal: 1m 38s\tremaining: 4m 24s\n",
            "136:\tlearn: 0.4154818\ttest: 0.4164447\tbest: 0.4164408 (133)\ttotal: 1m 39s\tremaining: 4m 23s\n",
            "137:\tlearn: 0.4154541\ttest: 0.4164464\tbest: 0.4164408 (133)\ttotal: 1m 40s\tremaining: 4m 22s\n",
            "138:\tlearn: 0.4154440\ttest: 0.4164483\tbest: 0.4164408 (133)\ttotal: 1m 40s\tremaining: 4m 21s\n",
            "Stopped by overfitting detector  (5 iterations wait)\n",
            "\n",
            "bestTest = 0.4164407774\n",
            "bestIteration = 133\n",
            "\n",
            "Shrink model to first 134 iterations.\n"
          ],
          "name": "stdout"
        },
        {
          "output_type": "execute_result",
          "data": {
            "text/plain": [
              "<catboost.core.CatBoostClassifier at 0x7f6293c905c0>"
            ]
          },
          "metadata": {
            "tags": []
          },
          "execution_count": 20
        }
      ]
    },
    {
      "cell_type": "markdown",
      "metadata": {
        "id": "kM2AfMlM9Mj9"
      },
      "source": [
        "***\n",
        "Test"
      ]
    },
    {
      "cell_type": "code",
      "metadata": {
        "colab": {
          "base_uri": "https://localhost:8080/",
          "height": 253
        },
        "id": "jDVt97Wt9J7y",
        "outputId": "1d5a6f8d-275a-4389-9f73-d1aa38565640"
      },
      "source": [
        "df_test = pd.read_csv('test.csv')\n",
        "df_test.head()"
      ],
      "execution_count": null,
      "outputs": [
        {
          "output_type": "execute_result",
          "data": {
            "text/html": [
              "<div>\n",
              "<style scoped>\n",
              "    .dataframe tbody tr th:only-of-type {\n",
              "        vertical-align: middle;\n",
              "    }\n",
              "\n",
              "    .dataframe tbody tr th {\n",
              "        vertical-align: top;\n",
              "    }\n",
              "\n",
              "    .dataframe thead th {\n",
              "        text-align: right;\n",
              "    }\n",
              "</style>\n",
              "<table border=\"1\" class=\"dataframe\">\n",
              "  <thead>\n",
              "    <tr style=\"text-align: right;\">\n",
              "      <th></th>\n",
              "      <th>bin_0</th>\n",
              "      <th>bin_1</th>\n",
              "      <th>bin_2</th>\n",
              "      <th>bin_3</th>\n",
              "      <th>bin_4</th>\n",
              "      <th>nom_0</th>\n",
              "      <th>nom_1</th>\n",
              "      <th>nom_2</th>\n",
              "      <th>nom_3</th>\n",
              "      <th>nom_4</th>\n",
              "      <th>nom_5</th>\n",
              "      <th>nom_6</th>\n",
              "      <th>nom_7</th>\n",
              "      <th>nom_8</th>\n",
              "      <th>nom_9</th>\n",
              "      <th>ord_0</th>\n",
              "      <th>ord_1</th>\n",
              "      <th>ord_2</th>\n",
              "      <th>ord_3</th>\n",
              "      <th>ord_4</th>\n",
              "      <th>ord_5</th>\n",
              "      <th>day</th>\n",
              "      <th>month</th>\n",
              "    </tr>\n",
              "  </thead>\n",
              "  <tbody>\n",
              "    <tr>\n",
              "      <th>0</th>\n",
              "      <td>1.0</td>\n",
              "      <td>1.0</td>\n",
              "      <td>0.0</td>\n",
              "      <td>F</td>\n",
              "      <td>N</td>\n",
              "      <td>Red</td>\n",
              "      <td>Triangle</td>\n",
              "      <td>Axolotl</td>\n",
              "      <td>Russia</td>\n",
              "      <td>Theremin</td>\n",
              "      <td>ed6509b47</td>\n",
              "      <td>8e8eaadde</td>\n",
              "      <td>01103c3e4</td>\n",
              "      <td>8d13bd3e9</td>\n",
              "      <td>65b262989</td>\n",
              "      <td>2.0</td>\n",
              "      <td>Master</td>\n",
              "      <td>Warm</td>\n",
              "      <td>a</td>\n",
              "      <td>Y</td>\n",
              "      <td>MV</td>\n",
              "      <td>7.0</td>\n",
              "      <td>5.0</td>\n",
              "    </tr>\n",
              "    <tr>\n",
              "      <th>1</th>\n",
              "      <td>0.0</td>\n",
              "      <td>0.0</td>\n",
              "      <td>0.0</td>\n",
              "      <td>F</td>\n",
              "      <td>Y</td>\n",
              "      <td>Blue</td>\n",
              "      <td>Triangle</td>\n",
              "      <td>Hamster</td>\n",
              "      <td>Costa Rica</td>\n",
              "      <td>Theremin</td>\n",
              "      <td>NaN</td>\n",
              "      <td>1ab15830f</td>\n",
              "      <td>adbdefba3</td>\n",
              "      <td>7861df0a8</td>\n",
              "      <td>31dce772f</td>\n",
              "      <td>1.0</td>\n",
              "      <td>Grandmaster</td>\n",
              "      <td>Freezing</td>\n",
              "      <td>c</td>\n",
              "      <td>H</td>\n",
              "      <td>GZ</td>\n",
              "      <td>4.0</td>\n",
              "      <td>3.0</td>\n",
              "    </tr>\n",
              "    <tr>\n",
              "      <th>2</th>\n",
              "      <td>1.0</td>\n",
              "      <td>0.0</td>\n",
              "      <td>0.0</td>\n",
              "      <td>F</td>\n",
              "      <td>N</td>\n",
              "      <td>Blue</td>\n",
              "      <td>Circle</td>\n",
              "      <td>Axolotl</td>\n",
              "      <td>Russia</td>\n",
              "      <td>Theremin</td>\n",
              "      <td>940e1a8f0</td>\n",
              "      <td>3f229cb82</td>\n",
              "      <td>9d4a94d03</td>\n",
              "      <td>cccbca824</td>\n",
              "      <td>c9a07c607</td>\n",
              "      <td>3.0</td>\n",
              "      <td>Expert</td>\n",
              "      <td>Cold</td>\n",
              "      <td>f</td>\n",
              "      <td>F</td>\n",
              "      <td>gc</td>\n",
              "      <td>NaN</td>\n",
              "      <td>6.0</td>\n",
              "    </tr>\n",
              "    <tr>\n",
              "      <th>3</th>\n",
              "      <td>0.0</td>\n",
              "      <td>0.0</td>\n",
              "      <td>NaN</td>\n",
              "      <td>F</td>\n",
              "      <td>N</td>\n",
              "      <td>Blue</td>\n",
              "      <td>Polygon</td>\n",
              "      <td>Axolotl</td>\n",
              "      <td>Costa Rica</td>\n",
              "      <td>Bassoon</td>\n",
              "      <td>ba688b662</td>\n",
              "      <td>89545cc37</td>\n",
              "      <td>e06abf51f</td>\n",
              "      <td>154aacc1c</td>\n",
              "      <td>eee9ce48c</td>\n",
              "      <td>2.0</td>\n",
              "      <td>Expert</td>\n",
              "      <td>Warm</td>\n",
              "      <td>f</td>\n",
              "      <td>Y</td>\n",
              "      <td>NaN</td>\n",
              "      <td>6.0</td>\n",
              "      <td>1.0</td>\n",
              "    </tr>\n",
              "    <tr>\n",
              "      <th>4</th>\n",
              "      <td>0.0</td>\n",
              "      <td>0.0</td>\n",
              "      <td>0.0</td>\n",
              "      <td>T</td>\n",
              "      <td>N</td>\n",
              "      <td>Red</td>\n",
              "      <td>Polygon</td>\n",
              "      <td>Lion</td>\n",
              "      <td>Russia</td>\n",
              "      <td>Bassoon</td>\n",
              "      <td>9e7d06868</td>\n",
              "      <td>b5a223cde</td>\n",
              "      <td>018382adf</td>\n",
              "      <td>1fe15a999</td>\n",
              "      <td>0a55dd91d</td>\n",
              "      <td>3.0</td>\n",
              "      <td>NaN</td>\n",
              "      <td>Hot</td>\n",
              "      <td>c</td>\n",
              "      <td>K</td>\n",
              "      <td>Hk</td>\n",
              "      <td>1.0</td>\n",
              "      <td>5.0</td>\n",
              "    </tr>\n",
              "  </tbody>\n",
              "</table>\n",
              "</div>"
            ],
            "text/plain": [
              "   bin_0  bin_1  bin_2 bin_3 bin_4  ... ord_3 ord_4 ord_5  day month\n",
              "0    1.0    1.0    0.0     F     N  ...     a     Y    MV  7.0   5.0\n",
              "1    0.0    0.0    0.0     F     Y  ...     c     H    GZ  4.0   3.0\n",
              "2    1.0    0.0    0.0     F     N  ...     f     F    gc  NaN   6.0\n",
              "3    0.0    0.0    NaN     F     N  ...     f     Y   NaN  6.0   1.0\n",
              "4    0.0    0.0    0.0     T     N  ...     c     K    Hk  1.0   5.0\n",
              "\n",
              "[5 rows x 23 columns]"
            ]
          },
          "metadata": {
            "tags": []
          },
          "execution_count": 21
        }
      ]
    },
    {
      "cell_type": "code",
      "metadata": {
        "id": "7xJ0kxn-9Uaz"
      },
      "source": [
        "df_test.drop(['nom_5', 'nom_6', 'nom_7', 'nom_8', 'nom_9'], inplace = True, axis = 1) "
      ],
      "execution_count": null,
      "outputs": []
    },
    {
      "cell_type": "code",
      "metadata": {
        "colab": {
          "base_uri": "https://localhost:8080/"
        },
        "id": "yRhuUebB9aiN",
        "outputId": "3710263c-f8b9-40ae-a8d3-9db538d19c74"
      },
      "source": [
        "df_test.isna().sum()"
      ],
      "execution_count": null,
      "outputs": [
        {
          "output_type": "execute_result",
          "data": {
            "text/plain": [
              "bin_0    3567\n",
              "bin_1    3620\n",
              "bin_2    3547\n",
              "bin_3    3460\n",
              "bin_4    3598\n",
              "nom_0    3619\n",
              "nom_1    3625\n",
              "nom_2    3594\n",
              "nom_3    3697\n",
              "nom_4    3662\n",
              "ord_0    3581\n",
              "ord_1    3639\n",
              "ord_2    3627\n",
              "ord_3    3653\n",
              "ord_4    3487\n",
              "ord_5    3518\n",
              "day      3642\n",
              "month    3560\n",
              "dtype: int64"
            ]
          },
          "metadata": {
            "tags": []
          },
          "execution_count": 23
        }
      ]
    },
    {
      "cell_type": "code",
      "metadata": {
        "id": "yQLJRWVA9c5d"
      },
      "source": [
        "for column in df_test.columns:\n",
        "    df_test[column].fillna(df_test[column].mode()[0], inplace=True)"
      ],
      "execution_count": null,
      "outputs": []
    },
    {
      "cell_type": "code",
      "metadata": {
        "colab": {
          "base_uri": "https://localhost:8080/"
        },
        "id": "Fl0su95_9k1D",
        "outputId": "d63a17f2-bdcf-44d9-ab8a-e49416eb7fb5"
      },
      "source": [
        "df_test.isna().sum()"
      ],
      "execution_count": null,
      "outputs": [
        {
          "output_type": "execute_result",
          "data": {
            "text/plain": [
              "bin_0    0\n",
              "bin_1    0\n",
              "bin_2    0\n",
              "bin_3    0\n",
              "bin_4    0\n",
              "nom_0    0\n",
              "nom_1    0\n",
              "nom_2    0\n",
              "nom_3    0\n",
              "nom_4    0\n",
              "ord_0    0\n",
              "ord_1    0\n",
              "ord_2    0\n",
              "ord_3    0\n",
              "ord_4    0\n",
              "ord_5    0\n",
              "day      0\n",
              "month    0\n",
              "dtype: int64"
            ]
          },
          "metadata": {
            "tags": []
          },
          "execution_count": 25
        }
      ]
    },
    {
      "cell_type": "code",
      "metadata": {
        "id": "qtiVWDtR9rOv"
      },
      "source": [
        "test_dataset = Pool(data=df_test,\n",
        "                    cat_features=cat_features)"
      ],
      "execution_count": null,
      "outputs": []
    },
    {
      "cell_type": "code",
      "metadata": {
        "colab": {
          "base_uri": "https://localhost:8080/"
        },
        "id": "Pob33J6L9si0",
        "outputId": "85aa232d-576e-41b4-8385-26fc3a24f59f"
      },
      "source": [
        "preds_class = model.predict_proba(test_dataset)\n",
        "preds_class"
      ],
      "execution_count": null,
      "outputs": [
        {
          "output_type": "execute_result",
          "data": {
            "text/plain": [
              "array([[0.95825592, 0.04174408],\n",
              "       [0.98531333, 0.01468667],\n",
              "       [0.92350955, 0.07649045],\n",
              "       ...,\n",
              "       [0.81570859, 0.18429141],\n",
              "       [0.86085624, 0.13914376],\n",
              "       [0.97649872, 0.02350128]])"
            ]
          },
          "metadata": {
            "tags": []
          },
          "execution_count": 27
        }
      ]
    },
    {
      "cell_type": "code",
      "metadata": {
        "colab": {
          "base_uri": "https://localhost:8080/",
          "height": 407
        },
        "id": "9Cu0opTC9uAT",
        "outputId": "5c7314ee-9377-4a11-ecbd-b4a2f98b820f"
      },
      "source": [
        "out = pd.DataFrame(preds_class)\n",
        "out"
      ],
      "execution_count": null,
      "outputs": [
        {
          "output_type": "execute_result",
          "data": {
            "text/html": [
              "<div>\n",
              "<style scoped>\n",
              "    .dataframe tbody tr th:only-of-type {\n",
              "        vertical-align: middle;\n",
              "    }\n",
              "\n",
              "    .dataframe tbody tr th {\n",
              "        vertical-align: top;\n",
              "    }\n",
              "\n",
              "    .dataframe thead th {\n",
              "        text-align: right;\n",
              "    }\n",
              "</style>\n",
              "<table border=\"1\" class=\"dataframe\">\n",
              "  <thead>\n",
              "    <tr style=\"text-align: right;\">\n",
              "      <th></th>\n",
              "      <th>0</th>\n",
              "      <th>1</th>\n",
              "    </tr>\n",
              "  </thead>\n",
              "  <tbody>\n",
              "    <tr>\n",
              "      <th>0</th>\n",
              "      <td>0.958256</td>\n",
              "      <td>0.041744</td>\n",
              "    </tr>\n",
              "    <tr>\n",
              "      <th>1</th>\n",
              "      <td>0.985313</td>\n",
              "      <td>0.014687</td>\n",
              "    </tr>\n",
              "    <tr>\n",
              "      <th>2</th>\n",
              "      <td>0.923510</td>\n",
              "      <td>0.076490</td>\n",
              "    </tr>\n",
              "    <tr>\n",
              "      <th>3</th>\n",
              "      <td>0.848226</td>\n",
              "      <td>0.151774</td>\n",
              "    </tr>\n",
              "    <tr>\n",
              "      <th>4</th>\n",
              "      <td>0.840345</td>\n",
              "      <td>0.159655</td>\n",
              "    </tr>\n",
              "    <tr>\n",
              "      <th>...</th>\n",
              "      <td>...</td>\n",
              "      <td>...</td>\n",
              "    </tr>\n",
              "    <tr>\n",
              "      <th>119995</th>\n",
              "      <td>0.368848</td>\n",
              "      <td>0.631152</td>\n",
              "    </tr>\n",
              "    <tr>\n",
              "      <th>119996</th>\n",
              "      <td>0.429761</td>\n",
              "      <td>0.570239</td>\n",
              "    </tr>\n",
              "    <tr>\n",
              "      <th>119997</th>\n",
              "      <td>0.815709</td>\n",
              "      <td>0.184291</td>\n",
              "    </tr>\n",
              "    <tr>\n",
              "      <th>119998</th>\n",
              "      <td>0.860856</td>\n",
              "      <td>0.139144</td>\n",
              "    </tr>\n",
              "    <tr>\n",
              "      <th>119999</th>\n",
              "      <td>0.976499</td>\n",
              "      <td>0.023501</td>\n",
              "    </tr>\n",
              "  </tbody>\n",
              "</table>\n",
              "<p>120000 rows × 2 columns</p>\n",
              "</div>"
            ],
            "text/plain": [
              "               0         1\n",
              "0       0.958256  0.041744\n",
              "1       0.985313  0.014687\n",
              "2       0.923510  0.076490\n",
              "3       0.848226  0.151774\n",
              "4       0.840345  0.159655\n",
              "...          ...       ...\n",
              "119995  0.368848  0.631152\n",
              "119996  0.429761  0.570239\n",
              "119997  0.815709  0.184291\n",
              "119998  0.860856  0.139144\n",
              "119999  0.976499  0.023501\n",
              "\n",
              "[120000 rows x 2 columns]"
            ]
          },
          "metadata": {
            "tags": []
          },
          "execution_count": 28
        }
      ]
    },
    {
      "cell_type": "code",
      "metadata": {
        "id": "a8lAtZ5Q9vLj"
      },
      "source": [
        "out[1].to_csv('submission.csv', index=False, header=['target'])"
      ],
      "execution_count": null,
      "outputs": []
    }
  ]
}