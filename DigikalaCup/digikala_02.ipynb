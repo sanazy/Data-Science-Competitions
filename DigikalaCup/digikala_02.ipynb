{
  "nbformat": 4,
  "nbformat_minor": 0,
  "metadata": {
    "colab": {
      "name": "digikala-02.ipynb",
      "provenance": [],
      "collapsed_sections": []
    },
    "kernelspec": {
      "name": "python3",
      "display_name": "Python 3"
    },
    "accelerator": "GPU"
  },
  "cells": [
    {
      "cell_type": "code",
      "metadata": {
        "id": "OW5AaFaM2Iie",
        "colab_type": "code",
        "colab": {
          "base_uri": "https://localhost:8080/",
          "height": 55
        },
        "outputId": "e6172da3-d23c-42cb-bb5e-381889571665"
      },
      "source": [
        "from google.colab import drive\n",
        "drive.mount('/content/drive')"
      ],
      "execution_count": 20,
      "outputs": [
        {
          "output_type": "stream",
          "text": [
            "Drive already mounted at /content/drive; to attempt to forcibly remount, call drive.mount(\"/content/drive\", force_remount=True).\n"
          ],
          "name": "stdout"
        }
      ]
    },
    {
      "cell_type": "code",
      "metadata": {
        "id": "etQ4JiHC3Doq",
        "colab_type": "code",
        "colab": {
          "base_uri": "https://localhost:8080/",
          "height": 35
        },
        "outputId": "48979c8c-c174-4381-8cb5-9157fceb9dc6"
      },
      "source": [
        "%cd '/content/drive/My Drive/DigiKala'"
      ],
      "execution_count": 21,
      "outputs": [
        {
          "output_type": "stream",
          "text": [
            "/content/drive/My Drive/DigiKala\n"
          ],
          "name": "stdout"
        }
      ]
    },
    {
      "cell_type": "code",
      "metadata": {
        "id": "UjkMbA_b3QuR",
        "colab_type": "code",
        "colab": {}
      },
      "source": [
        "#!unzip 'nlp_comments_users.zip'"
      ],
      "execution_count": null,
      "outputs": []
    },
    {
      "cell_type": "code",
      "metadata": {
        "id": "6F8YRUvV4t20",
        "colab_type": "code",
        "colab": {}
      },
      "source": [
        "import pandas as pd\n",
        "import numpy as np\n",
        "import matplotlib.pyplot as plt\n",
        "import seaborn as sns\n",
        "from sklearn.model_selection import train_test_split\n",
        "from sklearn.preprocessing import LabelEncoder\n",
        "from keras.models import Model\n",
        "from keras.layers import LSTM, Activation, Dense, Dropout, Input, Embedding\n",
        "from keras.optimizers import RMSprop\n",
        "from keras.preprocessing.text import Tokenizer\n",
        "from keras.preprocessing import sequence\n",
        "from keras.utils import to_categorical\n",
        "from keras.callbacks import EarlyStopping"
      ],
      "execution_count": 22,
      "outputs": []
    },
    {
      "cell_type": "code",
      "metadata": {
        "id": "r3dXJLkK4w11",
        "colab_type": "code",
        "colab": {
          "base_uri": "https://localhost:8080/",
          "height": 286
        },
        "outputId": "40e0df37-1344-4c5d-dd25-2ac5376a9cb1"
      },
      "source": [
        "df_train = pd.read_csv('train_users.csv')\n",
        "print(df_train.shape)\n",
        "df_train.head(2)"
      ],
      "execution_count": 23,
      "outputs": [
        {
          "output_type": "stream",
          "text": [
            "(264399, 10)\n"
          ],
          "name": "stdout"
        },
        {
          "output_type": "execute_result",
          "data": {
            "text/html": [
              "<div>\n",
              "<style scoped>\n",
              "    .dataframe tbody tr th:only-of-type {\n",
              "        vertical-align: middle;\n",
              "    }\n",
              "\n",
              "    .dataframe tbody tr th {\n",
              "        vertical-align: top;\n",
              "    }\n",
              "\n",
              "    .dataframe thead th {\n",
              "        text-align: right;\n",
              "    }\n",
              "</style>\n",
              "<table border=\"1\" class=\"dataframe\">\n",
              "  <thead>\n",
              "    <tr style=\"text-align: right;\">\n",
              "      <th></th>\n",
              "      <th>id</th>\n",
              "      <th>title</th>\n",
              "      <th>comment</th>\n",
              "      <th>advantages</th>\n",
              "      <th>disadvantages</th>\n",
              "      <th>title_fa_product</th>\n",
              "      <th>title_fa_category</th>\n",
              "      <th>is_buyer</th>\n",
              "      <th>verification_status</th>\n",
              "      <th>rate</th>\n",
              "    </tr>\n",
              "  </thead>\n",
              "  <tbody>\n",
              "    <tr>\n",
              "      <th>0</th>\n",
              "      <td>0</td>\n",
              "      <td>NaN</td>\n",
              "      <td>مثل بقیه محصولات الکل دار پوست رو خشک نمیکنه</td>\n",
              "      <td>NaN</td>\n",
              "      <td>NaN</td>\n",
              "      <td>ژل ضد عفونی کننده دست شون مدل Aloevera حجم 300...</td>\n",
              "      <td>ضدعفونی کننده</td>\n",
              "      <td>1</td>\n",
              "      <td>1</td>\n",
              "      <td>100.0</td>\n",
              "    </tr>\n",
              "    <tr>\n",
              "      <th>1</th>\n",
              "      <td>1</td>\n",
              "      <td>Redmi 8</td>\n",
              "      <td>با این مبلغ اگه امکانات و ارزش خرید واستون مهم...</td>\n",
              "      <td>[\"رم4\\r\",\"قیمت نسبت به سایر برندها\\r\",\"طراحی و...</td>\n",
              "      <td>[\"نداشتن هندزفری\"]</td>\n",
              "      <td>گوشی موبایل شیائومی مدل Redmi 8 M1908C3IG دو س...</td>\n",
              "      <td>گوشی موبایل</td>\n",
              "      <td>1</td>\n",
              "      <td>1</td>\n",
              "      <td>80.0</td>\n",
              "    </tr>\n",
              "  </tbody>\n",
              "</table>\n",
              "</div>"
            ],
            "text/plain": [
              "   id    title  ... verification_status   rate\n",
              "0   0      NaN  ...                   1  100.0\n",
              "1   1  Redmi 8  ...                   1   80.0\n",
              "\n",
              "[2 rows x 10 columns]"
            ]
          },
          "metadata": {
            "tags": []
          },
          "execution_count": 23
        }
      ]
    },
    {
      "cell_type": "code",
      "metadata": {
        "id": "IGjGGP6PQDqB",
        "colab_type": "code",
        "colab": {
          "base_uri": "https://localhost:8080/",
          "height": 165
        },
        "outputId": "2e5ced39-0df7-478f-9312-2f239a19b8e8"
      },
      "source": [
        "df_test = pd.read_csv('test_users.csv')\n",
        "print(df_test.shape)\n",
        "df_test.head(2)"
      ],
      "execution_count": 24,
      "outputs": [
        {
          "output_type": "stream",
          "text": [
            "(19399, 8)\n"
          ],
          "name": "stdout"
        },
        {
          "output_type": "execute_result",
          "data": {
            "text/html": [
              "<div>\n",
              "<style scoped>\n",
              "    .dataframe tbody tr th:only-of-type {\n",
              "        vertical-align: middle;\n",
              "    }\n",
              "\n",
              "    .dataframe tbody tr th {\n",
              "        vertical-align: top;\n",
              "    }\n",
              "\n",
              "    .dataframe thead th {\n",
              "        text-align: right;\n",
              "    }\n",
              "</style>\n",
              "<table border=\"1\" class=\"dataframe\">\n",
              "  <thead>\n",
              "    <tr style=\"text-align: right;\">\n",
              "      <th></th>\n",
              "      <th>id</th>\n",
              "      <th>title</th>\n",
              "      <th>comment</th>\n",
              "      <th>advantages</th>\n",
              "      <th>disadvantages</th>\n",
              "      <th>title_fa_product</th>\n",
              "      <th>title_fa_category</th>\n",
              "      <th>is_buyer</th>\n",
              "    </tr>\n",
              "  </thead>\n",
              "  <tbody>\n",
              "    <tr>\n",
              "      <th>0</th>\n",
              "      <td>0</td>\n",
              "      <td>با کیفیت</td>\n",
              "      <td>بسته بندی بهداشتی و کیفیت عالی</td>\n",
              "      <td>NaN</td>\n",
              "      <td>NaN</td>\n",
              "      <td>گوش پاک کن کتابی پنبه ریز بسته 200 عددی</td>\n",
              "      <td>گوش پاک کن</td>\n",
              "      <td>1</td>\n",
              "    </tr>\n",
              "    <tr>\n",
              "      <th>1</th>\n",
              "      <td>1</td>\n",
              "      <td>گوشی موبایل شیائومی</td>\n",
              "      <td>این گوشی فوق‌العاده است</td>\n",
              "      <td>[\"این گوشی همه چیش فوق‌العاده است از دوربین تا...</td>\n",
              "      <td>[\"اصلا هیچ نقاط ضعفی نداره \"]</td>\n",
              "      <td>گوشی موبایل شیائومی مدل Redmi Note 8 M1908C3JG...</td>\n",
              "      <td>گوشی موبایل</td>\n",
              "      <td>1</td>\n",
              "    </tr>\n",
              "  </tbody>\n",
              "</table>\n",
              "</div>"
            ],
            "text/plain": [
              "   id                title  ... title_fa_category is_buyer\n",
              "0   0             با کیفیت  ...        گوش پاک کن        1\n",
              "1   1  گوشی موبایل شیائومی  ...       گوشی موبایل        1\n",
              "\n",
              "[2 rows x 8 columns]"
            ]
          },
          "metadata": {
            "tags": []
          },
          "execution_count": 24
        }
      ]
    },
    {
      "cell_type": "code",
      "metadata": {
        "id": "Sw2F26jhBjc3",
        "colab_type": "code",
        "colab": {
          "base_uri": "https://localhost:8080/",
          "height": 350
        },
        "outputId": "ef52c85f-495b-42f7-d82d-b9964f67e08a"
      },
      "source": [
        "print(df_train[df_train['verification_status'] == 0].shape)\n",
        "print(df_train[df_train['verification_status'] == 1].shape)\n",
        "sns.countplot(df_train['verification_status'])\n",
        "plt.xlabel('Label')\n",
        "plt.title('Number of accepted and rejected comments')"
      ],
      "execution_count": 25,
      "outputs": [
        {
          "output_type": "stream",
          "text": [
            "(9918, 10)\n",
            "(254481, 10)\n"
          ],
          "name": "stdout"
        },
        {
          "output_type": "execute_result",
          "data": {
            "text/plain": [
              "Text(0.5, 1.0, 'Number of accepted and rejected comments')"
            ]
          },
          "metadata": {
            "tags": []
          },
          "execution_count": 25
        },
        {
          "output_type": "display_data",
          "data": {
            "image/png": "[encoded data removed]",
            "text/plain": [
              "<Figure size 432x288 with 1 Axes>"
            ]
          },
          "metadata": {
            "tags": [],
            "needs_background": "light"
          }
        }
      ]
    },
    {
      "cell_type": "code",
      "metadata": {
        "id": "nXn4f2z_ROvP",
        "colab_type": "code",
        "colab": {
          "base_uri": "https://localhost:8080/",
          "height": 217
        },
        "outputId": "e2addf86-8c4d-460f-91c1-97652fadee17"
      },
      "source": [
        "df_train.isna().sum()"
      ],
      "execution_count": 26,
      "outputs": [
        {
          "output_type": "execute_result",
          "data": {
            "text/plain": [
              "id                          0\n",
              "title                   85568\n",
              "comment                  1667\n",
              "advantages             218712\n",
              "disadvantages          235916\n",
              "title_fa_product            0\n",
              "title_fa_category           0\n",
              "is_buyer                    0\n",
              "verification_status         0\n",
              "rate                        0\n",
              "dtype: int64"
            ]
          },
          "metadata": {
            "tags": []
          },
          "execution_count": 26
        }
      ]
    },
    {
      "cell_type": "markdown",
      "metadata": {
        "id": "TXtvF8rQBlD1",
        "colab_type": "text"
      },
      "source": [
        "***\n",
        "Training"
      ]
    },
    {
      "cell_type": "code",
      "metadata": {
        "id": "p_rEljp7SRZA",
        "colab_type": "code",
        "colab": {
          "base_uri": "https://localhost:8080/",
          "height": 206
        },
        "outputId": "8485a16c-39ea-4e4d-e4ba-5aad8ac3f964"
      },
      "source": [
        "train = df_train\n",
        "train.fillna(' ', inplace=True)\n",
        "\n",
        "train['content'] = train['title'] + \\\n",
        "                   train['comment'] + \\\n",
        "                   train['advantages'] + \\\n",
        "                   train['disadvantages'] + \\\n",
        "                   train['title_fa_product'] + \\\n",
        "                   train['title_fa_category']\n",
        "train = train[['verification_status', 'content']]\n",
        "train.head()"
      ],
      "execution_count": 27,
      "outputs": [
        {
          "output_type": "execute_result",
          "data": {
            "text/html": [
              "<div>\n",
              "<style scoped>\n",
              "    .dataframe tbody tr th:only-of-type {\n",
              "        vertical-align: middle;\n",
              "    }\n",
              "\n",
              "    .dataframe tbody tr th {\n",
              "        vertical-align: top;\n",
              "    }\n",
              "\n",
              "    .dataframe thead th {\n",
              "        text-align: right;\n",
              "    }\n",
              "</style>\n",
              "<table border=\"1\" class=\"dataframe\">\n",
              "  <thead>\n",
              "    <tr style=\"text-align: right;\">\n",
              "      <th></th>\n",
              "      <th>verification_status</th>\n",
              "      <th>content</th>\n",
              "    </tr>\n",
              "  </thead>\n",
              "  <tbody>\n",
              "    <tr>\n",
              "      <th>0</th>\n",
              "      <td>1</td>\n",
              "      <td>مثل بقیه محصولات الکل دار پوست رو خشک نمیکنه ...</td>\n",
              "    </tr>\n",
              "    <tr>\n",
              "      <th>1</th>\n",
              "      <td>1</td>\n",
              "      <td>Redmi 8با این مبلغ اگه امکانات و ارزش خرید واس...</td>\n",
              "    </tr>\n",
              "    <tr>\n",
              "      <th>2</th>\n",
              "      <td>1</td>\n",
              "      <td>عالیخوبه فقط کج و کوله بدستم رسید ولی پسرم خیل...</td>\n",
              "    </tr>\n",
              "    <tr>\n",
              "      <th>3</th>\n",
              "      <td>1</td>\n",
              "      <td>در کل خوب بود ولی متاسفانه درب محصول شکسته بو...</td>\n",
              "    </tr>\n",
              "    <tr>\n",
              "      <th>4</th>\n",
              "      <td>1</td>\n",
              "      <td>من که خیلی باهاش حال کردم فقط من که همیشه L م...</td>\n",
              "    </tr>\n",
              "  </tbody>\n",
              "</table>\n",
              "</div>"
            ],
            "text/plain": [
              "   verification_status                                            content\n",
              "0                    1   مثل بقیه محصولات الکل دار پوست رو خشک نمیکنه ...\n",
              "1                    1  Redmi 8با این مبلغ اگه امکانات و ارزش خرید واس...\n",
              "2                    1  عالیخوبه فقط کج و کوله بدستم رسید ولی پسرم خیل...\n",
              "3                    1   در کل خوب بود ولی متاسفانه درب محصول شکسته بو...\n",
              "4                    1   من که خیلی باهاش حال کردم فقط من که همیشه L م..."
            ]
          },
          "metadata": {
            "tags": []
          },
          "execution_count": 27
        }
      ]
    },
    {
      "cell_type": "code",
      "metadata": {
        "id": "jACaueO60WKV",
        "colab_type": "code",
        "colab": {
          "base_uri": "https://localhost:8080/",
          "height": 126
        },
        "outputId": "db23d57e-fc4f-4e95-a444-a315bfda735a"
      },
      "source": [
        "test = df_test\n",
        "test.fillna(' ', inplace=True)\n",
        "\n",
        "test['content'] = test['title'] + \\\n",
        "                  test['comment'] + \\\n",
        "                  test['advantages'] + \\\n",
        "                  test['disadvantages'] + \\\n",
        "                  test['title_fa_product'] + \\\n",
        "                  test['title_fa_category']\n",
        "test = test['content']\n",
        "test.head()"
      ],
      "execution_count": 28,
      "outputs": [
        {
          "output_type": "execute_result",
          "data": {
            "text/plain": [
              "0    با کیفیتبسته بندی بهداشتی و کیفیت عالی  گوش پا...\n",
              "1    گوشی موبایل شیائومیاین گوشی فوق‌العاده است[\"ای...\n",
              "2     صداش قطع میشه باتریشم خیییلی ضعیفه  هدفون بی ...\n",
              "3     بنظرم‌ خوبه  خمیر دندان نسیم مدل Feluoride Pr...\n",
              "4    عااالیهعااالیه[\"عاااالیه\"] کرم موبر صورت و بدن...\n",
              "Name: content, dtype: object"
            ]
          },
          "metadata": {
            "tags": []
          },
          "execution_count": 28
        }
      ]
    },
    {
      "cell_type": "code",
      "metadata": {
        "id": "l_PdVR3yzDYZ",
        "colab_type": "code",
        "colab": {}
      },
      "source": [
        "X_train = train['content']\n",
        "y_train = train['verification_status']\n",
        "X_test = test"
      ],
      "execution_count": 29,
      "outputs": []
    },
    {
      "cell_type": "code",
      "metadata": {
        "id": "jzQM0sAvy8tM",
        "colab_type": "code",
        "colab": {}
      },
      "source": [
        "max_words = 1500\n",
        "max_len = 50\n",
        "tok = Tokenizer(num_words = max_words)\n",
        "tok.fit_on_texts(X_train)\n",
        "sequences = tok.texts_to_sequences(X_train)\n",
        "sequences_matrix = sequence.pad_sequences(sequences, maxlen = max_len)"
      ],
      "execution_count": 54,
      "outputs": []
    },
    {
      "cell_type": "code",
      "metadata": {
        "id": "gs4PN08szaA-",
        "colab_type": "code",
        "colab": {}
      },
      "source": [
        "def RNN():\n",
        "  inputs = Input(name='inputs', shape = [max_len])\n",
        "  layer = Embedding(max_words, 50, input_length = max_len)(inputs)\n",
        "  layer = LSTM(64)(layer)\n",
        "  layer = Dense(256, name = 'FC1')(layer)\n",
        "  layer = Activation('relu')(layer)\n",
        "  layer = Dropout(0.5)(layer)\n",
        "  layer = Dense(1, name = 'out_layer')(layer)\n",
        "  layer = Activation('sigmoid')(layer)\n",
        "  model = Model(inputs = inputs, outputs = layer)\n",
        "  return model"
      ],
      "execution_count": 55,
      "outputs": []
    },
    {
      "cell_type": "code",
      "metadata": {
        "id": "0ns2XggfzcB7",
        "colab_type": "code",
        "colab": {
          "base_uri": "https://localhost:8080/",
          "height": 454
        },
        "outputId": "486e980e-10fa-4c85-9b4a-35cdf52bfbe8"
      },
      "source": [
        "model = RNN()\n",
        "model.summary()\n",
        "model.compile(loss = 'binary_crossentropy',\n",
        "              optimizer = 'adam',\n",
        "              metrics = ['accuracy'])"
      ],
      "execution_count": 56,
      "outputs": [
        {
          "output_type": "stream",
          "text": [
            "Model: \"functional_13\"\n",
            "_________________________________________________________________\n",
            "Layer (type)                 Output Shape              Param #   \n",
            "=================================================================\n",
            "inputs (InputLayer)          [(None, 50)]              0         \n",
            "_________________________________________________________________\n",
            "embedding_6 (Embedding)      (None, 50, 50)            75000     \n",
            "_________________________________________________________________\n",
            "lstm_6 (LSTM)                (None, 64)                29440     \n",
            "_________________________________________________________________\n",
            "FC1 (Dense)                  (None, 256)               16640     \n",
            "_________________________________________________________________\n",
            "activation_12 (Activation)   (None, 256)               0         \n",
            "_________________________________________________________________\n",
            "dropout_6 (Dropout)          (None, 256)               0         \n",
            "_________________________________________________________________\n",
            "out_layer (Dense)            (None, 1)                 257       \n",
            "_________________________________________________________________\n",
            "activation_13 (Activation)   (None, 1)                 0         \n",
            "=================================================================\n",
            "Total params: 121,337\n",
            "Trainable params: 121,337\n",
            "Non-trainable params: 0\n",
            "_________________________________________________________________\n"
          ],
          "name": "stdout"
        }
      ]
    },
    {
      "cell_type": "code",
      "metadata": {
        "id": "_s3HpWI3zfBb",
        "colab_type": "code",
        "colab": {
          "base_uri": "https://localhost:8080/",
          "height": 237
        },
        "outputId": "f8346339-2e3d-4066-8931-80b4e27ed7d8"
      },
      "source": [
        "model.fit(sequences_matrix,\n",
        "          y_train,\n",
        "          batch_size = 128,\n",
        "          epochs = 5,\n",
        "          validation_split = 0.2,)\n",
        "          #callbacks=[EarlyStopping(monitor='val_loss',min_delta=0.0001)])"
      ],
      "execution_count": 57,
      "outputs": [
        {
          "output_type": "stream",
          "text": [
            "Epoch 1/5\n",
            "1653/1653 [==============================] - 29s 17ms/step - loss: 0.1124 - accuracy: 0.9646 - val_loss: 0.0941 - val_accuracy: 0.9673\n",
            "Epoch 2/5\n",
            "1653/1653 [==============================] - 29s 17ms/step - loss: 0.0907 - accuracy: 0.9673 - val_loss: 0.0875 - val_accuracy: 0.9673\n",
            "Epoch 3/5\n",
            "1653/1653 [==============================] - 28s 17ms/step - loss: 0.0836 - accuracy: 0.9692 - val_loss: 0.0858 - val_accuracy: 0.9690\n",
            "Epoch 4/5\n",
            "1653/1653 [==============================] - 28s 17ms/step - loss: 0.0789 - accuracy: 0.9706 - val_loss: 0.0866 - val_accuracy: 0.9678\n",
            "Epoch 5/5\n",
            "1653/1653 [==============================] - 28s 17ms/step - loss: 0.0755 - accuracy: 0.9715 - val_loss: 0.0864 - val_accuracy: 0.9686\n"
          ],
          "name": "stdout"
        },
        {
          "output_type": "execute_result",
          "data": {
            "text/plain": [
              "<tensorflow.python.keras.callbacks.History at 0x7f9626c96b70>"
            ]
          },
          "metadata": {
            "tags": []
          },
          "execution_count": 57
        }
      ]
    },
    {
      "cell_type": "code",
      "metadata": {
        "id": "7soeeAes3TCO",
        "colab_type": "code",
        "colab": {}
      },
      "source": [
        "txts = tok.texts_to_sequences(X_test)\n",
        "txts = sequence.pad_sequences(txts, maxlen=max_len)\n",
        "preds = model.predict(txts)"
      ],
      "execution_count": 58,
      "outputs": []
    },
    {
      "cell_type": "code",
      "metadata": {
        "id": "lVLeuXaG3Z8w",
        "colab_type": "code",
        "colab": {
          "base_uri": "https://localhost:8080/",
          "height": 206
        },
        "outputId": "2ae1a7fd-eff0-4c73-b5e3-71a2a14fbdb4"
      },
      "source": [
        "y_test = preds.tolist()\n",
        "\n",
        "ys = []\n",
        "for y in y_test:\n",
        "  if y[0] > 0.5:\n",
        "    ys.append(1)\n",
        "  else:\n",
        "    ys.append(0)\n",
        "\n",
        "df_final = pd.DataFrame(ys)\n",
        "df_final.head()"
      ],
      "execution_count": 59,
      "outputs": [
        {
          "output_type": "execute_result",
          "data": {
            "text/html": [
              "<div>\n",
              "<style scoped>\n",
              "    .dataframe tbody tr th:only-of-type {\n",
              "        vertical-align: middle;\n",
              "    }\n",
              "\n",
              "    .dataframe tbody tr th {\n",
              "        vertical-align: top;\n",
              "    }\n",
              "\n",
              "    .dataframe thead th {\n",
              "        text-align: right;\n",
              "    }\n",
              "</style>\n",
              "<table border=\"1\" class=\"dataframe\">\n",
              "  <thead>\n",
              "    <tr style=\"text-align: right;\">\n",
              "      <th></th>\n",
              "      <th>0</th>\n",
              "    </tr>\n",
              "  </thead>\n",
              "  <tbody>\n",
              "    <tr>\n",
              "      <th>0</th>\n",
              "      <td>1</td>\n",
              "    </tr>\n",
              "    <tr>\n",
              "      <th>1</th>\n",
              "      <td>1</td>\n",
              "    </tr>\n",
              "    <tr>\n",
              "      <th>2</th>\n",
              "      <td>1</td>\n",
              "    </tr>\n",
              "    <tr>\n",
              "      <th>3</th>\n",
              "      <td>1</td>\n",
              "    </tr>\n",
              "    <tr>\n",
              "      <th>4</th>\n",
              "      <td>1</td>\n",
              "    </tr>\n",
              "  </tbody>\n",
              "</table>\n",
              "</div>"
            ],
            "text/plain": [
              "   0\n",
              "0  1\n",
              "1  1\n",
              "2  1\n",
              "3  1\n",
              "4  1"
            ]
          },
          "metadata": {
            "tags": []
          },
          "execution_count": 59
        }
      ]
    },
    {
      "cell_type": "code",
      "metadata": {
        "id": "q1FFHEPe5gK8",
        "colab_type": "code",
        "colab": {}
      },
      "source": [
        "df_final.to_csv('ver_status.csv', index = True, index_label=['id'], header=['verification_status'])"
      ],
      "execution_count": 60,
      "outputs": []
    }
  ]
}