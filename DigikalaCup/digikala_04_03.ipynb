{
  "nbformat": 4,
  "nbformat_minor": 0,
  "metadata": {
    "colab": {
      "name": "digikala-04-03.ipynb",
      "provenance": [],
      "collapsed_sections": []
    },
    "kernelspec": {
      "name": "python3",
      "display_name": "Python 3"
    },
    "accelerator": "GPU"
  },
  "cells": [
    {
      "cell_type": "code",
      "metadata": {
        "id": "q9oqItbY6kc5",
        "colab_type": "code",
        "colab": {
          "base_uri": "https://localhost:8080/",
          "height": 55
        },
        "outputId": "25cf6ca6-8926-4f24-ff00-d220d65df326"
      },
      "source": [
        "from google.colab import drive\n",
        "drive.mount('/content/drive')"
      ],
      "execution_count": 35,
      "outputs": [
        {
          "output_type": "stream",
          "text": [
            "Drive already mounted at /content/drive; to attempt to forcibly remount, call drive.mount(\"/content/drive\", force_remount=True).\n"
          ],
          "name": "stdout"
        }
      ]
    },
    {
      "cell_type": "code",
      "metadata": {
        "id": "Ulh6ACU46llB",
        "colab_type": "code",
        "colab": {
          "base_uri": "https://localhost:8080/",
          "height": 35
        },
        "outputId": "d99032f4-732d-4406-da28-ba26319d7f0c"
      },
      "source": [
        "%cd '/content/drive/My Drive/DigiKala'"
      ],
      "execution_count": 36,
      "outputs": [
        {
          "output_type": "stream",
          "text": [
            "/content/drive/My Drive/DigiKala\n"
          ],
          "name": "stdout"
        }
      ]
    },
    {
      "cell_type": "code",
      "metadata": {
        "id": "HJzpot_j6mt6",
        "colab_type": "code",
        "colab": {}
      },
      "source": [
        "import numpy as np\n",
        "import pandas as pd\n",
        "\n",
        "import os\n",
        "from tqdm import tqdm\n",
        "\n",
        "import cv2 \n",
        "import matplotlib.pyplot as plt  \n",
        "import seaborn as sn; sn.set(font_scale=1.4)\n",
        "from sklearn.utils import shuffle           \n",
        " \n",
        "import tensorflow as tf \n",
        "from keras.layers import Conv2D, MaxPooling2D, Dropout, Flatten, Dense\n",
        "from keras.callbacks import EarlyStopping"
      ],
      "execution_count": 37,
      "outputs": []
    },
    {
      "cell_type": "code",
      "metadata": {
        "id": "GlYOnmUr6ot3",
        "colab_type": "code",
        "colab": {}
      },
      "source": [
        "class_names = ['pink', 'purple', 'yellow', 'orange', 'white', 'silver', \n",
        "               'grey', 'black', 'red', 'brown', 'green', 'blue']\n",
        "class_names_label = {class_name:i for i, class_name in enumerate(class_names)}\n",
        "\n",
        "num_classes = len(class_names)"
      ],
      "execution_count": 38,
      "outputs": []
    },
    {
      "cell_type": "code",
      "metadata": {
        "id": "2AW37VrlQyoW",
        "colab_type": "code",
        "colab": {}
      },
      "source": [
        "TRAIN_PATH = './train'\n",
        "TEST_PATH = './test'\n",
        "IMAGE_SIZE = (50, 50)"
      ],
      "execution_count": 39,
      "outputs": []
    },
    {
      "cell_type": "code",
      "metadata": {
        "id": "a-PDyRz37i_B",
        "colab_type": "code",
        "colab": {}
      },
      "source": [
        "def load_train_data():\n",
        "    \n",
        "  dataset = TRAIN_PATH\n",
        "\n",
        "  # Iterate through training and test sets\n",
        "  images = []\n",
        "  labels = []\n",
        "  \n",
        "  # Iterate through each folder corresponding to a category\n",
        "  for folder in os.listdir(dataset):\n",
        "    label = class_names_label[folder]\n",
        "    \n",
        "    # Iterate through each image in our folder\n",
        "    for file in tqdm(os.listdir(os.path.join(dataset, folder))):\n",
        "        \n",
        "      # Get the path name of the image\n",
        "      img_path = os.path.join(os.path.join(dataset, folder), file)\n",
        "      \n",
        "      # Open and resize the img\n",
        "      image = cv2.imread(img_path)\n",
        "      image = cv2.cvtColor(image, cv2.COLOR_BGR2RGB)\n",
        "      image = cv2.resize(image, IMAGE_SIZE)\n",
        "      \n",
        "      # Append the image and its corresponding label to the output\n",
        "      images.append(image)\n",
        "      labels.append(label)  \n",
        "\n",
        "  return (images, labels)"
      ],
      "execution_count": 40,
      "outputs": []
    },
    {
      "cell_type": "code",
      "metadata": {
        "id": "GQZZaxl76uFm",
        "colab_type": "code",
        "colab": {
          "base_uri": "https://localhost:8080/",
          "height": 235
        },
        "outputId": "3332f380-3b65-49e9-9831-5db466b2eccc"
      },
      "source": [
        "(train_images, train_labels) = load_train_data()"
      ],
      "execution_count": 41,
      "outputs": [
        {
          "output_type": "stream",
          "text": [
            "100%|██████████| 427/427 [00:01<00:00, 287.65it/s]\n",
            "100%|██████████| 350/350 [00:00<00:00, 376.41it/s]\n",
            "100%|██████████| 334/334 [00:00<00:00, 374.25it/s]\n",
            "100%|██████████| 681/681 [00:01<00:00, 376.23it/s]\n",
            "100%|██████████| 318/318 [00:00<00:00, 351.33it/s]\n",
            "100%|██████████| 341/341 [00:00<00:00, 363.58it/s]\n",
            "100%|██████████| 706/706 [00:01<00:00, 371.77it/s]\n",
            "100%|██████████| 352/352 [00:00<00:00, 369.19it/s]\n",
            "100%|██████████| 704/704 [00:01<00:00, 357.90it/s]\n",
            "100%|██████████| 686/686 [00:01<00:00, 359.35it/s]\n",
            "100%|██████████| 689/689 [00:01<00:00, 360.74it/s]\n",
            "100%|██████████| 651/651 [00:01<00:00, 368.48it/s]\n"
          ],
          "name": "stderr"
        }
      ]
    },
    {
      "cell_type": "code",
      "metadata": {
        "id": "viGf1Bu_QYr4",
        "colab_type": "code",
        "colab": {}
      },
      "source": [
        "def load_test_data():\n",
        "    \n",
        "  dataset = TEST_PATH\n",
        "\n",
        "  # Iterate through training and test sets\n",
        "  images = []\n",
        "    \n",
        "  # Iterate through each image in our folder\n",
        "  for file in tqdm(os.listdir(os.path.join(dataset))):\n",
        "      \n",
        "    # Get the path name of the image\n",
        "    img_path = os.path.join(os.path.join(dataset), file)\n",
        "    \n",
        "    # Open and resize the img\n",
        "    image = cv2.imread(img_path)\n",
        "    image = cv2.cvtColor(image, cv2.COLOR_BGR2RGB)\n",
        "    image = cv2.resize(image, IMAGE_SIZE)\n",
        "    \n",
        "    # Append the image to the output\n",
        "    images.append(image)    \n",
        "\n",
        "  return images"
      ],
      "execution_count": 42,
      "outputs": []
    },
    {
      "cell_type": "code",
      "metadata": {
        "id": "Fl1UeyLERic0",
        "colab_type": "code",
        "colab": {
          "base_uri": "https://localhost:8080/",
          "height": 35
        },
        "outputId": "b10602de-c927-493f-956f-371a02174892"
      },
      "source": [
        "test_images = load_test_data()"
      ],
      "execution_count": 43,
      "outputs": [
        {
          "output_type": "stream",
          "text": [
            "100%|██████████| 2673/2673 [00:06<00:00, 398.83it/s]\n"
          ],
          "name": "stderr"
        }
      ]
    },
    {
      "cell_type": "code",
      "metadata": {
        "id": "TOhLuecA-1jG",
        "colab_type": "code",
        "colab": {}
      },
      "source": [
        "train_images, train_labels = shuffle(train_images, train_labels, random_state=25)"
      ],
      "execution_count": 44,
      "outputs": []
    },
    {
      "cell_type": "code",
      "metadata": {
        "id": "TplWgylQ_L6X",
        "colab_type": "code",
        "colab": {}
      },
      "source": [
        "def display_random_image(class_names, images, labels):\n",
        "  \"\"\"\n",
        "    Display a random image from the images array and its correspond label from the labels array.\n",
        "  \"\"\"\n",
        "  images = np.array(images)\n",
        "  index = np.random.randint(images.shape[0])\n",
        "  plt.figure()\n",
        "  plt.imshow(images[index])\n",
        "  plt.xticks([])\n",
        "  plt.yticks([])\n",
        "  plt.grid(False)\n",
        "  plt.title('Image #{} : '.format(index) + class_names[labels[index]])\n",
        "  plt.show()"
      ],
      "execution_count": 45,
      "outputs": []
    },
    {
      "cell_type": "code",
      "metadata": {
        "id": "Ul3VKYyQ_NeV",
        "colab_type": "code",
        "colab": {
          "base_uri": "https://localhost:8080/",
          "height": 268
        },
        "outputId": "f15d4d59-0a48-4b48-bba0-789f3236aa6f"
      },
      "source": [
        "display_random_image(class_names, train_images, train_labels)"
      ],
      "execution_count": 46,
      "outputs": [
        {
          "output_type": "display_data",
          "data": {
            "image/png": "[encoded data removed]",
            "text/plain": [
              "<Figure size 432x288 with 1 Axes>"
            ]
          },
          "metadata": {
            "tags": []
          }
        }
      ]
    },
    {
      "cell_type": "code",
      "metadata": {
        "id": "X15c6tlZ_CuT",
        "colab_type": "code",
        "colab": {}
      },
      "source": [
        "# scale the data\n",
        "X_train = np.array(train_images) / 255.0 \n",
        "y_train = np.array(train_labels)\n",
        "X_test = np.array(test_images) / 255.0"
      ],
      "execution_count": 47,
      "outputs": []
    },
    {
      "cell_type": "markdown",
      "metadata": {
        "id": "VfGviR4A_eQx",
        "colab_type": "text"
      },
      "source": [
        "*** \n",
        "Modeling"
      ]
    },
    {
      "cell_type": "code",
      "metadata": {
        "id": "iAsabiev_dkK",
        "colab_type": "code",
        "colab": {}
      },
      "source": [
        "model = tf.keras.Sequential([\n",
        "    Conv2D(32, (3, 3), activation = 'relu', input_shape = (IMAGE_SIZE[0], IMAGE_SIZE[1], 3)), \n",
        "    MaxPooling2D(2,2),\n",
        "    Dropout(0.5),\n",
        "    \n",
        "    Conv2D(32, (3, 3), activation = 'relu'),\n",
        "    MaxPooling2D(2,2),\n",
        "    Dropout(0.5),\n",
        "    \n",
        "    Flatten(),\n",
        "    Dense(128, activation=tf.nn.relu),\n",
        "    Dense(num_classes, activation=tf.nn.softmax)\n",
        "])"
      ],
      "execution_count": 90,
      "outputs": []
    },
    {
      "cell_type": "code",
      "metadata": {
        "id": "xrydk4Hb_lBu",
        "colab_type": "code",
        "colab": {}
      },
      "source": [
        "model.compile(optimizer = 'adam', \n",
        "              loss = 'sparse_categorical_crossentropy', \n",
        "              metrics=['accuracy'])"
      ],
      "execution_count": 91,
      "outputs": []
    },
    {
      "cell_type": "code",
      "metadata": {
        "id": "U2IDGwub_oag",
        "colab_type": "code",
        "colab": {
          "base_uri": "https://localhost:8080/",
          "height": 1000
        },
        "outputId": "d2a5be2a-0551-4c67-d0a3-ab749885fd79"
      },
      "source": [
        "history = model.fit(X_train, \n",
        "                    y_train, \n",
        "                    batch_size = 128, \n",
        "                    epochs = 50, \n",
        "                    validation_split = 0.3)\n",
        "                    #callbacks=[EarlyStopping(monitor='val_loss', min_delta=0.0001)])"
      ],
      "execution_count": 92,
      "outputs": [
        {
          "output_type": "stream",
          "text": [
            "Epoch 1/50\n",
            "35/35 [==============================] - 1s 16ms/step - loss: 2.3634 - accuracy: 0.1903 - val_loss: 2.1844 - val_accuracy: 0.3146\n",
            "Epoch 2/50\n",
            "35/35 [==============================] - 0s 10ms/step - loss: 1.8478 - accuracy: 0.3824 - val_loss: 1.6999 - val_accuracy: 0.4434\n",
            "Epoch 3/50\n",
            "35/35 [==============================] - 0s 10ms/step - loss: 1.4882 - accuracy: 0.4900 - val_loss: 1.4382 - val_accuracy: 0.5459\n",
            "Epoch 4/50\n",
            "35/35 [==============================] - 0s 10ms/step - loss: 1.2531 - accuracy: 0.5789 - val_loss: 1.1768 - val_accuracy: 0.6255\n",
            "Epoch 5/50\n",
            "35/35 [==============================] - 0s 10ms/step - loss: 1.1176 - accuracy: 0.6293 - val_loss: 1.1744 - val_accuracy: 0.6223\n",
            "Epoch 6/50\n",
            "35/35 [==============================] - 0s 10ms/step - loss: 1.0926 - accuracy: 0.6256 - val_loss: 1.0413 - val_accuracy: 0.6635\n",
            "Epoch 7/50\n",
            "35/35 [==============================] - 0s 10ms/step - loss: 1.0266 - accuracy: 0.6574 - val_loss: 1.0321 - val_accuracy: 0.6790\n",
            "Epoch 8/50\n",
            "35/35 [==============================] - 0s 10ms/step - loss: 1.0094 - accuracy: 0.6627 - val_loss: 1.0226 - val_accuracy: 0.6736\n",
            "Epoch 9/50\n",
            "35/35 [==============================] - 0s 10ms/step - loss: 0.9713 - accuracy: 0.6776 - val_loss: 1.0039 - val_accuracy: 0.6688\n",
            "Epoch 10/50\n",
            "35/35 [==============================] - 0s 10ms/step - loss: 0.9492 - accuracy: 0.6831 - val_loss: 1.0353 - val_accuracy: 0.6763\n",
            "Epoch 11/50\n",
            "35/35 [==============================] - 0s 10ms/step - loss: 0.9522 - accuracy: 0.6865 - val_loss: 0.9395 - val_accuracy: 0.7089\n",
            "Epoch 12/50\n",
            "35/35 [==============================] - 0s 10ms/step - loss: 0.9134 - accuracy: 0.6959 - val_loss: 0.9320 - val_accuracy: 0.7051\n",
            "Epoch 13/50\n",
            "35/35 [==============================] - 0s 10ms/step - loss: 0.8860 - accuracy: 0.7000 - val_loss: 0.9451 - val_accuracy: 0.6976\n",
            "Epoch 14/50\n",
            "35/35 [==============================] - 0s 10ms/step - loss: 0.9006 - accuracy: 0.6970 - val_loss: 1.0022 - val_accuracy: 0.6918\n",
            "Epoch 15/50\n",
            "35/35 [==============================] - 0s 10ms/step - loss: 0.8635 - accuracy: 0.7140 - val_loss: 0.8632 - val_accuracy: 0.7260\n",
            "Epoch 16/50\n",
            "35/35 [==============================] - 0s 10ms/step - loss: 0.8297 - accuracy: 0.7284 - val_loss: 0.8974 - val_accuracy: 0.7179\n",
            "Epoch 17/50\n",
            "35/35 [==============================] - 0s 10ms/step - loss: 0.8256 - accuracy: 0.7264 - val_loss: 0.9343 - val_accuracy: 0.7083\n",
            "Epoch 18/50\n",
            "35/35 [==============================] - 0s 10ms/step - loss: 0.8188 - accuracy: 0.7268 - val_loss: 0.8917 - val_accuracy: 0.7228\n",
            "Epoch 19/50\n",
            "35/35 [==============================] - 0s 10ms/step - loss: 0.8176 - accuracy: 0.7284 - val_loss: 0.9072 - val_accuracy: 0.7169\n",
            "Epoch 20/50\n",
            "35/35 [==============================] - 0s 10ms/step - loss: 0.7858 - accuracy: 0.7380 - val_loss: 0.8479 - val_accuracy: 0.7345\n",
            "Epoch 21/50\n",
            "35/35 [==============================] - 0s 10ms/step - loss: 0.7835 - accuracy: 0.7403 - val_loss: 0.8727 - val_accuracy: 0.7302\n",
            "Epoch 22/50\n",
            "35/35 [==============================] - 0s 10ms/step - loss: 0.7757 - accuracy: 0.7412 - val_loss: 0.9019 - val_accuracy: 0.7206\n",
            "Epoch 23/50\n",
            "35/35 [==============================] - 0s 10ms/step - loss: 0.7562 - accuracy: 0.7497 - val_loss: 0.8534 - val_accuracy: 0.7377\n",
            "Epoch 24/50\n",
            "35/35 [==============================] - 0s 10ms/step - loss: 0.7243 - accuracy: 0.7504 - val_loss: 0.9129 - val_accuracy: 0.7030\n",
            "Epoch 25/50\n",
            "35/35 [==============================] - 0s 10ms/step - loss: 0.7327 - accuracy: 0.7589 - val_loss: 0.8331 - val_accuracy: 0.7473\n",
            "Epoch 26/50\n",
            "35/35 [==============================] - 0s 10ms/step - loss: 0.7147 - accuracy: 0.7602 - val_loss: 0.8468 - val_accuracy: 0.7377\n",
            "Epoch 27/50\n",
            "35/35 [==============================] - 0s 10ms/step - loss: 0.7013 - accuracy: 0.7596 - val_loss: 0.8060 - val_accuracy: 0.7366\n",
            "Epoch 28/50\n",
            "35/35 [==============================] - 0s 10ms/step - loss: 0.7183 - accuracy: 0.7586 - val_loss: 0.8188 - val_accuracy: 0.7388\n",
            "Epoch 29/50\n",
            "35/35 [==============================] - 0s 10ms/step - loss: 0.6865 - accuracy: 0.7772 - val_loss: 0.8515 - val_accuracy: 0.7324\n",
            "Epoch 30/50\n",
            "35/35 [==============================] - 0s 10ms/step - loss: 0.6892 - accuracy: 0.7706 - val_loss: 0.8588 - val_accuracy: 0.7260\n",
            "Epoch 31/50\n",
            "35/35 [==============================] - 0s 10ms/step - loss: 0.7232 - accuracy: 0.7577 - val_loss: 0.9267 - val_accuracy: 0.6928\n",
            "Epoch 32/50\n",
            "35/35 [==============================] - 0s 10ms/step - loss: 0.6933 - accuracy: 0.7731 - val_loss: 0.8162 - val_accuracy: 0.7404\n",
            "Epoch 33/50\n",
            "35/35 [==============================] - 0s 10ms/step - loss: 0.6554 - accuracy: 0.7742 - val_loss: 0.8717 - val_accuracy: 0.7190\n",
            "Epoch 34/50\n",
            "35/35 [==============================] - 0s 10ms/step - loss: 0.6717 - accuracy: 0.7692 - val_loss: 0.7993 - val_accuracy: 0.7452\n",
            "Epoch 35/50\n",
            "35/35 [==============================] - 0s 10ms/step - loss: 0.6381 - accuracy: 0.7843 - val_loss: 0.8274 - val_accuracy: 0.7425\n",
            "Epoch 36/50\n",
            "35/35 [==============================] - 0s 10ms/step - loss: 0.6280 - accuracy: 0.7841 - val_loss: 0.7908 - val_accuracy: 0.7564\n",
            "Epoch 37/50\n",
            "35/35 [==============================] - 0s 10ms/step - loss: 0.6342 - accuracy: 0.7909 - val_loss: 0.7800 - val_accuracy: 0.7473\n",
            "Epoch 38/50\n",
            "35/35 [==============================] - 0s 10ms/step - loss: 0.6341 - accuracy: 0.7854 - val_loss: 0.7866 - val_accuracy: 0.7532\n",
            "Epoch 39/50\n",
            "35/35 [==============================] - 0s 10ms/step - loss: 0.6206 - accuracy: 0.7875 - val_loss: 0.8082 - val_accuracy: 0.7495\n",
            "Epoch 40/50\n",
            "35/35 [==============================] - 0s 10ms/step - loss: 0.5981 - accuracy: 0.7964 - val_loss: 0.7970 - val_accuracy: 0.7495\n",
            "Epoch 41/50\n",
            "35/35 [==============================] - 0s 10ms/step - loss: 0.5933 - accuracy: 0.7964 - val_loss: 0.7759 - val_accuracy: 0.7511\n",
            "Epoch 42/50\n",
            "35/35 [==============================] - 0s 10ms/step - loss: 0.5886 - accuracy: 0.8001 - val_loss: 0.7950 - val_accuracy: 0.7420\n",
            "Epoch 43/50\n",
            "35/35 [==============================] - 0s 10ms/step - loss: 0.5755 - accuracy: 0.8019 - val_loss: 0.8002 - val_accuracy: 0.7479\n",
            "Epoch 44/50\n",
            "35/35 [==============================] - 0s 10ms/step - loss: 0.5904 - accuracy: 0.8003 - val_loss: 0.7888 - val_accuracy: 0.7516\n",
            "Epoch 45/50\n",
            "35/35 [==============================] - 0s 10ms/step - loss: 0.5632 - accuracy: 0.8070 - val_loss: 0.8164 - val_accuracy: 0.7372\n",
            "Epoch 46/50\n",
            "35/35 [==============================] - 0s 10ms/step - loss: 0.5648 - accuracy: 0.8033 - val_loss: 0.7730 - val_accuracy: 0.7564\n",
            "Epoch 47/50\n",
            "35/35 [==============================] - 0s 10ms/step - loss: 0.5624 - accuracy: 0.8113 - val_loss: 0.8433 - val_accuracy: 0.7436\n",
            "Epoch 48/50\n",
            "35/35 [==============================] - 0s 10ms/step - loss: 0.5696 - accuracy: 0.8033 - val_loss: 0.7620 - val_accuracy: 0.7564\n",
            "Epoch 49/50\n",
            "35/35 [==============================] - 0s 10ms/step - loss: 0.5138 - accuracy: 0.8260 - val_loss: 0.7850 - val_accuracy: 0.7639\n",
            "Epoch 50/50\n",
            "35/35 [==============================] - 0s 10ms/step - loss: 0.5201 - accuracy: 0.8234 - val_loss: 0.8307 - val_accuracy: 0.7505\n"
          ],
          "name": "stdout"
        }
      ]
    },
    {
      "cell_type": "code",
      "metadata": {
        "id": "ucXSKayn_sHt",
        "colab_type": "code",
        "colab": {}
      },
      "source": [
        "def plot_accuracy_loss(history):\n",
        "  \"\"\"\n",
        "      Plot the accuracy and the loss during the training of the nn.\n",
        "  \"\"\"\n",
        "  fig = plt.figure(figsize=(10,5))\n",
        "\n",
        "  # Plot accuracy\n",
        "  plt.subplot(221)\n",
        "  plt.plot(history.history['accuracy'],'bo--', label = \"acc\")\n",
        "  plt.plot(history.history['val_accuracy'], 'ro--', label = \"val_acc\")\n",
        "  plt.title(\"train_acc vs val_acc\")\n",
        "  plt.ylabel(\"accuracy\")\n",
        "  plt.xlabel(\"epochs\")\n",
        "  plt.legend()\n",
        "\n",
        "  # Plot loss function\n",
        "  plt.subplot(222)\n",
        "  plt.plot(history.history['loss'],'bo--', label = \"loss\")\n",
        "  plt.plot(history.history['val_loss'], 'ro--', label = \"val_loss\")\n",
        "  plt.title(\"train_loss vs val_loss\")\n",
        "  plt.ylabel(\"loss\")\n",
        "  plt.xlabel(\"epochs\")\n",
        "\n",
        "  plt.legend()\n",
        "  plt.show()"
      ],
      "execution_count": 93,
      "outputs": []
    },
    {
      "cell_type": "code",
      "metadata": {
        "id": "2pRKn5FV_tSb",
        "colab_type": "code",
        "colab": {
          "base_uri": "https://localhost:8080/",
          "height": 221
        },
        "outputId": "6bbb21d4-bf08-4185-baa8-929b4d5b74ed"
      },
      "source": [
        "plot_accuracy_loss(history)"
      ],
      "execution_count": 94,
      "outputs": [
        {
          "output_type": "display_data",
          "data": {
            "image/png": "[encoded data removed]",
            "text/plain": [
              "<Figure size 720x360 with 2 Axes>"
            ]
          },
          "metadata": {
            "tags": []
          }
        }
      ]
    },
    {
      "cell_type": "code",
      "metadata": {
        "id": "j9WCQaDuAHAJ",
        "colab_type": "code",
        "colab": {}
      },
      "source": [
        "predictions = model.predict(X_test)     # Vector of probabilities\n",
        "pred_labels = np.argmax(predictions, axis = 1) # We take the highest probability"
      ],
      "execution_count": 95,
      "outputs": []
    },
    {
      "cell_type": "code",
      "metadata": {
        "id": "tkLK6y_rsMqS",
        "colab_type": "code",
        "colab": {
          "base_uri": "https://localhost:8080/",
          "height": 268
        },
        "outputId": "e9047a21-30d2-4fac-8a89-2551597042ff"
      },
      "source": [
        "display_random_image(class_names, test_images, pred_labels)"
      ],
      "execution_count": 96,
      "outputs": [
        {
          "output_type": "display_data",
          "data": {
            "image/png": "[encoded data removed]",
            "text/plain": [
              "<Figure size 432x288 with 1 Axes>"
            ]
          },
          "metadata": {
            "tags": []
          }
        }
      ]
    },
    {
      "cell_type": "code",
      "metadata": {
        "id": "51nceIed7EWf",
        "colab_type": "code",
        "colab": {
          "base_uri": "https://localhost:8080/",
          "height": 206
        },
        "outputId": "b2fa634d-cf56-4104-ec11-78e54ca47ebd"
      },
      "source": [
        "images = os.listdir('./test')\n",
        "\n",
        "d1 = pd.DataFrame(images)\n",
        "d2 = pd.DataFrame(pred_labels + 1)\n",
        "df_final = pd.concat([d1, d2], axis=1, ignore_index= True)\n",
        "df_final.head()"
      ],
      "execution_count": 97,
      "outputs": [
        {
          "output_type": "execute_result",
          "data": {
            "text/html": [
              "<div>\n",
              "<style scoped>\n",
              "    .dataframe tbody tr th:only-of-type {\n",
              "        vertical-align: middle;\n",
              "    }\n",
              "\n",
              "    .dataframe tbody tr th {\n",
              "        vertical-align: top;\n",
              "    }\n",
              "\n",
              "    .dataframe thead th {\n",
              "        text-align: right;\n",
              "    }\n",
              "</style>\n",
              "<table border=\"1\" class=\"dataframe\">\n",
              "  <thead>\n",
              "    <tr style=\"text-align: right;\">\n",
              "      <th></th>\n",
              "      <th>0</th>\n",
              "      <th>1</th>\n",
              "    </tr>\n",
              "  </thead>\n",
              "  <tbody>\n",
              "    <tr>\n",
              "      <th>0</th>\n",
              "      <td>117054004.jpg</td>\n",
              "      <td>6</td>\n",
              "    </tr>\n",
              "    <tr>\n",
              "      <th>1</th>\n",
              "      <td>105643806.jpg</td>\n",
              "      <td>8</td>\n",
              "    </tr>\n",
              "    <tr>\n",
              "      <th>2</th>\n",
              "      <td>117230323.jpg</td>\n",
              "      <td>9</td>\n",
              "    </tr>\n",
              "    <tr>\n",
              "      <th>3</th>\n",
              "      <td>117227001.jpg</td>\n",
              "      <td>11</td>\n",
              "    </tr>\n",
              "    <tr>\n",
              "      <th>4</th>\n",
              "      <td>117017561.jpg</td>\n",
              "      <td>5</td>\n",
              "    </tr>\n",
              "  </tbody>\n",
              "</table>\n",
              "</div>"
            ],
            "text/plain": [
              "               0   1\n",
              "0  117054004.jpg   6\n",
              "1  105643806.jpg   8\n",
              "2  117230323.jpg   9\n",
              "3  117227001.jpg  11\n",
              "4  117017561.jpg   5"
            ]
          },
          "metadata": {
            "tags": []
          },
          "execution_count": 97
        }
      ]
    },
    {
      "cell_type": "code",
      "metadata": {
        "id": "3t_4EzmI7F6j",
        "colab_type": "code",
        "colab": {}
      },
      "source": [
        "df_final.to_csv('color_cnn.csv', index = False, header=['file_name', 'color_id'])"
      ],
      "execution_count": 98,
      "outputs": []
    }
  ]
}