{
  "nbformat": 4,
  "nbformat_minor": 0,
  "metadata": {
    "colab": {
      "name": "digikala-03.ipynb",
      "provenance": [],
      "collapsed_sections": []
    },
    "kernelspec": {
      "name": "python3",
      "display_name": "Python 3"
    },
    "accelerator": "GPU"
  },
  "cells": [
    {
      "cell_type": "code",
      "metadata": {
        "id": "SOwkqAwy_MFY",
        "colab_type": "code",
        "colab": {
          "base_uri": "https://localhost:8080/",
          "height": 55
        },
        "outputId": "bc1558c7-29d7-4494-b46f-2bf378b72124"
      },
      "source": [
        "from google.colab import drive\n",
        "drive.mount('/content/drive')"
      ],
      "execution_count": 22,
      "outputs": [
        {
          "output_type": "stream",
          "text": [
            "Drive already mounted at /content/drive; to attempt to forcibly remount, call drive.mount(\"/content/drive\", force_remount=True).\n"
          ],
          "name": "stdout"
        }
      ]
    },
    {
      "cell_type": "code",
      "metadata": {
        "id": "OT_dK7Eb_Ora",
        "colab_type": "code",
        "colab": {
          "base_uri": "https://localhost:8080/",
          "height": 35
        },
        "outputId": "5b628b73-8ba5-4aaf-fbe2-9cb03750c82c"
      },
      "source": [
        "%cd '/content/drive/My Drive/DigiKala'"
      ],
      "execution_count": 23,
      "outputs": [
        {
          "output_type": "stream",
          "text": [
            "/content/drive/My Drive/DigiKala\n"
          ],
          "name": "stdout"
        }
      ]
    },
    {
      "cell_type": "code",
      "metadata": {
        "id": "5kOA9LOg_Qf6",
        "colab_type": "code",
        "colab": {}
      },
      "source": [
        "import pandas as pd\n",
        "import numpy as np\n",
        "import matplotlib.pyplot as plt\n",
        "import seaborn as sns\n",
        "from sklearn.model_selection import train_test_split\n",
        "from sklearn.preprocessing import LabelEncoder\n",
        "from keras.models import Model\n",
        "from keras.layers import LSTM, Activation, Dense, Dropout, Input, Embedding, Bidirectional\n",
        "from keras.optimizers import RMSprop, Adam\n",
        "from keras.preprocessing.text import Tokenizer\n",
        "from keras.preprocessing import sequence\n",
        "from keras.utils import to_categorical\n",
        "from keras.callbacks import EarlyStopping"
      ],
      "execution_count": 24,
      "outputs": []
    },
    {
      "cell_type": "code",
      "metadata": {
        "id": "BkGK23Q2-Ie0",
        "colab_type": "code",
        "colab": {}
      },
      "source": [
        "df_train = pd.read_csv('train_users.csv')\n",
        "df_test = pd.read_csv('test_users.csv')"
      ],
      "execution_count": 25,
      "outputs": []
    },
    {
      "cell_type": "code",
      "metadata": {
        "id": "C_QwKqsP_O7Z",
        "colab_type": "code",
        "colab": {
          "base_uri": "https://localhost:8080/",
          "height": 206
        },
        "outputId": "28aa3008-fe07-4354-b355-3ad5c6cf9c12"
      },
      "source": [
        "train = df_train\n",
        "train.fillna(' ', inplace=True)\n",
        "\n",
        "train['content'] = train['title'] + \\\n",
        "                   train['comment'] + \\\n",
        "                   train['advantages'] + \\\n",
        "                   train['disadvantages'] + \\\n",
        "                   train['title_fa_product'] + \\\n",
        "                   train['title_fa_category']\n",
        "\n",
        "train = train[['content', 'rate']]\n",
        "train.head()"
      ],
      "execution_count": 26,
      "outputs": [
        {
          "output_type": "execute_result",
          "data": {
            "text/html": [
              "<div>\n",
              "<style scoped>\n",
              "    .dataframe tbody tr th:only-of-type {\n",
              "        vertical-align: middle;\n",
              "    }\n",
              "\n",
              "    .dataframe tbody tr th {\n",
              "        vertical-align: top;\n",
              "    }\n",
              "\n",
              "    .dataframe thead th {\n",
              "        text-align: right;\n",
              "    }\n",
              "</style>\n",
              "<table border=\"1\" class=\"dataframe\">\n",
              "  <thead>\n",
              "    <tr style=\"text-align: right;\">\n",
              "      <th></th>\n",
              "      <th>content</th>\n",
              "      <th>rate</th>\n",
              "    </tr>\n",
              "  </thead>\n",
              "  <tbody>\n",
              "    <tr>\n",
              "      <th>0</th>\n",
              "      <td>مثل بقیه محصولات الکل دار پوست رو خشک نمیکنه ...</td>\n",
              "      <td>100.0</td>\n",
              "    </tr>\n",
              "    <tr>\n",
              "      <th>1</th>\n",
              "      <td>Redmi 8با این مبلغ اگه امکانات و ارزش خرید واس...</td>\n",
              "      <td>80.0</td>\n",
              "    </tr>\n",
              "    <tr>\n",
              "      <th>2</th>\n",
              "      <td>عالیخوبه فقط کج و کوله بدستم رسید ولی پسرم خیل...</td>\n",
              "      <td>100.0</td>\n",
              "    </tr>\n",
              "    <tr>\n",
              "      <th>3</th>\n",
              "      <td>در کل خوب بود ولی متاسفانه درب محصول شکسته بو...</td>\n",
              "      <td>70.0</td>\n",
              "    </tr>\n",
              "    <tr>\n",
              "      <th>4</th>\n",
              "      <td>من که خیلی باهاش حال کردم فقط من که همیشه L م...</td>\n",
              "      <td>72.0</td>\n",
              "    </tr>\n",
              "  </tbody>\n",
              "</table>\n",
              "</div>"
            ],
            "text/plain": [
              "                                             content   rate\n",
              "0   مثل بقیه محصولات الکل دار پوست رو خشک نمیکنه ...  100.0\n",
              "1  Redmi 8با این مبلغ اگه امکانات و ارزش خرید واس...   80.0\n",
              "2  عالیخوبه فقط کج و کوله بدستم رسید ولی پسرم خیل...  100.0\n",
              "3   در کل خوب بود ولی متاسفانه درب محصول شکسته بو...   70.0\n",
              "4   من که خیلی باهاش حال کردم فقط من که همیشه L م...   72.0"
            ]
          },
          "metadata": {
            "tags": []
          },
          "execution_count": 26
        }
      ]
    },
    {
      "cell_type": "code",
      "metadata": {
        "id": "eyLATaTy_JSx",
        "colab_type": "code",
        "colab": {
          "base_uri": "https://localhost:8080/",
          "height": 206
        },
        "outputId": "4390a6fe-f33b-4241-de6c-bbf7048451ab"
      },
      "source": [
        "test = df_test\n",
        "test.fillna(' ', inplace=True)\n",
        "\n",
        "test['content'] = test['title'] + \\\n",
        "                  test['comment'] + \\\n",
        "                  test['advantages'] + \\\n",
        "                  test['disadvantages'] + \\\n",
        "                  test['title_fa_product'] + \\\n",
        "                  test['title_fa_category']\n",
        "\n",
        "test = test[['content']]\n",
        "test.head()"
      ],
      "execution_count": 27,
      "outputs": [
        {
          "output_type": "execute_result",
          "data": {
            "text/html": [
              "<div>\n",
              "<style scoped>\n",
              "    .dataframe tbody tr th:only-of-type {\n",
              "        vertical-align: middle;\n",
              "    }\n",
              "\n",
              "    .dataframe tbody tr th {\n",
              "        vertical-align: top;\n",
              "    }\n",
              "\n",
              "    .dataframe thead th {\n",
              "        text-align: right;\n",
              "    }\n",
              "</style>\n",
              "<table border=\"1\" class=\"dataframe\">\n",
              "  <thead>\n",
              "    <tr style=\"text-align: right;\">\n",
              "      <th></th>\n",
              "      <th>content</th>\n",
              "    </tr>\n",
              "  </thead>\n",
              "  <tbody>\n",
              "    <tr>\n",
              "      <th>0</th>\n",
              "      <td>با کیفیتبسته بندی بهداشتی و کیفیت عالی  گوش پا...</td>\n",
              "    </tr>\n",
              "    <tr>\n",
              "      <th>1</th>\n",
              "      <td>گوشی موبایل شیائومیاین گوشی فوق‌العاده است[\"ای...</td>\n",
              "    </tr>\n",
              "    <tr>\n",
              "      <th>2</th>\n",
              "      <td>صداش قطع میشه باتریشم خیییلی ضعیفه  هدفون بی ...</td>\n",
              "    </tr>\n",
              "    <tr>\n",
              "      <th>3</th>\n",
              "      <td>بنظرم‌ خوبه  خمیر دندان نسیم مدل Feluoride Pr...</td>\n",
              "    </tr>\n",
              "    <tr>\n",
              "      <th>4</th>\n",
              "      <td>عااالیهعااالیه[\"عاااالیه\"] کرم موبر صورت و بدن...</td>\n",
              "    </tr>\n",
              "  </tbody>\n",
              "</table>\n",
              "</div>"
            ],
            "text/plain": [
              "                                             content\n",
              "0  با کیفیتبسته بندی بهداشتی و کیفیت عالی  گوش پا...\n",
              "1  گوشی موبایل شیائومیاین گوشی فوق‌العاده است[\"ای...\n",
              "2   صداش قطع میشه باتریشم خیییلی ضعیفه  هدفون بی ...\n",
              "3   بنظرم‌ خوبه  خمیر دندان نسیم مدل Feluoride Pr...\n",
              "4  عااالیهعااالیه[\"عاااالیه\"] کرم موبر صورت و بدن..."
            ]
          },
          "metadata": {
            "tags": []
          },
          "execution_count": 27
        }
      ]
    },
    {
      "cell_type": "code",
      "metadata": {
        "id": "ylXortac_U1O",
        "colab_type": "code",
        "colab": {}
      },
      "source": [
        "X_train = train['content']\n",
        "y_train = train['rate']\n",
        "X_test = test['content']"
      ],
      "execution_count": 28,
      "outputs": []
    },
    {
      "cell_type": "code",
      "metadata": {
        "id": "axFUurBa_kZA",
        "colab_type": "code",
        "colab": {}
      },
      "source": [
        "max_words = 1000\n",
        "max_len = 150\n",
        "tok = Tokenizer(num_words=max_words)\n",
        "tok.fit_on_texts(X_train)\n",
        "sequences = tok.texts_to_sequences(X_train)\n",
        "sequences_matrix = sequence.pad_sequences(sequences,maxlen=max_len)"
      ],
      "execution_count": 29,
      "outputs": []
    },
    {
      "cell_type": "code",
      "metadata": {
        "id": "GK1DRmiB_l63",
        "colab_type": "code",
        "colab": {}
      },
      "source": [
        "def RNN():\n",
        "  inputs = Input(name='inputs',shape=[max_len])\n",
        "  layer = Embedding(max_words,128,input_length=max_len)(inputs)\n",
        "  layer = Bidirectional(LSTM(64, return_sequences=True))(layer)\n",
        "  layer = Bidirectional(LSTM(64))(layer)\n",
        "  layer = Dense(128,name='FC1')(layer)\n",
        "  layer = Activation('relu')(layer)\n",
        "  layer = Dropout(0.5)(layer)\n",
        "  layer = Dense(1,name='out_layer')(layer)\n",
        "  model = Model(inputs=inputs,outputs=layer)\n",
        "  return model"
      ],
      "execution_count": 30,
      "outputs": []
    },
    {
      "cell_type": "code",
      "metadata": {
        "id": "cPBZovtD_ofm",
        "colab_type": "code",
        "colab": {
          "base_uri": "https://localhost:8080/",
          "height": 454
        },
        "outputId": "6f1157a0-0477-4ce8-c2b7-9812fe74f9c9"
      },
      "source": [
        "model = RNN()\n",
        "model.summary()\n",
        "model.compile(loss = 'mean_squared_error',\n",
        "              optimizer = RMSprop(),\n",
        "              metrics = ['mean_squared_error'])"
      ],
      "execution_count": 31,
      "outputs": [
        {
          "output_type": "stream",
          "text": [
            "Model: \"functional_5\"\n",
            "_________________________________________________________________\n",
            "Layer (type)                 Output Shape              Param #   \n",
            "=================================================================\n",
            "inputs (InputLayer)          [(None, 150)]             0         \n",
            "_________________________________________________________________\n",
            "embedding_2 (Embedding)      (None, 150, 128)          128000    \n",
            "_________________________________________________________________\n",
            "bidirectional_4 (Bidirection (None, 150, 128)          98816     \n",
            "_________________________________________________________________\n",
            "bidirectional_5 (Bidirection (None, 128)               98816     \n",
            "_________________________________________________________________\n",
            "FC1 (Dense)                  (None, 128)               16512     \n",
            "_________________________________________________________________\n",
            "activation_2 (Activation)    (None, 128)               0         \n",
            "_________________________________________________________________\n",
            "dropout_2 (Dropout)          (None, 128)               0         \n",
            "_________________________________________________________________\n",
            "out_layer (Dense)            (None, 1)                 129       \n",
            "=================================================================\n",
            "Total params: 342,273\n",
            "Trainable params: 342,273\n",
            "Non-trainable params: 0\n",
            "_________________________________________________________________\n"
          ],
          "name": "stdout"
        }
      ]
    },
    {
      "cell_type": "code",
      "metadata": {
        "id": "dcgcFdCJ_sJp",
        "colab_type": "code",
        "colab": {
          "base_uri": "https://localhost:8080/",
          "height": 310
        },
        "outputId": "c9cf2f65-f075-40e6-bb57-a16eac571bdc"
      },
      "source": [
        "model.fit(sequences_matrix,\n",
        "          y_train,\n",
        "          batch_size=128,\n",
        "          epochs=10,\n",
        "          validation_split=0.2,\n",
        "          callbacks=[EarlyStopping(monitor='val_loss',min_delta=0.001)])"
      ],
      "execution_count": 32,
      "outputs": [
        {
          "output_type": "stream",
          "text": [
            "Epoch 1/10\n",
            "1653/1653 [==============================] - 64s 39ms/step - loss: 1371.7225 - mean_squared_error: 1371.7225 - val_loss: 1236.4459 - val_mean_squared_error: 1236.4459\n",
            "Epoch 2/10\n",
            "1653/1653 [==============================] - 63s 38ms/step - loss: 1253.5713 - mean_squared_error: 1253.5713 - val_loss: 1189.7433 - val_mean_squared_error: 1189.7433\n",
            "Epoch 3/10\n",
            "1653/1653 [==============================] - 62s 38ms/step - loss: 1220.0085 - mean_squared_error: 1220.0085 - val_loss: 1166.5967 - val_mean_squared_error: 1166.5967\n",
            "Epoch 4/10\n",
            "1653/1653 [==============================] - 63s 38ms/step - loss: 1194.6061 - mean_squared_error: 1194.6061 - val_loss: 1161.3578 - val_mean_squared_error: 1161.3578\n",
            "Epoch 5/10\n",
            "1653/1653 [==============================] - 62s 38ms/step - loss: 1175.4602 - mean_squared_error: 1175.4602 - val_loss: 1141.8586 - val_mean_squared_error: 1141.8586\n",
            "Epoch 6/10\n",
            "1653/1653 [==============================] - 62s 38ms/step - loss: 1158.8724 - mean_squared_error: 1158.8724 - val_loss: 1131.9370 - val_mean_squared_error: 1131.9370\n",
            "Epoch 7/10\n",
            "1653/1653 [==============================] - 62s 38ms/step - loss: 1147.0763 - mean_squared_error: 1147.0763 - val_loss: 1136.3124 - val_mean_squared_error: 1136.3124\n"
          ],
          "name": "stdout"
        },
        {
          "output_type": "execute_result",
          "data": {
            "text/plain": [
              "<tensorflow.python.keras.callbacks.History at 0x7fec9010ad68>"
            ]
          },
          "metadata": {
            "tags": []
          },
          "execution_count": 32
        }
      ]
    },
    {
      "cell_type": "code",
      "metadata": {
        "id": "L3hor2dQ_wW-",
        "colab_type": "code",
        "colab": {}
      },
      "source": [
        "txts = tok.texts_to_sequences(X_test)\n",
        "txts = sequence.pad_sequences(txts, maxlen=max_len)\n",
        "preds = model.predict(txts)"
      ],
      "execution_count": 33,
      "outputs": []
    },
    {
      "cell_type": "code",
      "metadata": {
        "id": "2VyONgy9_6N7",
        "colab_type": "code",
        "colab": {
          "base_uri": "https://localhost:8080/",
          "height": 206
        },
        "outputId": "f65968bb-3e9e-4152-cdad-9a5a1b072b91"
      },
      "source": [
        "y_test = preds.tolist()\n",
        "\n",
        "df_final = pd.DataFrame(y_test)\n",
        "df_final.head()"
      ],
      "execution_count": 34,
      "outputs": [
        {
          "output_type": "execute_result",
          "data": {
            "text/html": [
              "<div>\n",
              "<style scoped>\n",
              "    .dataframe tbody tr th:only-of-type {\n",
              "        vertical-align: middle;\n",
              "    }\n",
              "\n",
              "    .dataframe tbody tr th {\n",
              "        vertical-align: top;\n",
              "    }\n",
              "\n",
              "    .dataframe thead th {\n",
              "        text-align: right;\n",
              "    }\n",
              "</style>\n",
              "<table border=\"1\" class=\"dataframe\">\n",
              "  <thead>\n",
              "    <tr style=\"text-align: right;\">\n",
              "      <th></th>\n",
              "      <th>0</th>\n",
              "    </tr>\n",
              "  </thead>\n",
              "  <tbody>\n",
              "    <tr>\n",
              "      <th>0</th>\n",
              "      <td>66.310501</td>\n",
              "    </tr>\n",
              "    <tr>\n",
              "      <th>1</th>\n",
              "      <td>57.560089</td>\n",
              "    </tr>\n",
              "    <tr>\n",
              "      <th>2</th>\n",
              "      <td>48.127178</td>\n",
              "    </tr>\n",
              "    <tr>\n",
              "      <th>3</th>\n",
              "      <td>64.667015</td>\n",
              "    </tr>\n",
              "    <tr>\n",
              "      <th>4</th>\n",
              "      <td>54.180367</td>\n",
              "    </tr>\n",
              "  </tbody>\n",
              "</table>\n",
              "</div>"
            ],
            "text/plain": [
              "           0\n",
              "0  66.310501\n",
              "1  57.560089\n",
              "2  48.127178\n",
              "3  64.667015\n",
              "4  54.180367"
            ]
          },
          "metadata": {
            "tags": []
          },
          "execution_count": 34
        }
      ]
    },
    {
      "cell_type": "code",
      "metadata": {
        "id": "YcLAGAMb_7jq",
        "colab_type": "code",
        "colab": {}
      },
      "source": [
        "df_final.to_csv('rate_status.csv', index = True, index_label=['id'], header=['rate'])"
      ],
      "execution_count": 36,
      "outputs": []
    }
  ]
}