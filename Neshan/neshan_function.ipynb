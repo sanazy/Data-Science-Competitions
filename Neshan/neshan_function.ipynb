{
  "nbformat": 4,
  "nbformat_minor": 0,
  "metadata": {
    "colab": {
      "name": "neshan_function.ipynb",
      "provenance": [],
      "collapsed_sections": []
    },
    "kernelspec": {
      "name": "python3",
      "display_name": "Python 3"
    }
  },
  "cells": [
    {
      "cell_type": "code",
      "metadata": {
        "id": "Q9t0fzE_96Ck"
      },
      "source": [
        "from fbprophet import Prophet\n",
        "from datetime import datetime\n",
        "import numpy as np\n",
        "import pandas as pd\n",
        "\n",
        "def competition():\n",
        "  # read csv\n",
        "  filename = 'soal.csv'\n",
        "  df = pd.read_csv(filename)\n",
        "\n",
        "  # convert date_time column into datetime format\n",
        "  df['date_time'] = pd.to_datetime(df['date_time'])\n",
        "\n",
        "  # seperate train and test dataframes\n",
        "  test_first_row = (df['speed2'] == -1).argmax()\n",
        "  df_train = df[0:test_first_row]\n",
        "  df_test = df[test_first_row:]\n",
        "\n",
        "  # create dataframe for modeling\n",
        "  data = pd.DataFrame()\n",
        "  data['ds'] = df_train['date_time']\n",
        "  data['y'] = df_train['speed2']\n",
        "\n",
        "  # create time-series model\n",
        "  model = Prophet(yearly_seasonality=True)\n",
        "  model.fit(data)\n",
        "  test_fcst = model.predict(df=df_test.reset_index().rename(columns={'date_time':'ds'}))\n",
        "\n",
        "  # save prediction into csv \n",
        "  test_fcst['yhat'].to_csv('submit.csv', header=False, index=False)\n",
        "\n",
        "\n",
        "if __name__ == '__main__':\n",
        "  competition()"
      ],
      "execution_count": null,
      "outputs": []
    }
  ]
}