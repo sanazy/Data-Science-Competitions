{
  "nbformat": 4,
  "nbformat_minor": 0,
  "metadata": {
    "colab": {
      "name": "neshan_lstm.ipynb",
      "provenance": [],
      "collapsed_sections": []
    },
    "kernelspec": {
      "name": "python3",
      "display_name": "Python 3"
    },
    "accelerator": "GPU"
  },
  "cells": [
    {
      "cell_type": "code",
      "metadata": {
        "id": "y9wSmfy32Az2"
      },
      "source": [
        "import math\n",
        "import numpy as np\n",
        "import pandas as pd\n",
        "import matplotlib.pyplot as plt\n",
        "from datetime import datetime\n",
        "import os \n",
        "import tensorflow as tf\n",
        "from sklearn.metrics import mean_squared_error, mean_absolute_error\n",
        "from sklearn.preprocessing import MinMaxScaler\n",
        "from keras.models import Sequential\n",
        "from keras.layers import Dense, LSTM, Dropout, GRU, Bidirectional\n",
        "from keras.optimizers import SGD\n",
        "from sklearn.metrics import mean_squared_error"
      ],
      "execution_count": null,
      "outputs": []
    },
    {
      "cell_type": "markdown",
      "metadata": {
        "id": "BFLzU-17biVv"
      },
      "source": [
        "***\n",
        "## Data cleaning"
      ]
    },
    {
      "cell_type": "code",
      "metadata": {
        "id": "aFwG50Xg2DWU"
      },
      "source": [
        "df = pd.read_csv('soal.csv')"
      ],
      "execution_count": null,
      "outputs": []
    },
    {
      "cell_type": "code",
      "metadata": {
        "id": "g5M52i4w28Dl"
      },
      "source": [
        "df['date_time'] = pd.to_datetime(df['date_time'])"
      ],
      "execution_count": null,
      "outputs": []
    },
    {
      "cell_type": "code",
      "metadata": {
        "id": "GXVwtKfn2jGi"
      },
      "source": [
        "holidays = pd.to_datetime(['2020-06-03', '2020-06-04', '2020-06-05', '2020-06-12',\n",
        "                           '2020-06-17', '2020-06-19', '2020-06-26', '2020-07-03',\n",
        "                           '2020-07-10', '2020-07-17', '2020-07-24', '2020-07-31'])"
      ],
      "execution_count": null,
      "outputs": []
    },
    {
      "cell_type": "code",
      "metadata": {
        "id": "SvyAtqcN2G_V"
      },
      "source": [
        "df_date = df['date_time'].dt.date\n",
        "df['minute'] = df['date_time'].dt.minute \n",
        "df['hour'] = df['date_time'].dt.hour\n",
        "df['dayofmonth'] = df['date_time'].dt.day\n",
        "df['dayofyear'] = df['date_time'].dt.dayofyear\n",
        "df['dayofweek'] = df['date_time'].dt.dayofweek \n",
        "df['weekofyear'] = df['date_time'].dt.weekofyear\n",
        "df['month'] = df['date_time'].dt.month\n",
        "df['quarter'] = df['date_time'].dt.quarter\n",
        "df['year'] = df['date_time'].dt.year\n",
        "df['isholiday'] = [1 if date in holidays else 0 for date in df_date ]"
      ],
      "execution_count": null,
      "outputs": []
    },
    {
      "cell_type": "code",
      "metadata": {
        "id": "iCyAcFHk6FE0",
        "colab": {
          "base_uri": "https://localhost:8080/",
          "height": 106
        },
        "outputId": "7e28b687-a273-4194-8b26-064af0bca73d"
      },
      "source": [
        "df.drop(columns={'date_time'}, inplace=True)\n",
        "cols = [col for col in df if col != 'speed2'] \n",
        "df = df[cols + ['speed2']]\n",
        "df.head(2)"
      ],
      "execution_count": null,
      "outputs": [
        {
          "output_type": "execute_result",
          "data": {
            "text/html": [
              "<div>\n",
              "<style scoped>\n",
              "    .dataframe tbody tr th:only-of-type {\n",
              "        vertical-align: middle;\n",
              "    }\n",
              "\n",
              "    .dataframe tbody tr th {\n",
              "        vertical-align: top;\n",
              "    }\n",
              "\n",
              "    .dataframe thead th {\n",
              "        text-align: right;\n",
              "    }\n",
              "</style>\n",
              "<table border=\"1\" class=\"dataframe\">\n",
              "  <thead>\n",
              "    <tr style=\"text-align: right;\">\n",
              "      <th></th>\n",
              "      <th>count</th>\n",
              "      <th>speed1</th>\n",
              "      <th>minute</th>\n",
              "      <th>hour</th>\n",
              "      <th>dayofmonth</th>\n",
              "      <th>dayofyear</th>\n",
              "      <th>dayofweek</th>\n",
              "      <th>weekofyear</th>\n",
              "      <th>month</th>\n",
              "      <th>quarter</th>\n",
              "      <th>year</th>\n",
              "      <th>isholiday</th>\n",
              "      <th>speed2</th>\n",
              "    </tr>\n",
              "  </thead>\n",
              "  <tbody>\n",
              "    <tr>\n",
              "      <th>0</th>\n",
              "      <td>42</td>\n",
              "      <td>74.5</td>\n",
              "      <td>0</td>\n",
              "      <td>0</td>\n",
              "      <td>1</td>\n",
              "      <td>153</td>\n",
              "      <td>0</td>\n",
              "      <td>23</td>\n",
              "      <td>6</td>\n",
              "      <td>2</td>\n",
              "      <td>2020</td>\n",
              "      <td>0</td>\n",
              "      <td>73.0</td>\n",
              "    </tr>\n",
              "    <tr>\n",
              "      <th>1</th>\n",
              "      <td>46</td>\n",
              "      <td>73.0</td>\n",
              "      <td>15</td>\n",
              "      <td>0</td>\n",
              "      <td>1</td>\n",
              "      <td>153</td>\n",
              "      <td>0</td>\n",
              "      <td>23</td>\n",
              "      <td>6</td>\n",
              "      <td>2</td>\n",
              "      <td>2020</td>\n",
              "      <td>0</td>\n",
              "      <td>74.0</td>\n",
              "    </tr>\n",
              "  </tbody>\n",
              "</table>\n",
              "</div>"
            ],
            "text/plain": [
              "   count  speed1  minute  hour  ...  quarter  year  isholiday  speed2\n",
              "0     42    74.5       0     0  ...        2  2020          0    73.0\n",
              "1     46    73.0      15     0  ...        2  2020          0    74.0\n",
              "\n",
              "[2 rows x 13 columns]"
            ]
          },
          "metadata": {
            "tags": []
          },
          "execution_count": 6
        }
      ]
    },
    {
      "cell_type": "markdown",
      "metadata": {
        "id": "7NBE1u9Hbd_X"
      },
      "source": [
        "***\n",
        "## Training"
      ]
    },
    {
      "cell_type": "code",
      "metadata": {
        "id": "ZSbNCLKJ2NTs"
      },
      "source": [
        "first_row = (df['speed2'] == -1).argmax()\n",
        "train_set = df[0:first_row]"
      ],
      "execution_count": null,
      "outputs": []
    },
    {
      "cell_type": "code",
      "metadata": {
        "id": "2x4wDGuk5jkr",
        "colab": {
          "base_uri": "https://localhost:8080/",
          "height": 106
        },
        "outputId": "f91ff26b-a987-43d3-98c2-aff97c0abead"
      },
      "source": [
        "# Scaling the training set\n",
        "scaler = MinMaxScaler(feature_range=(0,1))\n",
        "train_set_scaled = pd.DataFrame(scaler.fit_transform(train_set), columns=cols + ['speed2'])\n",
        "train_set_scaled.head(2)"
      ],
      "execution_count": null,
      "outputs": [
        {
          "output_type": "execute_result",
          "data": {
            "text/html": [
              "<div>\n",
              "<style scoped>\n",
              "    .dataframe tbody tr th:only-of-type {\n",
              "        vertical-align: middle;\n",
              "    }\n",
              "\n",
              "    .dataframe tbody tr th {\n",
              "        vertical-align: top;\n",
              "    }\n",
              "\n",
              "    .dataframe thead th {\n",
              "        text-align: right;\n",
              "    }\n",
              "</style>\n",
              "<table border=\"1\" class=\"dataframe\">\n",
              "  <thead>\n",
              "    <tr style=\"text-align: right;\">\n",
              "      <th></th>\n",
              "      <th>count</th>\n",
              "      <th>speed1</th>\n",
              "      <th>minute</th>\n",
              "      <th>hour</th>\n",
              "      <th>dayofmonth</th>\n",
              "      <th>dayofyear</th>\n",
              "      <th>dayofweek</th>\n",
              "      <th>weekofyear</th>\n",
              "      <th>month</th>\n",
              "      <th>quarter</th>\n",
              "      <th>year</th>\n",
              "      <th>isholiday</th>\n",
              "      <th>speed2</th>\n",
              "    </tr>\n",
              "  </thead>\n",
              "  <tbody>\n",
              "    <tr>\n",
              "      <th>0</th>\n",
              "      <td>0.161943</td>\n",
              "      <td>0.718085</td>\n",
              "      <td>0.000000</td>\n",
              "      <td>0.0</td>\n",
              "      <td>0.0</td>\n",
              "      <td>0.0</td>\n",
              "      <td>0.0</td>\n",
              "      <td>0.0</td>\n",
              "      <td>0.0</td>\n",
              "      <td>0.0</td>\n",
              "      <td>0.0</td>\n",
              "      <td>0.0</td>\n",
              "      <td>0.812903</td>\n",
              "    </tr>\n",
              "    <tr>\n",
              "      <th>1</th>\n",
              "      <td>0.178138</td>\n",
              "      <td>0.702128</td>\n",
              "      <td>0.333333</td>\n",
              "      <td>0.0</td>\n",
              "      <td>0.0</td>\n",
              "      <td>0.0</td>\n",
              "      <td>0.0</td>\n",
              "      <td>0.0</td>\n",
              "      <td>0.0</td>\n",
              "      <td>0.0</td>\n",
              "      <td>0.0</td>\n",
              "      <td>0.0</td>\n",
              "      <td>0.825806</td>\n",
              "    </tr>\n",
              "  </tbody>\n",
              "</table>\n",
              "</div>"
            ],
            "text/plain": [
              "      count    speed1    minute  hour  ...  quarter  year  isholiday    speed2\n",
              "0  0.161943  0.718085  0.000000   0.0  ...      0.0   0.0        0.0  0.812903\n",
              "1  0.178138  0.702128  0.333333   0.0  ...      0.0   0.0        0.0  0.825806\n",
              "\n",
              "[2 rows x 13 columns]"
            ]
          },
          "metadata": {
            "tags": []
          },
          "execution_count": 9
        }
      ]
    },
    {
      "cell_type": "code",
      "metadata": {
        "id": "zca9yv-89bSm",
        "colab": {
          "base_uri": "https://localhost:8080/",
          "height": 34
        },
        "outputId": "2e4c9f6e-72cb-4695-ce51-336e77a2ba80"
      },
      "source": [
        "train_set_scaled.shape"
      ],
      "execution_count": null,
      "outputs": [
        {
          "output_type": "execute_result",
          "data": {
            "text/plain": [
              "(5407, 13)"
            ]
          },
          "metadata": {
            "tags": []
          },
          "execution_count": 10
        }
      ]
    },
    {
      "cell_type": "code",
      "metadata": {
        "id": "mdZo2Yo67iuH"
      },
      "source": [
        "# Since LSTMs store long term memory state, we create a data structure with 60 timesteps and 1 output\n",
        "# So for each element of training set, we have 60 previous training set elements \n",
        "\n",
        "ts = 10\n",
        "len = train_set.shape[0]\n",
        "X_train = []\n",
        "y_train = []\n",
        "\n",
        "for i in range(ts, len):\n",
        "  X_train.append(train_set_scaled.loc[i-ts:i, cols].to_numpy())\n",
        "  y_train.append(train_set_scaled.loc[i, 'speed2'])\n",
        "\n",
        "X_train, y_train = np.array(X_train), np.array(y_train)"
      ],
      "execution_count": null,
      "outputs": []
    },
    {
      "cell_type": "code",
      "metadata": {
        "id": "xOy548XGKIDk",
        "colab": {
          "base_uri": "https://localhost:8080/",
          "height": 34
        },
        "outputId": "df2d3867-04f5-4e32-c968-569716324332"
      },
      "source": [
        "X_train.shape"
      ],
      "execution_count": null,
      "outputs": [
        {
          "output_type": "execute_result",
          "data": {
            "text/plain": [
              "(5397, 11, 12)"
            ]
          },
          "metadata": {
            "tags": []
          },
          "execution_count": 12
        }
      ]
    },
    {
      "cell_type": "code",
      "metadata": {
        "id": "f_Do4qcx8YXN",
        "colab": {
          "base_uri": "https://localhost:8080/",
          "height": 454
        },
        "outputId": "cb4088ad-6cdb-49bd-9771-bdcdbf743f98"
      },
      "source": [
        "# The LSTM architecture\n",
        "regressor = Sequential()\n",
        "\n",
        "# First LSTM layer with Dropout regularisation\n",
        "regressor.add(LSTM(units=50, return_sequences=True,\n",
        "                   input_shape=(X_train.shape[1], X_train.shape[2])))\n",
        "regressor.add(Dropout(0.2))\n",
        "\n",
        "# Second LSTM layer\n",
        "regressor.add(LSTM(units=50, return_sequences=True))\n",
        "regressor.add(Dropout(0.2))\n",
        "\n",
        "# Third LSTM layer\n",
        "regressor.add(LSTM(units=50, return_sequences=True))\n",
        "regressor.add(Dropout(0.2))\n",
        "\n",
        "# Fourth LSTM layer\n",
        "regressor.add(LSTM(units=50))\n",
        "regressor.add(Dropout(0.2))\n",
        "\n",
        "# The output layer\n",
        "regressor.add(Dense(units=1))\n",
        "\n",
        "regressor.summary()"
      ],
      "execution_count": null,
      "outputs": [
        {
          "output_type": "stream",
          "text": [
            "Model: \"sequential\"\n",
            "_________________________________________________________________\n",
            "Layer (type)                 Output Shape              Param #   \n",
            "=================================================================\n",
            "lstm (LSTM)                  (None, 11, 50)            12600     \n",
            "_________________________________________________________________\n",
            "dropout (Dropout)            (None, 11, 50)            0         \n",
            "_________________________________________________________________\n",
            "lstm_1 (LSTM)                (None, 11, 50)            20200     \n",
            "_________________________________________________________________\n",
            "dropout_1 (Dropout)          (None, 11, 50)            0         \n",
            "_________________________________________________________________\n",
            "lstm_2 (LSTM)                (None, 11, 50)            20200     \n",
            "_________________________________________________________________\n",
            "dropout_2 (Dropout)          (None, 11, 50)            0         \n",
            "_________________________________________________________________\n",
            "lstm_3 (LSTM)                (None, 50)                20200     \n",
            "_________________________________________________________________\n",
            "dropout_3 (Dropout)          (None, 50)                0         \n",
            "_________________________________________________________________\n",
            "dense (Dense)                (None, 1)                 51        \n",
            "=================================================================\n",
            "Total params: 73,251\n",
            "Trainable params: 73,251\n",
            "Non-trainable params: 0\n",
            "_________________________________________________________________\n"
          ],
          "name": "stdout"
        }
      ]
    },
    {
      "cell_type": "code",
      "metadata": {
        "id": "4sc9PUahSOwk"
      },
      "source": [
        "logdir = os.path.join(\"logs\", datetime.now().strftime(\"%Y%m%d-%H%M%S\"))\n",
        "tensorboard_callback = tf.keras.callbacks.TensorBoard(logdir, histogram_freq=1)"
      ],
      "execution_count": null,
      "outputs": []
    },
    {
      "cell_type": "code",
      "metadata": {
        "id": "R3areiNA8b8l",
        "colab": {
          "base_uri": "https://localhost:8080/",
          "height": 1000
        },
        "outputId": "40a9a80a-b4c0-4eda-d701-addf54d13f0d"
      },
      "source": [
        "# Compiling the RNN\n",
        "regressor.compile(optimizer='adam', loss='mean_squared_error')\n",
        "\n",
        "# Fitting to the training set\n",
        "history = regressor.fit(x = X_train, \n",
        "                        y = y_train, \n",
        "                        epochs = 100, \n",
        "                        batch_size = 32, \n",
        "                        callbacks = [tensorboard_callback])"
      ],
      "execution_count": null,
      "outputs": [
        {
          "output_type": "stream",
          "text": [
            "Epoch 1/100\n",
            "  1/169 [..............................] - ETA: 0s - loss: 0.7523WARNING:tensorflow:From /usr/local/lib/python3.6/dist-packages/tensorflow/python/ops/summary_ops_v2.py:1277: stop (from tensorflow.python.eager.profiler) is deprecated and will be removed after 2020-07-01.\n",
            "Instructions for updating:\n",
            "use `tf.profiler.experimental.stop` instead.\n",
            "  2/169 [..............................] - ETA: 7s - loss: 0.6975WARNING:tensorflow:Callbacks method `on_train_batch_end` is slow compared to the batch time (batch time: 0.0241s vs `on_train_batch_end` time: 0.0700s). Check your callbacks.\n",
            "169/169 [==============================] - 3s 19ms/step - loss: 0.0379\n",
            "Epoch 2/100\n",
            "169/169 [==============================] - 3s 19ms/step - loss: 0.0079\n",
            "Epoch 3/100\n",
            "169/169 [==============================] - 3s 19ms/step - loss: 0.0069\n",
            "Epoch 4/100\n",
            "169/169 [==============================] - 3s 19ms/step - loss: 0.0064\n",
            "Epoch 5/100\n",
            "169/169 [==============================] - 3s 19ms/step - loss: 0.0061\n",
            "Epoch 6/100\n",
            "169/169 [==============================] - 3s 19ms/step - loss: 0.0059\n",
            "Epoch 7/100\n",
            "169/169 [==============================] - 3s 19ms/step - loss: 0.0054\n",
            "Epoch 8/100\n",
            "169/169 [==============================] - 3s 19ms/step - loss: 0.0054\n",
            "Epoch 9/100\n",
            "169/169 [==============================] - 3s 19ms/step - loss: 0.0052\n",
            "Epoch 10/100\n",
            "169/169 [==============================] - 3s 19ms/step - loss: 0.0051\n",
            "Epoch 11/100\n",
            "169/169 [==============================] - 3s 19ms/step - loss: 0.0046\n",
            "Epoch 12/100\n",
            "169/169 [==============================] - 3s 19ms/step - loss: 0.0048\n",
            "Epoch 13/100\n",
            "169/169 [==============================] - 3s 19ms/step - loss: 0.0043\n",
            "Epoch 14/100\n",
            "169/169 [==============================] - 3s 19ms/step - loss: 0.0042\n",
            "Epoch 15/100\n",
            "169/169 [==============================] - 3s 19ms/step - loss: 0.0043\n",
            "Epoch 16/100\n",
            "169/169 [==============================] - 3s 19ms/step - loss: 0.0039\n",
            "Epoch 17/100\n",
            "169/169 [==============================] - 3s 19ms/step - loss: 0.0038\n",
            "Epoch 18/100\n",
            "169/169 [==============================] - 3s 19ms/step - loss: 0.0035\n",
            "Epoch 19/100\n",
            "169/169 [==============================] - 3s 19ms/step - loss: 0.0036\n",
            "Epoch 20/100\n",
            "169/169 [==============================] - 3s 19ms/step - loss: 0.0035\n",
            "Epoch 21/100\n",
            "169/169 [==============================] - 3s 19ms/step - loss: 0.0032\n",
            "Epoch 22/100\n",
            "169/169 [==============================] - 3s 19ms/step - loss: 0.0030\n",
            "Epoch 23/100\n",
            "169/169 [==============================] - 3s 19ms/step - loss: 0.0030\n",
            "Epoch 24/100\n",
            "169/169 [==============================] - 3s 19ms/step - loss: 0.0028\n",
            "Epoch 25/100\n",
            "169/169 [==============================] - 3s 19ms/step - loss: 0.0027\n",
            "Epoch 26/100\n",
            "169/169 [==============================] - 3s 19ms/step - loss: 0.0026\n",
            "Epoch 27/100\n",
            "169/169 [==============================] - 3s 19ms/step - loss: 0.0025\n",
            "Epoch 28/100\n",
            "169/169 [==============================] - 3s 19ms/step - loss: 0.0023\n",
            "Epoch 29/100\n",
            "169/169 [==============================] - 3s 19ms/step - loss: 0.0022\n",
            "Epoch 30/100\n",
            "169/169 [==============================] - 3s 19ms/step - loss: 0.0020\n",
            "Epoch 31/100\n",
            "169/169 [==============================] - 3s 19ms/step - loss: 0.0018\n",
            "Epoch 32/100\n",
            "169/169 [==============================] - 3s 19ms/step - loss: 0.0018\n",
            "Epoch 33/100\n",
            "169/169 [==============================] - 3s 19ms/step - loss: 0.0016\n",
            "Epoch 34/100\n",
            "169/169 [==============================] - 3s 19ms/step - loss: 0.0015\n",
            "Epoch 35/100\n",
            "169/169 [==============================] - 3s 19ms/step - loss: 0.0014\n",
            "Epoch 36/100\n",
            "169/169 [==============================] - 3s 19ms/step - loss: 0.0014\n",
            "Epoch 37/100\n",
            "169/169 [==============================] - 3s 19ms/step - loss: 0.0012\n",
            "Epoch 38/100\n",
            "169/169 [==============================] - 3s 18ms/step - loss: 0.0013\n",
            "Epoch 39/100\n",
            "169/169 [==============================] - 3s 19ms/step - loss: 0.0012\n",
            "Epoch 40/100\n",
            "169/169 [==============================] - 3s 19ms/step - loss: 9.9092e-04\n",
            "Epoch 41/100\n",
            "169/169 [==============================] - 3s 19ms/step - loss: 8.9349e-04\n",
            "Epoch 42/100\n",
            "169/169 [==============================] - 3s 19ms/step - loss: 8.9600e-04\n",
            "Epoch 43/100\n",
            "169/169 [==============================] - 3s 19ms/step - loss: 8.1747e-04\n",
            "Epoch 44/100\n",
            "169/169 [==============================] - 3s 18ms/step - loss: 8.7734e-04\n",
            "Epoch 45/100\n",
            "169/169 [==============================] - 3s 18ms/step - loss: 8.6108e-04\n",
            "Epoch 46/100\n",
            "169/169 [==============================] - 3s 19ms/step - loss: 8.6917e-04\n",
            "Epoch 47/100\n",
            "169/169 [==============================] - 3s 18ms/step - loss: 7.8281e-04\n",
            "Epoch 48/100\n",
            "169/169 [==============================] - 3s 19ms/step - loss: 7.1652e-04\n",
            "Epoch 49/100\n",
            "169/169 [==============================] - 3s 19ms/step - loss: 7.1287e-04\n",
            "Epoch 50/100\n",
            "169/169 [==============================] - 3s 19ms/step - loss: 6.7682e-04\n",
            "Epoch 51/100\n",
            "169/169 [==============================] - 3s 19ms/step - loss: 6.6514e-04\n",
            "Epoch 52/100\n",
            "169/169 [==============================] - 3s 19ms/step - loss: 6.8442e-04\n",
            "Epoch 53/100\n",
            "169/169 [==============================] - 3s 19ms/step - loss: 6.6114e-04\n",
            "Epoch 54/100\n",
            "169/169 [==============================] - 3s 19ms/step - loss: 6.7960e-04\n",
            "Epoch 55/100\n",
            "169/169 [==============================] - 3s 19ms/step - loss: 6.9488e-04\n",
            "Epoch 56/100\n",
            "169/169 [==============================] - 3s 19ms/step - loss: 6.4963e-04\n",
            "Epoch 57/100\n",
            "169/169 [==============================] - 3s 19ms/step - loss: 6.9454e-04\n",
            "Epoch 58/100\n",
            "169/169 [==============================] - 3s 19ms/step - loss: 6.9293e-04\n",
            "Epoch 59/100\n",
            "169/169 [==============================] - 3s 19ms/step - loss: 7.2666e-04\n",
            "Epoch 60/100\n",
            "169/169 [==============================] - 3s 19ms/step - loss: 6.6742e-04\n",
            "Epoch 61/100\n",
            "169/169 [==============================] - 3s 19ms/step - loss: 5.8872e-04\n",
            "Epoch 62/100\n",
            "169/169 [==============================] - 3s 19ms/step - loss: 6.1675e-04\n",
            "Epoch 63/100\n",
            "169/169 [==============================] - 3s 19ms/step - loss: 6.4495e-04\n",
            "Epoch 64/100\n",
            "169/169 [==============================] - 3s 19ms/step - loss: 6.3336e-04\n",
            "Epoch 65/100\n",
            "169/169 [==============================] - 3s 19ms/step - loss: 6.1239e-04\n",
            "Epoch 66/100\n",
            "169/169 [==============================] - 3s 19ms/step - loss: 5.7265e-04\n",
            "Epoch 67/100\n",
            "169/169 [==============================] - 3s 18ms/step - loss: 6.3846e-04\n",
            "Epoch 68/100\n",
            "169/169 [==============================] - 3s 19ms/step - loss: 6.8297e-04\n",
            "Epoch 69/100\n",
            "169/169 [==============================] - 3s 19ms/step - loss: 6.5521e-04\n",
            "Epoch 70/100\n",
            "169/169 [==============================] - 3s 19ms/step - loss: 6.1794e-04\n",
            "Epoch 71/100\n",
            "169/169 [==============================] - 3s 19ms/step - loss: 5.9126e-04\n",
            "Epoch 72/100\n",
            "169/169 [==============================] - 3s 19ms/step - loss: 6.5586e-04\n",
            "Epoch 73/100\n",
            "169/169 [==============================] - 3s 19ms/step - loss: 6.4643e-04\n",
            "Epoch 74/100\n",
            "169/169 [==============================] - 3s 19ms/step - loss: 6.1672e-04\n",
            "Epoch 75/100\n",
            "169/169 [==============================] - 3s 19ms/step - loss: 5.7300e-04\n",
            "Epoch 76/100\n",
            "169/169 [==============================] - 3s 19ms/step - loss: 6.3926e-04\n",
            "Epoch 77/100\n",
            "169/169 [==============================] - 3s 19ms/step - loss: 6.0824e-04\n",
            "Epoch 78/100\n",
            "169/169 [==============================] - 3s 19ms/step - loss: 5.5619e-04\n",
            "Epoch 79/100\n",
            "169/169 [==============================] - 3s 19ms/step - loss: 5.4065e-04\n",
            "Epoch 80/100\n",
            "169/169 [==============================] - 3s 19ms/step - loss: 5.9841e-04\n",
            "Epoch 81/100\n",
            "169/169 [==============================] - 3s 19ms/step - loss: 5.9337e-04\n",
            "Epoch 82/100\n",
            "169/169 [==============================] - 3s 18ms/step - loss: 5.4294e-04\n",
            "Epoch 83/100\n",
            "169/169 [==============================] - 3s 19ms/step - loss: 5.8311e-04\n",
            "Epoch 84/100\n",
            "169/169 [==============================] - 3s 19ms/step - loss: 6.5873e-04\n",
            "Epoch 85/100\n",
            "169/169 [==============================] - 3s 19ms/step - loss: 5.6365e-04\n",
            "Epoch 86/100\n",
            "169/169 [==============================] - 3s 19ms/step - loss: 5.8254e-04\n",
            "Epoch 87/100\n",
            "169/169 [==============================] - 3s 19ms/step - loss: 5.2964e-04\n",
            "Epoch 88/100\n",
            "169/169 [==============================] - 3s 19ms/step - loss: 5.8990e-04\n",
            "Epoch 89/100\n",
            "169/169 [==============================] - 3s 19ms/step - loss: 5.2755e-04\n",
            "Epoch 90/100\n",
            "169/169 [==============================] - 3s 19ms/step - loss: 5.3132e-04\n",
            "Epoch 91/100\n",
            "169/169 [==============================] - 3s 19ms/step - loss: 5.6579e-04\n",
            "Epoch 92/100\n",
            "169/169 [==============================] - 3s 19ms/step - loss: 5.6910e-04\n",
            "Epoch 93/100\n",
            "169/169 [==============================] - 3s 18ms/step - loss: 5.6425e-04\n",
            "Epoch 94/100\n",
            "169/169 [==============================] - 3s 19ms/step - loss: 5.7573e-04\n",
            "Epoch 95/100\n",
            "169/169 [==============================] - 3s 18ms/step - loss: 5.6477e-04\n",
            "Epoch 96/100\n",
            "169/169 [==============================] - 3s 18ms/step - loss: 5.6030e-04\n",
            "Epoch 97/100\n",
            "169/169 [==============================] - 3s 19ms/step - loss: 5.5754e-04\n",
            "Epoch 98/100\n",
            "169/169 [==============================] - 3s 19ms/step - loss: 6.0476e-04\n",
            "Epoch 99/100\n",
            "169/169 [==============================] - 3s 19ms/step - loss: 5.4490e-04\n",
            "Epoch 100/100\n",
            "169/169 [==============================] - 3s 19ms/step - loss: 5.2592e-04\n"
          ],
          "name": "stdout"
        }
      ]
    },
    {
      "cell_type": "code",
      "metadata": {
        "id": "V_9aBcPtkn2l",
        "colab": {
          "base_uri": "https://localhost:8080/",
          "height": 298
        },
        "outputId": "ccee8a6a-7c95-4842-d125-037d4345198e"
      },
      "source": [
        "train_loss = history.history['loss']\n",
        "plt.plot(train_loss, color='r')\n",
        "plt.title('Train loss')"
      ],
      "execution_count": null,
      "outputs": [
        {
          "output_type": "execute_result",
          "data": {
            "text/plain": [
              "Text(0.5, 1.0, 'Train loss')"
            ]
          },
          "metadata": {
            "tags": []
          },
          "execution_count": 16
        },
        {
          "output_type": "display_data",
          "data": {
            "image/png": "[encoded data removed]",
            "text/plain": [
              "<Figure size 432x288 with 1 Axes>"
            ]
          },
          "metadata": {
            "tags": [],
            "needs_background": "light"
          }
        }
      ]
    },
    {
      "cell_type": "code",
      "metadata": {
        "id": "cP90Y08ZQ3oh"
      },
      "source": [
        "#%load_ext tensorboard\n",
        "#%tensorboard --logdir logs"
      ],
      "execution_count": null,
      "outputs": []
    },
    {
      "cell_type": "markdown",
      "metadata": {
        "id": "us5ti5pNbS-k"
      },
      "source": [
        "***\n",
        "## Predicting"
      ]
    },
    {
      "cell_type": "code",
      "metadata": {
        "id": "oUpD6t3WVc_i",
        "colab": {
          "base_uri": "https://localhost:8080/",
          "height": 34
        },
        "outputId": "7d6464e5-bb6c-4f62-c0ec-cca110f78465"
      },
      "source": [
        "# Now to get the test set ready in a similar way as the training set.\n",
        "# The following has been done so forst 60 entires of test set have 60 previous values \n",
        "\n",
        "# Defining test set\n",
        "test_set = df[first_row-ts:]\n",
        "#test_set = df[2529-ts:2881]\n",
        "test_set.shape"
      ],
      "execution_count": null,
      "outputs": [
        {
          "output_type": "execute_result",
          "data": {
            "text/plain": [
              "(459, 13)"
            ]
          },
          "metadata": {
            "tags": []
          },
          "execution_count": 18
        }
      ]
    },
    {
      "cell_type": "code",
      "metadata": {
        "id": "tm3nTYL0N5TX",
        "colab": {
          "base_uri": "https://localhost:8080/",
          "height": 212
        },
        "outputId": "6d7d8171-c09e-4b67-9092-98ef7ccb5d1b"
      },
      "source": [
        "# Scaling the test set\n",
        "test_set_scaled = pd.DataFrame(scaler.transform(test_set), columns=cols + ['speed2'])\n",
        "print(test_set_scaled.shape)\n",
        "test_set_scaled.tail(2)"
      ],
      "execution_count": null,
      "outputs": [
        {
          "output_type": "error",
          "ename": "NameError",
          "evalue": "ignored",
          "traceback": [
            "\u001b[0;31m---------------------------------------------------------------------------\u001b[0m",
            "\u001b[0;31mNameError\u001b[0m                                 Traceback (most recent call last)",
            "\u001b[0;32m<ipython-input-1-5592ba4cfbb5>\u001b[0m in \u001b[0;36m<module>\u001b[0;34m()\u001b[0m\n\u001b[1;32m      1\u001b[0m \u001b[0;31m# Scaling the test set\u001b[0m\u001b[0;34m\u001b[0m\u001b[0;34m\u001b[0m\u001b[0;34m\u001b[0m\u001b[0m\n\u001b[0;32m----> 2\u001b[0;31m \u001b[0mtest_set_scaled\u001b[0m \u001b[0;34m=\u001b[0m \u001b[0mpd\u001b[0m\u001b[0;34m.\u001b[0m\u001b[0mDataFrame\u001b[0m\u001b[0;34m(\u001b[0m\u001b[0mscaler\u001b[0m\u001b[0;34m.\u001b[0m\u001b[0minverse_transform\u001b[0m\u001b[0;34m(\u001b[0m\u001b[0mtest_set\u001b[0m\u001b[0;34m)\u001b[0m\u001b[0;34m,\u001b[0m \u001b[0mcolumns\u001b[0m\u001b[0;34m=\u001b[0m\u001b[0mcols\u001b[0m \u001b[0;34m+\u001b[0m \u001b[0;34m[\u001b[0m\u001b[0;34m'speed2'\u001b[0m\u001b[0;34m]\u001b[0m\u001b[0;34m)\u001b[0m\u001b[0;34m\u001b[0m\u001b[0;34m\u001b[0m\u001b[0m\n\u001b[0m\u001b[1;32m      3\u001b[0m \u001b[0mprint\u001b[0m\u001b[0;34m(\u001b[0m\u001b[0mtest_set_scaled\u001b[0m\u001b[0;34m.\u001b[0m\u001b[0mshape\u001b[0m\u001b[0;34m)\u001b[0m\u001b[0;34m\u001b[0m\u001b[0;34m\u001b[0m\u001b[0m\n\u001b[1;32m      4\u001b[0m \u001b[0mtest_set_scaled\u001b[0m\u001b[0;34m.\u001b[0m\u001b[0mtail\u001b[0m\u001b[0;34m(\u001b[0m\u001b[0;36m2\u001b[0m\u001b[0;34m)\u001b[0m\u001b[0;34m\u001b[0m\u001b[0;34m\u001b[0m\u001b[0m\n",
            "\u001b[0;31mNameError\u001b[0m: name 'pd' is not defined"
          ]
        }
      ]
    },
    {
      "cell_type": "code",
      "metadata": {
        "id": "JLlPDAahMDDk",
        "colab": {
          "base_uri": "https://localhost:8080/",
          "height": 34
        },
        "outputId": "92a59a24-3775-4fa5-96f4-aa9ee47662eb"
      },
      "source": [
        "# Preparing X_test and predicting speed2\n",
        "len = test_set.shape[0]\n",
        "X_test = []\n",
        "\n",
        "for i in range(ts, len):\n",
        "  X_test.append(test_set_scaled.loc[i-ts:i, cols].to_numpy())\n",
        "\n",
        "X_test = np.array(X_test)\n",
        "print(X_test.shape)"
      ],
      "execution_count": null,
      "outputs": [
        {
          "output_type": "stream",
          "text": [
            "(449, 11, 12)\n"
          ],
          "name": "stdout"
        }
      ]
    },
    {
      "cell_type": "code",
      "metadata": {
        "id": "lZLcjjsRCMxf",
        "colab": {
          "base_uri": "https://localhost:8080/",
          "height": 34
        },
        "outputId": "d84ac141-b37f-48b2-e3bc-eb3bd25607e3"
      },
      "source": [
        "y_test = regressor.predict(X_test)\n",
        "y_test = np.array(y_test)\n",
        "y_test = y_test.reshape((1,-1))\n",
        "y_test.shape"
      ],
      "execution_count": null,
      "outputs": [
        {
          "output_type": "execute_result",
          "data": {
            "text/plain": [
              "(1, 449)"
            ]
          },
          "metadata": {
            "tags": []
          },
          "execution_count": 21
        }
      ]
    },
    {
      "cell_type": "code",
      "metadata": {
        "id": "08CywFQMBr7n",
        "colab": {
          "base_uri": "https://localhost:8080/",
          "height": 126
        },
        "outputId": "c825b24b-bc05-4d9a-bc7d-d97d10eb00e4"
      },
      "source": [
        "test_set_scaled.loc[ts:, 'speed2'] = y_test\n",
        "test_set_scaled.tail(2)"
      ],
      "execution_count": null,
      "outputs": [
        {
          "output_type": "execute_result",
          "data": {
            "text/html": [
              "<div>\n",
              "<style scoped>\n",
              "    .dataframe tbody tr th:only-of-type {\n",
              "        vertical-align: middle;\n",
              "    }\n",
              "\n",
              "    .dataframe tbody tr th {\n",
              "        vertical-align: top;\n",
              "    }\n",
              "\n",
              "    .dataframe thead th {\n",
              "        text-align: right;\n",
              "    }\n",
              "</style>\n",
              "<table border=\"1\" class=\"dataframe\">\n",
              "  <thead>\n",
              "    <tr style=\"text-align: right;\">\n",
              "      <th></th>\n",
              "      <th>count</th>\n",
              "      <th>speed1</th>\n",
              "      <th>minute</th>\n",
              "      <th>hour</th>\n",
              "      <th>dayofmonth</th>\n",
              "      <th>dayofyear</th>\n",
              "      <th>dayofweek</th>\n",
              "      <th>weekofyear</th>\n",
              "      <th>month</th>\n",
              "      <th>quarter</th>\n",
              "      <th>year</th>\n",
              "      <th>isholiday</th>\n",
              "      <th>speed2</th>\n",
              "    </tr>\n",
              "  </thead>\n",
              "  <tbody>\n",
              "    <tr>\n",
              "      <th>457</th>\n",
              "      <td>0.364372</td>\n",
              "      <td>0.670213</td>\n",
              "      <td>0.666667</td>\n",
              "      <td>1.0</td>\n",
              "      <td>1.034483</td>\n",
              "      <td>1.071429</td>\n",
              "      <td>0.666667</td>\n",
              "      <td>1.0</td>\n",
              "      <td>1.0</td>\n",
              "      <td>1.0</td>\n",
              "      <td>0.0</td>\n",
              "      <td>1.0</td>\n",
              "      <td>0.768206</td>\n",
              "    </tr>\n",
              "    <tr>\n",
              "      <th>458</th>\n",
              "      <td>0.311741</td>\n",
              "      <td>0.680851</td>\n",
              "      <td>1.000000</td>\n",
              "      <td>1.0</td>\n",
              "      <td>1.034483</td>\n",
              "      <td>1.071429</td>\n",
              "      <td>0.666667</td>\n",
              "      <td>1.0</td>\n",
              "      <td>1.0</td>\n",
              "      <td>1.0</td>\n",
              "      <td>0.0</td>\n",
              "      <td>1.0</td>\n",
              "      <td>0.771747</td>\n",
              "    </tr>\n",
              "  </tbody>\n",
              "</table>\n",
              "</div>"
            ],
            "text/plain": [
              "        count    speed1    minute  hour  ...  quarter  year  isholiday    speed2\n",
              "457  0.364372  0.670213  0.666667   1.0  ...      1.0   0.0        1.0  0.768206\n",
              "458  0.311741  0.680851  1.000000   1.0  ...      1.0   0.0        1.0  0.771747\n",
              "\n",
              "[2 rows x 13 columns]"
            ]
          },
          "metadata": {
            "tags": []
          },
          "execution_count": 22
        }
      ]
    },
    {
      "cell_type": "code",
      "metadata": {
        "id": "-5VKgizrMHSG"
      },
      "source": [
        "predicted = pd.DataFrame(scaler.inverse_transform(test_set_scaled), columns= cols+['speed2'])\n",
        "predicted = predicted.loc[ts:, 'speed2']"
      ],
      "execution_count": null,
      "outputs": []
    },
    {
      "cell_type": "code",
      "metadata": {
        "id": "9M2qYbIBbHBa"
      },
      "source": [
        "predicted.to_csv('submit.csv', header=False, index=False)"
      ],
      "execution_count": null,
      "outputs": []
    },
    {
      "cell_type": "markdown",
      "metadata": {
        "id": "que-NZ12bW-t"
      },
      "source": [
        "***\n",
        "## Comparing predicted outputs"
      ]
    },
    {
      "cell_type": "code",
      "metadata": {
        "id": "tuu0JCtKLkJr",
        "colab": {
          "base_uri": "https://localhost:8080/",
          "height": 298
        },
        "outputId": "01a925a6-5128-4252-bbea-78f6b9c75436"
      },
      "source": [
        "# Visualizing the results for LSTM\n",
        "plt.plot(predicted.values, color='b', label='LSTM')\n",
        "#plt.plot(df.loc[2529:2881, 'speed2'].values, color='r', label='Prophet')\n",
        "plt.title('Comparing predicted outputs of LSTM and prophet')"
      ],
      "execution_count": null,
      "outputs": [
        {
          "output_type": "execute_result",
          "data": {
            "text/plain": [
              "Text(0.5, 1.0, 'Comparing predicted outputs of LSTM and prophet')"
            ]
          },
          "metadata": {
            "tags": []
          },
          "execution_count": 25
        },
        {
          "output_type": "display_data",
          "data": {
            "image/png": "[encoded data removed]",
            "text/plain": [
              "<Figure size 432x288 with 1 Axes>"
            ]
          },
          "metadata": {
            "tags": [],
            "needs_background": "light"
          }
        }
      ]
    },
    {
      "cell_type": "code",
      "metadata": {
        "id": "A3E5IWVzuCrJ"
      },
      "source": [
        "#yhat_val = predicted.values\n",
        "#y_val = df.loc[2529:2880, 'speed2'].values\n",
        " \n",
        "#error = np.sum(np.abs((yhat_val - y_val) / y_val))\n",
        "#print(error)"
      ],
      "execution_count": null,
      "outputs": []
    }
  ]
}