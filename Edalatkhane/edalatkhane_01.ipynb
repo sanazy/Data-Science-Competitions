{
  "nbformat": 4,
  "nbformat_minor": 0,
  "metadata": {
    "colab": {
      "name": "Edalatkhane_01.ipynb",
      "provenance": [],
      "collapsed_sections": []
    },
    "kernelspec": {
      "name": "python3",
      "display_name": "Python 3"
    }
  },
  "cells": [
    {
      "cell_type": "code",
      "metadata": {
        "id": "9nmUFNUCYDJS",
        "colab": {
          "base_uri": "https://localhost:8080/",
          "height": 34
        },
        "outputId": "09017014-458f-4688-fe20-d0ad4403cfe6"
      },
      "source": [
        "from google.colab import drive\n",
        "drive.mount('/content/drive')"
      ],
      "execution_count": null,
      "outputs": [
        {
          "output_type": "stream",
          "text": [
            "Mounted at /content/drive\n"
          ],
          "name": "stdout"
        }
      ]
    },
    {
      "cell_type": "code",
      "metadata": {
        "id": "KN8uQxfTYIfk",
        "colab": {
          "base_uri": "https://localhost:8080/",
          "height": 34
        },
        "outputId": "63337a1e-f07f-466b-9241-42d2196a1821"
      },
      "source": [
        "%cd '/content/drive/My Drive/Edalat'"
      ],
      "execution_count": null,
      "outputs": [
        {
          "output_type": "stream",
          "text": [
            "/content/drive/My Drive/Edalat\n"
          ],
          "name": "stdout"
        }
      ]
    },
    {
      "cell_type": "code",
      "metadata": {
        "id": "pRfGg2EjYJy9",
        "colab": {
          "base_uri": "https://localhost:8080/",
          "height": 84
        },
        "outputId": "96b4cd4b-e527-4d4e-eb0a-5c568c00f995"
      },
      "source": [
        "#!unzip 'initial.zip'"
      ],
      "execution_count": null,
      "outputs": [
        {
          "output_type": "stream",
          "text": [
            "Archive:  initial.zip\n",
            "  inflating: table1.csv              \n",
            "  inflating: table2.csv              \n",
            "  inflating: table3.csv              \n"
          ],
          "name": "stdout"
        }
      ]
    },
    {
      "cell_type": "code",
      "metadata": {
        "id": "ZyR8X5GzYwL_"
      },
      "source": [
        "import pandas as pd"
      ],
      "execution_count": null,
      "outputs": []
    },
    {
      "cell_type": "code",
      "metadata": {
        "id": "449_38ofYl5z",
        "colab": {
          "base_uri": "https://localhost:8080/",
          "height": 212
        },
        "outputId": "c59dcd47-f031-45ca-faff-8410e4875057"
      },
      "source": [
        "colnames = ['person_id', 'part_id', 'percent', 'expect']\n",
        "t1 = pd.read_csv(\"table1.csv\")\n",
        "t1.columns = colnames\n",
        "print(t1.shape)\n",
        "t1.head()"
      ],
      "execution_count": null,
      "outputs": [
        {
          "output_type": "stream",
          "text": [
            "(1484, 4)\n"
          ],
          "name": "stdout"
        },
        {
          "output_type": "execute_result",
          "data": {
            "text/html": [
              "<div>\n",
              "<style scoped>\n",
              "    .dataframe tbody tr th:only-of-type {\n",
              "        vertical-align: middle;\n",
              "    }\n",
              "\n",
              "    .dataframe tbody tr th {\n",
              "        vertical-align: top;\n",
              "    }\n",
              "\n",
              "    .dataframe thead th {\n",
              "        text-align: right;\n",
              "    }\n",
              "</style>\n",
              "<table border=\"1\" class=\"dataframe\">\n",
              "  <thead>\n",
              "    <tr style=\"text-align: right;\">\n",
              "      <th></th>\n",
              "      <th>person_id</th>\n",
              "      <th>part_id</th>\n",
              "      <th>percent</th>\n",
              "      <th>expect</th>\n",
              "    </tr>\n",
              "  </thead>\n",
              "  <tbody>\n",
              "    <tr>\n",
              "      <th>0</th>\n",
              "      <td>810</td>\n",
              "      <td>1</td>\n",
              "      <td>0.82</td>\n",
              "      <td>21</td>\n",
              "    </tr>\n",
              "    <tr>\n",
              "      <th>1</th>\n",
              "      <td>284</td>\n",
              "      <td>1</td>\n",
              "      <td>0.73</td>\n",
              "      <td>34</td>\n",
              "    </tr>\n",
              "    <tr>\n",
              "      <th>2</th>\n",
              "      <td>175</td>\n",
              "      <td>1</td>\n",
              "      <td>0.83</td>\n",
              "      <td>43</td>\n",
              "    </tr>\n",
              "    <tr>\n",
              "      <th>3</th>\n",
              "      <td>436</td>\n",
              "      <td>1</td>\n",
              "      <td>0.85</td>\n",
              "      <td>44</td>\n",
              "    </tr>\n",
              "    <tr>\n",
              "      <th>4</th>\n",
              "      <td>289</td>\n",
              "      <td>1</td>\n",
              "      <td>0.71</td>\n",
              "      <td>31</td>\n",
              "    </tr>\n",
              "  </tbody>\n",
              "</table>\n",
              "</div>"
            ],
            "text/plain": [
              "   person_id  part_id  percent  expect\n",
              "0        810        1     0.82      21\n",
              "1        284        1     0.73      34\n",
              "2        175        1     0.83      43\n",
              "3        436        1     0.85      44\n",
              "4        289        1     0.71      31"
            ]
          },
          "metadata": {
            "tags": []
          },
          "execution_count": 20
        }
      ]
    },
    {
      "cell_type": "code",
      "metadata": {
        "id": "8Kf7ZyWebQpW",
        "colab": {
          "base_uri": "https://localhost:8080/",
          "height": 195
        },
        "outputId": "3fb92a7c-2f74-46a0-9ab4-04d345a3c57c"
      },
      "source": [
        "colnames = ['part_id', 'wage']\n",
        "t2 = pd.read_csv(\"table2.csv\")\n",
        "t2.columns = colnames\n",
        "t2.head()"
      ],
      "execution_count": null,
      "outputs": [
        {
          "output_type": "execute_result",
          "data": {
            "text/html": [
              "<div>\n",
              "<style scoped>\n",
              "    .dataframe tbody tr th:only-of-type {\n",
              "        vertical-align: middle;\n",
              "    }\n",
              "\n",
              "    .dataframe tbody tr th {\n",
              "        vertical-align: top;\n",
              "    }\n",
              "\n",
              "    .dataframe thead th {\n",
              "        text-align: right;\n",
              "    }\n",
              "</style>\n",
              "<table border=\"1\" class=\"dataframe\">\n",
              "  <thead>\n",
              "    <tr style=\"text-align: right;\">\n",
              "      <th></th>\n",
              "      <th>part_id</th>\n",
              "      <th>wage</th>\n",
              "    </tr>\n",
              "  </thead>\n",
              "  <tbody>\n",
              "    <tr>\n",
              "      <th>0</th>\n",
              "      <td>1</td>\n",
              "      <td>36000</td>\n",
              "    </tr>\n",
              "    <tr>\n",
              "      <th>1</th>\n",
              "      <td>2</td>\n",
              "      <td>26000</td>\n",
              "    </tr>\n",
              "    <tr>\n",
              "      <th>2</th>\n",
              "      <td>3</td>\n",
              "      <td>20000</td>\n",
              "    </tr>\n",
              "    <tr>\n",
              "      <th>3</th>\n",
              "      <td>4</td>\n",
              "      <td>24000</td>\n",
              "    </tr>\n",
              "    <tr>\n",
              "      <th>4</th>\n",
              "      <td>5</td>\n",
              "      <td>35000</td>\n",
              "    </tr>\n",
              "  </tbody>\n",
              "</table>\n",
              "</div>"
            ],
            "text/plain": [
              "   part_id   wage\n",
              "0        1  36000\n",
              "1        2  26000\n",
              "2        3  20000\n",
              "3        4  24000\n",
              "4        5  35000"
            ]
          },
          "metadata": {
            "tags": []
          },
          "execution_count": 23
        }
      ]
    },
    {
      "cell_type": "code",
      "metadata": {
        "id": "q1RFAcSHdJsf",
        "colab": {
          "base_uri": "https://localhost:8080/",
          "height": 212
        },
        "outputId": "f57d5fc1-14db-4c39-bb59-be9dc66b7740"
      },
      "source": [
        "colnames = ['person_id', 'part_id', 'month', 'hours']\n",
        "t3 = pd.read_csv(\"table3.csv\")\n",
        "t3.columns = colnames\n",
        "print(t3.shape)\n",
        "t3.head()"
      ],
      "execution_count": null,
      "outputs": [
        {
          "output_type": "stream",
          "text": [
            "(17808, 4)\n"
          ],
          "name": "stdout"
        },
        {
          "output_type": "execute_result",
          "data": {
            "text/html": [
              "<div>\n",
              "<style scoped>\n",
              "    .dataframe tbody tr th:only-of-type {\n",
              "        vertical-align: middle;\n",
              "    }\n",
              "\n",
              "    .dataframe tbody tr th {\n",
              "        vertical-align: top;\n",
              "    }\n",
              "\n",
              "    .dataframe thead th {\n",
              "        text-align: right;\n",
              "    }\n",
              "</style>\n",
              "<table border=\"1\" class=\"dataframe\">\n",
              "  <thead>\n",
              "    <tr style=\"text-align: right;\">\n",
              "      <th></th>\n",
              "      <th>person_id</th>\n",
              "      <th>part_id</th>\n",
              "      <th>month</th>\n",
              "      <th>hours</th>\n",
              "    </tr>\n",
              "  </thead>\n",
              "  <tbody>\n",
              "    <tr>\n",
              "      <th>0</th>\n",
              "      <td>810</td>\n",
              "      <td>1</td>\n",
              "      <td>1</td>\n",
              "      <td>20</td>\n",
              "    </tr>\n",
              "    <tr>\n",
              "      <th>1</th>\n",
              "      <td>810</td>\n",
              "      <td>1</td>\n",
              "      <td>2</td>\n",
              "      <td>13</td>\n",
              "    </tr>\n",
              "    <tr>\n",
              "      <th>2</th>\n",
              "      <td>810</td>\n",
              "      <td>1</td>\n",
              "      <td>3</td>\n",
              "      <td>23</td>\n",
              "    </tr>\n",
              "    <tr>\n",
              "      <th>3</th>\n",
              "      <td>810</td>\n",
              "      <td>1</td>\n",
              "      <td>4</td>\n",
              "      <td>25</td>\n",
              "    </tr>\n",
              "    <tr>\n",
              "      <th>4</th>\n",
              "      <td>810</td>\n",
              "      <td>1</td>\n",
              "      <td>5</td>\n",
              "      <td>14</td>\n",
              "    </tr>\n",
              "  </tbody>\n",
              "</table>\n",
              "</div>"
            ],
            "text/plain": [
              "   person_id  part_id  month  hours\n",
              "0        810        1      1     20\n",
              "1        810        1      2     13\n",
              "2        810        1      3     23\n",
              "3        810        1      4     25\n",
              "4        810        1      5     14"
            ]
          },
          "metadata": {
            "tags": []
          },
          "execution_count": 34
        }
      ]
    },
    {
      "cell_type": "code",
      "metadata": {
        "id": "Tsqr2RZtfuoh",
        "colab": {
          "base_uri": "https://localhost:8080/",
          "height": 212
        },
        "outputId": "d943b085-f853-458d-83b8-7a01db0cc4c1"
      },
      "source": [
        "df_12 = pd.merge(t1, t2, on='part_id', how='inner')\n",
        "print(df_12.shape)\n",
        "df_12.head()"
      ],
      "execution_count": null,
      "outputs": [
        {
          "output_type": "stream",
          "text": [
            "(1484, 5)\n"
          ],
          "name": "stdout"
        },
        {
          "output_type": "execute_result",
          "data": {
            "text/html": [
              "<div>\n",
              "<style scoped>\n",
              "    .dataframe tbody tr th:only-of-type {\n",
              "        vertical-align: middle;\n",
              "    }\n",
              "\n",
              "    .dataframe tbody tr th {\n",
              "        vertical-align: top;\n",
              "    }\n",
              "\n",
              "    .dataframe thead th {\n",
              "        text-align: right;\n",
              "    }\n",
              "</style>\n",
              "<table border=\"1\" class=\"dataframe\">\n",
              "  <thead>\n",
              "    <tr style=\"text-align: right;\">\n",
              "      <th></th>\n",
              "      <th>person_id</th>\n",
              "      <th>part_id</th>\n",
              "      <th>percent</th>\n",
              "      <th>expect</th>\n",
              "      <th>wage</th>\n",
              "    </tr>\n",
              "  </thead>\n",
              "  <tbody>\n",
              "    <tr>\n",
              "      <th>0</th>\n",
              "      <td>810</td>\n",
              "      <td>1</td>\n",
              "      <td>0.82</td>\n",
              "      <td>21</td>\n",
              "      <td>36000</td>\n",
              "    </tr>\n",
              "    <tr>\n",
              "      <th>1</th>\n",
              "      <td>284</td>\n",
              "      <td>1</td>\n",
              "      <td>0.73</td>\n",
              "      <td>34</td>\n",
              "      <td>36000</td>\n",
              "    </tr>\n",
              "    <tr>\n",
              "      <th>2</th>\n",
              "      <td>175</td>\n",
              "      <td>1</td>\n",
              "      <td>0.83</td>\n",
              "      <td>43</td>\n",
              "      <td>36000</td>\n",
              "    </tr>\n",
              "    <tr>\n",
              "      <th>3</th>\n",
              "      <td>436</td>\n",
              "      <td>1</td>\n",
              "      <td>0.85</td>\n",
              "      <td>44</td>\n",
              "      <td>36000</td>\n",
              "    </tr>\n",
              "    <tr>\n",
              "      <th>4</th>\n",
              "      <td>289</td>\n",
              "      <td>1</td>\n",
              "      <td>0.71</td>\n",
              "      <td>31</td>\n",
              "      <td>36000</td>\n",
              "    </tr>\n",
              "  </tbody>\n",
              "</table>\n",
              "</div>"
            ],
            "text/plain": [
              "   person_id  part_id  percent  expect   wage\n",
              "0        810        1     0.82      21  36000\n",
              "1        284        1     0.73      34  36000\n",
              "2        175        1     0.83      43  36000\n",
              "3        436        1     0.85      44  36000\n",
              "4        289        1     0.71      31  36000"
            ]
          },
          "metadata": {
            "tags": []
          },
          "execution_count": 33
        }
      ]
    },
    {
      "cell_type": "code",
      "metadata": {
        "id": "ZdgQOAwuhBxp",
        "colab": {
          "base_uri": "https://localhost:8080/",
          "height": 212
        },
        "outputId": "5d8223a9-51ab-4344-92aa-3be21f6b6c4d"
      },
      "source": [
        "df_123 = pd.merge(df_12, t3, on=['person_id', 'part_id'], how='inner')\n",
        "print(df_123.shape)\n",
        "df_123.head()"
      ],
      "execution_count": null,
      "outputs": [
        {
          "output_type": "stream",
          "text": [
            "(17808, 7)\n"
          ],
          "name": "stdout"
        },
        {
          "output_type": "execute_result",
          "data": {
            "text/html": [
              "<div>\n",
              "<style scoped>\n",
              "    .dataframe tbody tr th:only-of-type {\n",
              "        vertical-align: middle;\n",
              "    }\n",
              "\n",
              "    .dataframe tbody tr th {\n",
              "        vertical-align: top;\n",
              "    }\n",
              "\n",
              "    .dataframe thead th {\n",
              "        text-align: right;\n",
              "    }\n",
              "</style>\n",
              "<table border=\"1\" class=\"dataframe\">\n",
              "  <thead>\n",
              "    <tr style=\"text-align: right;\">\n",
              "      <th></th>\n",
              "      <th>person_id</th>\n",
              "      <th>part_id</th>\n",
              "      <th>percent</th>\n",
              "      <th>expect</th>\n",
              "      <th>wage</th>\n",
              "      <th>month</th>\n",
              "      <th>hours</th>\n",
              "    </tr>\n",
              "  </thead>\n",
              "  <tbody>\n",
              "    <tr>\n",
              "      <th>0</th>\n",
              "      <td>810</td>\n",
              "      <td>1</td>\n",
              "      <td>0.82</td>\n",
              "      <td>21</td>\n",
              "      <td>36000</td>\n",
              "      <td>1</td>\n",
              "      <td>20</td>\n",
              "    </tr>\n",
              "    <tr>\n",
              "      <th>1</th>\n",
              "      <td>810</td>\n",
              "      <td>1</td>\n",
              "      <td>0.82</td>\n",
              "      <td>21</td>\n",
              "      <td>36000</td>\n",
              "      <td>2</td>\n",
              "      <td>13</td>\n",
              "    </tr>\n",
              "    <tr>\n",
              "      <th>2</th>\n",
              "      <td>810</td>\n",
              "      <td>1</td>\n",
              "      <td>0.82</td>\n",
              "      <td>21</td>\n",
              "      <td>36000</td>\n",
              "      <td>3</td>\n",
              "      <td>23</td>\n",
              "    </tr>\n",
              "    <tr>\n",
              "      <th>3</th>\n",
              "      <td>810</td>\n",
              "      <td>1</td>\n",
              "      <td>0.82</td>\n",
              "      <td>21</td>\n",
              "      <td>36000</td>\n",
              "      <td>4</td>\n",
              "      <td>25</td>\n",
              "    </tr>\n",
              "    <tr>\n",
              "      <th>4</th>\n",
              "      <td>810</td>\n",
              "      <td>1</td>\n",
              "      <td>0.82</td>\n",
              "      <td>21</td>\n",
              "      <td>36000</td>\n",
              "      <td>5</td>\n",
              "      <td>14</td>\n",
              "    </tr>\n",
              "  </tbody>\n",
              "</table>\n",
              "</div>"
            ],
            "text/plain": [
              "   person_id  part_id  percent  expect   wage  month  hours\n",
              "0        810        1     0.82      21  36000      1     20\n",
              "1        810        1     0.82      21  36000      2     13\n",
              "2        810        1     0.82      21  36000      3     23\n",
              "3        810        1     0.82      21  36000      4     25\n",
              "4        810        1     0.82      21  36000      5     14"
            ]
          },
          "metadata": {
            "tags": []
          },
          "execution_count": 35
        }
      ]
    },
    {
      "cell_type": "code",
      "metadata": {
        "id": "srRPtSB2mtnr"
      },
      "source": [
        "df = df_123\n",
        "df.sort_values(by=['person_id'], inplace=True, ignore_index=True)"
      ],
      "execution_count": null,
      "outputs": []
    },
    {
      "cell_type": "code",
      "metadata": {
        "id": "5XgAxtJJi-Yk",
        "colab": {
          "base_uri": "https://localhost:8080/",
          "height": 106
        },
        "outputId": "605bf3e2-2e46-49f7-9955-bcf018c6a7f5"
      },
      "source": [
        "df.loc[df['expect'] > df['hours'], 'lost'] = 1\n",
        "df.loc[df['expect'] <= df['hours'], 'lost'] = 0\n",
        "df.head(2)"
      ],
      "execution_count": null,
      "outputs": [
        {
          "output_type": "execute_result",
          "data": {
            "text/html": [
              "<div>\n",
              "<style scoped>\n",
              "    .dataframe tbody tr th:only-of-type {\n",
              "        vertical-align: middle;\n",
              "    }\n",
              "\n",
              "    .dataframe tbody tr th {\n",
              "        vertical-align: top;\n",
              "    }\n",
              "\n",
              "    .dataframe thead th {\n",
              "        text-align: right;\n",
              "    }\n",
              "</style>\n",
              "<table border=\"1\" class=\"dataframe\">\n",
              "  <thead>\n",
              "    <tr style=\"text-align: right;\">\n",
              "      <th></th>\n",
              "      <th>person_id</th>\n",
              "      <th>part_id</th>\n",
              "      <th>percent</th>\n",
              "      <th>expect</th>\n",
              "      <th>wage</th>\n",
              "      <th>month</th>\n",
              "      <th>hours</th>\n",
              "      <th>lost</th>\n",
              "    </tr>\n",
              "  </thead>\n",
              "  <tbody>\n",
              "    <tr>\n",
              "      <th>0</th>\n",
              "      <td>1</td>\n",
              "      <td>8</td>\n",
              "      <td>0.86</td>\n",
              "      <td>43</td>\n",
              "      <td>26000</td>\n",
              "      <td>8</td>\n",
              "      <td>38</td>\n",
              "      <td>1</td>\n",
              "    </tr>\n",
              "    <tr>\n",
              "      <th>1</th>\n",
              "      <td>1</td>\n",
              "      <td>8</td>\n",
              "      <td>0.86</td>\n",
              "      <td>43</td>\n",
              "      <td>26000</td>\n",
              "      <td>6</td>\n",
              "      <td>42</td>\n",
              "      <td>1</td>\n",
              "    </tr>\n",
              "  </tbody>\n",
              "</table>\n",
              "</div>"
            ],
            "text/plain": [
              "   person_id  part_id  percent  expect   wage  month  hours lost\n",
              "0          1        8     0.86      43  26000      8     38    1\n",
              "1          1        8     0.86      43  26000      6     42    1"
            ]
          },
          "metadata": {
            "tags": []
          },
          "execution_count": 111
        }
      ]
    },
    {
      "cell_type": "code",
      "metadata": {
        "id": "g4uHnjURlMbE",
        "colab": {
          "base_uri": "https://localhost:8080/",
          "height": 106
        },
        "outputId": "fec9e224-c9e0-48d6-ee43-417567c49a8a"
      },
      "source": [
        "losts = df.groupby(['person_id'])['lost'].sum() < 6\n",
        "inds = losts[losts == True].index\n",
        "\n",
        "df = df[df['person_id'].isin(inds)]\n",
        "df.head(2)"
      ],
      "execution_count": null,
      "outputs": [
        {
          "output_type": "execute_result",
          "data": {
            "text/html": [
              "<div>\n",
              "<style scoped>\n",
              "    .dataframe tbody tr th:only-of-type {\n",
              "        vertical-align: middle;\n",
              "    }\n",
              "\n",
              "    .dataframe tbody tr th {\n",
              "        vertical-align: top;\n",
              "    }\n",
              "\n",
              "    .dataframe thead th {\n",
              "        text-align: right;\n",
              "    }\n",
              "</style>\n",
              "<table border=\"1\" class=\"dataframe\">\n",
              "  <thead>\n",
              "    <tr style=\"text-align: right;\">\n",
              "      <th></th>\n",
              "      <th>person_id</th>\n",
              "      <th>part_id</th>\n",
              "      <th>percent</th>\n",
              "      <th>expect</th>\n",
              "      <th>wage</th>\n",
              "      <th>month</th>\n",
              "      <th>hours</th>\n",
              "      <th>lost</th>\n",
              "    </tr>\n",
              "  </thead>\n",
              "  <tbody>\n",
              "    <tr>\n",
              "      <th>480</th>\n",
              "      <td>26</td>\n",
              "      <td>3</td>\n",
              "      <td>0.64</td>\n",
              "      <td>17</td>\n",
              "      <td>20000</td>\n",
              "      <td>7</td>\n",
              "      <td>20</td>\n",
              "      <td>0</td>\n",
              "    </tr>\n",
              "    <tr>\n",
              "      <th>481</th>\n",
              "      <td>26</td>\n",
              "      <td>3</td>\n",
              "      <td>0.64</td>\n",
              "      <td>17</td>\n",
              "      <td>20000</td>\n",
              "      <td>11</td>\n",
              "      <td>22</td>\n",
              "      <td>0</td>\n",
              "    </tr>\n",
              "  </tbody>\n",
              "</table>\n",
              "</div>"
            ],
            "text/plain": [
              "     person_id  part_id  percent  expect   wage  month  hours lost\n",
              "480         26        3     0.64      17  20000      7     20    0\n",
              "481         26        3     0.64      17  20000     11     22    0"
            ]
          },
          "metadata": {
            "tags": []
          },
          "execution_count": 112
        }
      ]
    },
    {
      "cell_type": "code",
      "metadata": {
        "id": "pMNmFX6YxOfy",
        "colab": {
          "base_uri": "https://localhost:8080/",
          "height": 225
        },
        "outputId": "2d374af5-c0a7-417f-ac18-e2a6925ddf1a"
      },
      "source": [
        "df_sum = df.groupby(['person_id', 'part_id']).sum(['expect', 'hours'])\n",
        "df_sum.head()"
      ],
      "execution_count": null,
      "outputs": [
        {
          "output_type": "execute_result",
          "data": {
            "text/html": [
              "<div>\n",
              "<style scoped>\n",
              "    .dataframe tbody tr th:only-of-type {\n",
              "        vertical-align: middle;\n",
              "    }\n",
              "\n",
              "    .dataframe tbody tr th {\n",
              "        vertical-align: top;\n",
              "    }\n",
              "\n",
              "    .dataframe thead th {\n",
              "        text-align: right;\n",
              "    }\n",
              "</style>\n",
              "<table border=\"1\" class=\"dataframe\">\n",
              "  <thead>\n",
              "    <tr style=\"text-align: right;\">\n",
              "      <th></th>\n",
              "      <th></th>\n",
              "      <th>percent</th>\n",
              "      <th>expect</th>\n",
              "      <th>wage</th>\n",
              "      <th>month</th>\n",
              "      <th>hours</th>\n",
              "    </tr>\n",
              "    <tr>\n",
              "      <th>person_id</th>\n",
              "      <th>part_id</th>\n",
              "      <th></th>\n",
              "      <th></th>\n",
              "      <th></th>\n",
              "      <th></th>\n",
              "      <th></th>\n",
              "    </tr>\n",
              "  </thead>\n",
              "  <tbody>\n",
              "    <tr>\n",
              "      <th>26</th>\n",
              "      <th>3</th>\n",
              "      <td>7.68</td>\n",
              "      <td>204</td>\n",
              "      <td>240000</td>\n",
              "      <td>78</td>\n",
              "      <td>218</td>\n",
              "    </tr>\n",
              "    <tr>\n",
              "      <th>63</th>\n",
              "      <th>1</th>\n",
              "      <td>6.60</td>\n",
              "      <td>240</td>\n",
              "      <td>432000</td>\n",
              "      <td>78</td>\n",
              "      <td>261</td>\n",
              "    </tr>\n",
              "    <tr>\n",
              "      <th>67</th>\n",
              "      <th>1</th>\n",
              "      <td>7.56</td>\n",
              "      <td>348</td>\n",
              "      <td>432000</td>\n",
              "      <td>78</td>\n",
              "      <td>385</td>\n",
              "    </tr>\n",
              "    <tr>\n",
              "      <th>77</th>\n",
              "      <th>9</th>\n",
              "      <td>7.80</td>\n",
              "      <td>384</td>\n",
              "      <td>492000</td>\n",
              "      <td>78</td>\n",
              "      <td>370</td>\n",
              "    </tr>\n",
              "    <tr>\n",
              "      <th>128</th>\n",
              "      <th>10</th>\n",
              "      <td>7.92</td>\n",
              "      <td>348</td>\n",
              "      <td>396000</td>\n",
              "      <td>78</td>\n",
              "      <td>353</td>\n",
              "    </tr>\n",
              "  </tbody>\n",
              "</table>\n",
              "</div>"
            ],
            "text/plain": [
              "                   percent  expect    wage  month  hours\n",
              "person_id part_id                                       \n",
              "26        3           7.68     204  240000     78    218\n",
              "63        1           6.60     240  432000     78    261\n",
              "67        1           7.56     348  432000     78    385\n",
              "77        9           7.80     384  492000     78    370\n",
              "128       10          7.92     348  396000     78    353"
            ]
          },
          "metadata": {
            "tags": []
          },
          "execution_count": 136
        }
      ]
    },
    {
      "cell_type": "code",
      "metadata": {
        "id": "cjfC06fEyGCZ"
      },
      "source": [
        "ratio = df_sum['hours']/df_sum['expect']\n",
        "vals = ratio.values\n",
        "coef = []\n",
        "for val in vals:\n",
        "  if (val>1 and val <=1.25):\n",
        "    c = 0.25\n",
        "  elif (val>1.25 and val <=1.5):\n",
        "    c = 0.5\n",
        "  elif val>1.5:\n",
        "    c = 1\n",
        "  else:\n",
        "    c = 0\n",
        "  coef.append(c)"
      ],
      "execution_count": null,
      "outputs": []
    },
    {
      "cell_type": "code",
      "metadata": {
        "id": "xW25u6Qj-sOG",
        "colab": {
          "base_uri": "https://localhost:8080/",
          "height": 431
        },
        "outputId": "e01a81ac-f5a3-40c6-d05d-4c4092889cf2"
      },
      "source": [
        "df_sum['coef'] = coef\n",
        "df_sum"
      ],
      "execution_count": null,
      "outputs": [
        {
          "output_type": "execute_result",
          "data": {
            "text/html": [
              "<div>\n",
              "<style scoped>\n",
              "    .dataframe tbody tr th:only-of-type {\n",
              "        vertical-align: middle;\n",
              "    }\n",
              "\n",
              "    .dataframe tbody tr th {\n",
              "        vertical-align: top;\n",
              "    }\n",
              "\n",
              "    .dataframe thead th {\n",
              "        text-align: right;\n",
              "    }\n",
              "</style>\n",
              "<table border=\"1\" class=\"dataframe\">\n",
              "  <thead>\n",
              "    <tr style=\"text-align: right;\">\n",
              "      <th></th>\n",
              "      <th></th>\n",
              "      <th>percent</th>\n",
              "      <th>expect</th>\n",
              "      <th>wage</th>\n",
              "      <th>month</th>\n",
              "      <th>hours</th>\n",
              "      <th>coef</th>\n",
              "    </tr>\n",
              "    <tr>\n",
              "      <th>person_id</th>\n",
              "      <th>part_id</th>\n",
              "      <th></th>\n",
              "      <th></th>\n",
              "      <th></th>\n",
              "      <th></th>\n",
              "      <th></th>\n",
              "      <th></th>\n",
              "    </tr>\n",
              "  </thead>\n",
              "  <tbody>\n",
              "    <tr>\n",
              "      <th>26</th>\n",
              "      <th>3</th>\n",
              "      <td>7.68</td>\n",
              "      <td>204</td>\n",
              "      <td>240000</td>\n",
              "      <td>78</td>\n",
              "      <td>218</td>\n",
              "      <td>0.25</td>\n",
              "    </tr>\n",
              "    <tr>\n",
              "      <th>63</th>\n",
              "      <th>1</th>\n",
              "      <td>6.60</td>\n",
              "      <td>240</td>\n",
              "      <td>432000</td>\n",
              "      <td>78</td>\n",
              "      <td>261</td>\n",
              "      <td>0.25</td>\n",
              "    </tr>\n",
              "    <tr>\n",
              "      <th>67</th>\n",
              "      <th>1</th>\n",
              "      <td>7.56</td>\n",
              "      <td>348</td>\n",
              "      <td>432000</td>\n",
              "      <td>78</td>\n",
              "      <td>385</td>\n",
              "      <td>0.25</td>\n",
              "    </tr>\n",
              "    <tr>\n",
              "      <th>77</th>\n",
              "      <th>9</th>\n",
              "      <td>7.80</td>\n",
              "      <td>384</td>\n",
              "      <td>492000</td>\n",
              "      <td>78</td>\n",
              "      <td>370</td>\n",
              "      <td>0.00</td>\n",
              "    </tr>\n",
              "    <tr>\n",
              "      <th>128</th>\n",
              "      <th>10</th>\n",
              "      <td>7.92</td>\n",
              "      <td>348</td>\n",
              "      <td>396000</td>\n",
              "      <td>78</td>\n",
              "      <td>353</td>\n",
              "      <td>0.25</td>\n",
              "    </tr>\n",
              "    <tr>\n",
              "      <th>...</th>\n",
              "      <th>...</th>\n",
              "      <td>...</td>\n",
              "      <td>...</td>\n",
              "      <td>...</td>\n",
              "      <td>...</td>\n",
              "      <td>...</td>\n",
              "      <td>...</td>\n",
              "    </tr>\n",
              "    <tr>\n",
              "      <th>956</th>\n",
              "      <th>3</th>\n",
              "      <td>8.40</td>\n",
              "      <td>456</td>\n",
              "      <td>240000</td>\n",
              "      <td>78</td>\n",
              "      <td>482</td>\n",
              "      <td>0.25</td>\n",
              "    </tr>\n",
              "    <tr>\n",
              "      <th>960</th>\n",
              "      <th>6</th>\n",
              "      <td>8.40</td>\n",
              "      <td>504</td>\n",
              "      <td>408000</td>\n",
              "      <td>78</td>\n",
              "      <td>522</td>\n",
              "      <td>0.25</td>\n",
              "    </tr>\n",
              "    <tr>\n",
              "      <th>968</th>\n",
              "      <th>2</th>\n",
              "      <td>8.40</td>\n",
              "      <td>564</td>\n",
              "      <td>312000</td>\n",
              "      <td>78</td>\n",
              "      <td>610</td>\n",
              "      <td>0.25</td>\n",
              "    </tr>\n",
              "    <tr>\n",
              "      <th>970</th>\n",
              "      <th>10</th>\n",
              "      <td>9.48</td>\n",
              "      <td>468</td>\n",
              "      <td>396000</td>\n",
              "      <td>78</td>\n",
              "      <td>505</td>\n",
              "      <td>0.25</td>\n",
              "    </tr>\n",
              "    <tr>\n",
              "      <th>994</th>\n",
              "      <th>5</th>\n",
              "      <td>9.24</td>\n",
              "      <td>456</td>\n",
              "      <td>420000</td>\n",
              "      <td>78</td>\n",
              "      <td>460</td>\n",
              "      <td>0.25</td>\n",
              "    </tr>\n",
              "  </tbody>\n",
              "</table>\n",
              "<p>116 rows × 6 columns</p>\n",
              "</div>"
            ],
            "text/plain": [
              "                   percent  expect    wage  month  hours  coef\n",
              "person_id part_id                                             \n",
              "26        3           7.68     204  240000     78    218  0.25\n",
              "63        1           6.60     240  432000     78    261  0.25\n",
              "67        1           7.56     348  432000     78    385  0.25\n",
              "77        9           7.80     384  492000     78    370  0.00\n",
              "128       10          7.92     348  396000     78    353  0.25\n",
              "...                    ...     ...     ...    ...    ...   ...\n",
              "956       3           8.40     456  240000     78    482  0.25\n",
              "960       6           8.40     504  408000     78    522  0.25\n",
              "968       2           8.40     564  312000     78    610  0.25\n",
              "970       10          9.48     468  396000     78    505  0.25\n",
              "994       5           9.24     456  420000     78    460  0.25\n",
              "\n",
              "[116 rows x 6 columns]"
            ]
          },
          "metadata": {
            "tags": []
          },
          "execution_count": 157
        }
      ]
    }
  ]
}